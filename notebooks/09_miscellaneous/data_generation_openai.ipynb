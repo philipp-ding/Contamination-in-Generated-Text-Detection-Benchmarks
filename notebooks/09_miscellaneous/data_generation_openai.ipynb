{
 "cells": [
  {
   "cell_type": "markdown",
   "source": [
    "# 0. Setup\n",
    "\n",
    "Script to regenerate the DetectRL data using new OpenAI models. \n",
    "In the current setup the arxiv data is processed using the  \"gpt-4.1-2025-04-14\" model.\n",
    "The prompts of the DetectRL dataset are used. \n",
    "Has a debug mode to test the setup by generating two samples."
   ],
   "metadata": {
    "collapsed": false
   },
   "id": "df45a95bf61b2cd8"
  },
  {
   "cell_type": "code",
   "execution_count": 1,
   "id": "initial_id",
   "metadata": {
    "collapsed": true,
    "ExecuteTime": {
     "end_time": "2025-07-20T12:09:52.930958400Z",
     "start_time": "2025-07-20T12:09:51.921354700Z"
    }
   },
   "outputs": [],
   "source": [
    "import sys\n",
    "import time\n",
    "import pandas as pd\n",
    "import json\n",
    "import nltk\n",
    "from tqdm import tqdm\n",
    "import ast"
   ]
  },
  {
   "cell_type": "code",
   "execution_count": 2,
   "outputs": [],
   "source": [
    "BASE_DIR = \"../../\"\n",
    "sys.path.append(BASE_DIR)\n",
    "\n",
    "from src.openAI_client import (\n",
    "    client,\n",
    "    generate_openai_response,\n",
    "    generate_jsonl_file\n",
    ")\n",
    "\n",
    "from src.general_functions_and_patterns_for_detection import (\n",
    "    json_path_abstract,\n",
    "    RESULT_DIR\n",
    ")\n",
    "\n",
    "DEBUG = True"
   ],
   "metadata": {
    "collapsed": false,
    "ExecuteTime": {
     "end_time": "2025-07-20T12:09:53.411026Z",
     "start_time": "2025-07-20T12:09:52.930958400Z"
    }
   },
   "id": "70788fe1c1626bdb"
  },
  {
   "cell_type": "code",
   "execution_count": 3,
   "outputs": [
    {
     "data": {
      "text/plain": "   id                                              title  \\\n0   1  Calculation of prompt diphoton production cros...   \n1   2  The evolution of the Earth-Moon system based o...   \n2   3  Bosonic characters of atomic Cooper pairs acro...   \n3   4  Polymer Quantum Mechanics and its Continuum Limit   \n4   5  Numerical solution of shock and ramp compressi...   \n\n                                            abstract  \\\n0  A fully differential calculation in perturbati...   \n1  The evolution of Earth-Moon system is describe...   \n2  We study the two-particle wave function of pai...   \n3  A rather non-standard quantum representation o...   \n4  A general formulation was developed to represe...   \n\n                                       direct_prompt llm_type domain  \\\n0  This study presents a comprehensive calculatio...  ChatGPT  arxiv   \n1  The understanding of the dynamic evolution of ...  ChatGPT  arxiv   \n2  This article investigates the bosonic characte...  ChatGPT  arxiv   \n3  Polymer quantum mechanics emerges as a fascina...  ChatGPT  arxiv   \n4  This study presents a numerical approach for s...  ChatGPT  arxiv   \n\n                                     prompt_few_shot  \\\n0  In this study, we present a comprehensive calc...   \n1  In this study, we explore the evolutionary dyn...   \n2  We investigate the bosonic characteristics of ...   \n3  Polymer quantum mechanics is a framework that ...   \n4  This study presents a numerical approach for s...   \n\n                                         prompt_SICO  \\\n0  Abstract:In this study, we present a comprehen...   \n1  Abstract:The evolution of the Earth-Moon syste...   \n2  Abstract:This article investigates the bosonic...   \n3  Abstract:In this article, we explore the fasci...   \n4  Abstract:In this study, we present a numerical...   \n\n                             paraphrase_polish_human  \\\n0  This study presents a comprehensive and fully ...   \n1  The evolution of the Earth-Moon system is addr...   \n2  We investigate the characteristics of the two-...   \n3  The polymer representation, a distinct quantum...   \n4  This study presents a comprehensive formulatio...   \n\n                               paraphrase_polish_llm  ...  \\\n0  This study presents a comprehensive calculatio...  ...   \n1  The dynamic evolution of the Earth-Moon system...  ...   \n2  This article delves into the examination of th...  ...   \n3  Polymer quantum mechanics presents an intrigui...  ...   \n4  This study presents a numerical approach for s...  ...   \n\n                         adversarial_character_human  \\\n0  A fully differential calCulation in perturbati...   \n1  The evolution of Earth-Moon system is describe...   \n2  We study the two-particle wave function of pai...   \n3  A rather non-standard quantum representaiton o...   \n4  A general formulation was developed to represe...   \n\n                           adversarial_character_llm  \\\n0  This study presents a comprehensive calculatio...   \n1  The understanding of the dynamic evolution of ...   \n2  This article investigates the bosonic characte...   \n3  Polymer quantum mechanics emreges as a fascina...   \n4  This study presents a numerical approach for s...   \n\n                              adversarial_word_human  \\\n0  A fully disparity calculation in perturbative ...   \n1  The evolution of Earth-Moon system is outlines...   \n2  We study the two-particle wave function of pai...   \n3  A rather non-standard quantum representation o...   \n4  A general formulation was developed to represe...   \n\n                                adversarial_word_llm  \\\n0  This study presents a full calculation of prom...   \n1  The understanding of the dynamic evolution of ...   \n2  This art investigates the bosonic characterist...   \n3  Polymer quantum mechanics emerges as a fascina...   \n4  This study presents a numerical approach for s...   \n\n                    adversarial_character_word_human  \\\n0  A fully differential calculation in perturbati...   \n1  The evolution of Earth-Moon system is describe...   \n2  We study the two-particle wave function of pai...   \n3  A rather non-standard quantum representation o...   \n4  A general formulation was developed to represe...   \n\n                      adversarial_character_word_llm  \\\n0  This study рresents a comprehensive calculatio...   \n1  The understanding of the dynamic changing of t...   \n2  This article investigates the bosonic characte...   \n3  Polymer quantum mechanics e merges as a fascin...   \n4  This study presents a numerical approach for s...   \n\n                   paraphrase_back_translation_human  \\\n0  The calculation of the complete difference in ...   \n1  The evolution of the global system is describe...   \n2  We have studied two particle wave functions pa...   \n3  The quantum quantum quantum quantum quantum qu...   \n4  The general formula is developed to indicate t...   \n\n                     paraphrase_back_translation_llm  \\\n0  This study lists the comprehensive calculation...   \n1  The understanding of the dynamic evolution of ...   \n2  This article investigates the bone characteris...   \n3  Polymerization quantum mechanics is a fascinat...   \n4  This study proposes a numerical method that co...   \n\n                             paraphrase_dipper_human  \\\n0  The calculation includes all next-to-leading-o...   \n1  The closest distance of the Moon to the Earth ...   \n2  The bosoniccharacter of the two-particle wave ...   \n3  Thisapproach has been followed in a symmetric ...   \n4  The numerical methods were found to be flexibl...   \n\n                               paraphrase_dipper_llm  \n0  To determine the cross sections, we use the mo...  \n1  In this study, we present a new approach to th...  \n2  The authors use a theoretical framework based ...  \n3  This article delves into the study of polymer ...  \n4  The proposed methodology combines a finite ele...  \n\n[5 rows x 22 columns]",
      "text/html": "<div>\n<style scoped>\n    .dataframe tbody tr th:only-of-type {\n        vertical-align: middle;\n    }\n\n    .dataframe tbody tr th {\n        vertical-align: top;\n    }\n\n    .dataframe thead th {\n        text-align: right;\n    }\n</style>\n<table border=\"1\" class=\"dataframe\">\n  <thead>\n    <tr style=\"text-align: right;\">\n      <th></th>\n      <th>id</th>\n      <th>title</th>\n      <th>abstract</th>\n      <th>direct_prompt</th>\n      <th>llm_type</th>\n      <th>domain</th>\n      <th>prompt_few_shot</th>\n      <th>prompt_SICO</th>\n      <th>paraphrase_polish_human</th>\n      <th>paraphrase_polish_llm</th>\n      <th>...</th>\n      <th>adversarial_character_human</th>\n      <th>adversarial_character_llm</th>\n      <th>adversarial_word_human</th>\n      <th>adversarial_word_llm</th>\n      <th>adversarial_character_word_human</th>\n      <th>adversarial_character_word_llm</th>\n      <th>paraphrase_back_translation_human</th>\n      <th>paraphrase_back_translation_llm</th>\n      <th>paraphrase_dipper_human</th>\n      <th>paraphrase_dipper_llm</th>\n    </tr>\n  </thead>\n  <tbody>\n    <tr>\n      <th>0</th>\n      <td>1</td>\n      <td>Calculation of prompt diphoton production cros...</td>\n      <td>A fully differential calculation in perturbati...</td>\n      <td>This study presents a comprehensive calculatio...</td>\n      <td>ChatGPT</td>\n      <td>arxiv</td>\n      <td>In this study, we present a comprehensive calc...</td>\n      <td>Abstract:In this study, we present a comprehen...</td>\n      <td>This study presents a comprehensive and fully ...</td>\n      <td>This study presents a comprehensive calculatio...</td>\n      <td>...</td>\n      <td>A fully differential calCulation in perturbati...</td>\n      <td>This study presents a comprehensive calculatio...</td>\n      <td>A fully disparity calculation in perturbative ...</td>\n      <td>This study presents a full calculation of prom...</td>\n      <td>A fully differential calculation in perturbati...</td>\n      <td>This study рresents a comprehensive calculatio...</td>\n      <td>The calculation of the complete difference in ...</td>\n      <td>This study lists the comprehensive calculation...</td>\n      <td>The calculation includes all next-to-leading-o...</td>\n      <td>To determine the cross sections, we use the mo...</td>\n    </tr>\n    <tr>\n      <th>1</th>\n      <td>2</td>\n      <td>The evolution of the Earth-Moon system based o...</td>\n      <td>The evolution of Earth-Moon system is describe...</td>\n      <td>The understanding of the dynamic evolution of ...</td>\n      <td>ChatGPT</td>\n      <td>arxiv</td>\n      <td>In this study, we explore the evolutionary dyn...</td>\n      <td>Abstract:The evolution of the Earth-Moon syste...</td>\n      <td>The evolution of the Earth-Moon system is addr...</td>\n      <td>The dynamic evolution of the Earth-Moon system...</td>\n      <td>...</td>\n      <td>The evolution of Earth-Moon system is describe...</td>\n      <td>The understanding of the dynamic evolution of ...</td>\n      <td>The evolution of Earth-Moon system is outlines...</td>\n      <td>The understanding of the dynamic evolution of ...</td>\n      <td>The evolution of Earth-Moon system is describe...</td>\n      <td>The understanding of the dynamic changing of t...</td>\n      <td>The evolution of the global system is describe...</td>\n      <td>The understanding of the dynamic evolution of ...</td>\n      <td>The closest distance of the Moon to the Earth ...</td>\n      <td>In this study, we present a new approach to th...</td>\n    </tr>\n    <tr>\n      <th>2</th>\n      <td>3</td>\n      <td>Bosonic characters of atomic Cooper pairs acro...</td>\n      <td>We study the two-particle wave function of pai...</td>\n      <td>This article investigates the bosonic characte...</td>\n      <td>ChatGPT</td>\n      <td>arxiv</td>\n      <td>We investigate the bosonic characteristics of ...</td>\n      <td>Abstract:This article investigates the bosonic...</td>\n      <td>We investigate the characteristics of the two-...</td>\n      <td>This article delves into the examination of th...</td>\n      <td>...</td>\n      <td>We study the two-particle wave function of pai...</td>\n      <td>This article investigates the bosonic characte...</td>\n      <td>We study the two-particle wave function of pai...</td>\n      <td>This art investigates the bosonic characterist...</td>\n      <td>We study the two-particle wave function of pai...</td>\n      <td>This article investigates the bosonic characte...</td>\n      <td>We have studied two particle wave functions pa...</td>\n      <td>This article investigates the bone characteris...</td>\n      <td>The bosoniccharacter of the two-particle wave ...</td>\n      <td>The authors use a theoretical framework based ...</td>\n    </tr>\n    <tr>\n      <th>3</th>\n      <td>4</td>\n      <td>Polymer Quantum Mechanics and its Continuum Limit</td>\n      <td>A rather non-standard quantum representation o...</td>\n      <td>Polymer quantum mechanics emerges as a fascina...</td>\n      <td>ChatGPT</td>\n      <td>arxiv</td>\n      <td>Polymer quantum mechanics is a framework that ...</td>\n      <td>Abstract:In this article, we explore the fasci...</td>\n      <td>The polymer representation, a distinct quantum...</td>\n      <td>Polymer quantum mechanics presents an intrigui...</td>\n      <td>...</td>\n      <td>A rather non-standard quantum representaiton o...</td>\n      <td>Polymer quantum mechanics emreges as a fascina...</td>\n      <td>A rather non-standard quantum representation o...</td>\n      <td>Polymer quantum mechanics emerges as a fascina...</td>\n      <td>A rather non-standard quantum representation o...</td>\n      <td>Polymer quantum mechanics e merges as a fascin...</td>\n      <td>The quantum quantum quantum quantum quantum qu...</td>\n      <td>Polymerization quantum mechanics is a fascinat...</td>\n      <td>Thisapproach has been followed in a symmetric ...</td>\n      <td>This article delves into the study of polymer ...</td>\n    </tr>\n    <tr>\n      <th>4</th>\n      <td>5</td>\n      <td>Numerical solution of shock and ramp compressi...</td>\n      <td>A general formulation was developed to represe...</td>\n      <td>This study presents a numerical approach for s...</td>\n      <td>ChatGPT</td>\n      <td>arxiv</td>\n      <td>This study presents a numerical approach for s...</td>\n      <td>Abstract:In this study, we present a numerical...</td>\n      <td>This study presents a comprehensive formulatio...</td>\n      <td>This study presents a numerical approach for s...</td>\n      <td>...</td>\n      <td>A general formulation was developed to represe...</td>\n      <td>This study presents a numerical approach for s...</td>\n      <td>A general formulation was developed to represe...</td>\n      <td>This study presents a numerical approach for s...</td>\n      <td>A general formulation was developed to represe...</td>\n      <td>This study presents a numerical approach for s...</td>\n      <td>The general formula is developed to indicate t...</td>\n      <td>This study proposes a numerical method that co...</td>\n      <td>The numerical methods were found to be flexibl...</td>\n      <td>The proposed methodology combines a finite ele...</td>\n    </tr>\n  </tbody>\n</table>\n<p>5 rows × 22 columns</p>\n</div>"
     },
     "execution_count": 3,
     "metadata": {},
     "output_type": "execute_result"
    }
   ],
   "source": [
    "# Load JSON data\n",
    "with open(json_path_abstract, 'r', encoding='utf-8') as file:\n",
    "    data = json.load(file)\n",
    "\n",
    "# Convert to DataFrame\n",
    "df = pd.DataFrame(data)\n",
    "df.head()"
   ],
   "metadata": {
    "collapsed": false,
    "ExecuteTime": {
     "end_time": "2025-07-20T12:09:54.043506100Z",
     "start_time": "2025-07-20T12:09:53.414002800Z"
    }
   },
   "id": "3613aec76506c73b"
  },
  {
   "cell_type": "code",
   "execution_count": 5,
   "outputs": [
    {
     "name": "stderr",
     "output_type": "stream",
     "text": [
      "2it [00:00, 80.37it/s]\n"
     ]
    },
    {
     "data": {
      "text/plain": "'/mnt/hdd-baracuda/pdingfelder/Masterarbeit/src/..//results//arxiv_gpt-4.1-2025-04-14_batch_processing.jsonl'"
     },
     "execution_count": 5,
     "metadata": {},
     "output_type": "execute_result"
    }
   ],
   "source": [
    "if DEBUG:\n",
    "    df = df.iloc[100:102]\n",
    "print(len(df))\n",
    "path_jsonl_dataframe = generate_jsonl_file(df)\n",
    "path_jsonl_dataframe"
   ],
   "metadata": {
    "collapsed": false,
    "ExecuteTime": {
     "end_time": "2025-07-20T12:09:54.140700600Z",
     "start_time": "2025-07-20T12:09:54.042506600Z"
    }
   },
   "id": "e4be3bb82bde82e2"
  },
  {
   "cell_type": "markdown",
   "source": [
    "# 1. Data Generation"
   ],
   "metadata": {
    "collapsed": false
   },
   "id": "f59b328bfccae119"
  },
  {
   "cell_type": "markdown",
   "source": [
    "## 1.1 Batch generation"
   ],
   "metadata": {
    "collapsed": false
   },
   "id": "5c34bbaff6a7021"
  },
  {
   "cell_type": "code",
   "execution_count": 6,
   "outputs": [
    {
     "name": "stdout",
     "output_type": "stream",
     "text": [
      "FileObject(id='file-F6XoTHWtELenNxrtCXjHyQ', bytes=1574, created_at=1753013394, filename='arxiv_gpt-4.1-2025-04-14_batch_processing.jsonl', object='file', purpose='batch', status='processed', expires_at=None, status_details=None)\n"
     ]
    }
   ],
   "source": [
    "domain: str = \"arxiv\"\n",
    "model: str = \"gpt-4.1-2025-04-14\"\n",
    "# input_path = f\"../results/{domain}_{model}_batch_processing.jsonl\"\n",
    "input_path: str = path_jsonl_dataframe\n",
    "\n",
    "batch_input_file = client.files.create(\n",
    "    file=open(input_path, \"rb\"),\n",
    "    purpose=\"batch\"\n",
    ")\n",
    "\n",
    "print(batch_input_file)"
   ],
   "metadata": {
    "collapsed": false,
    "ExecuteTime": {
     "end_time": "2025-07-20T12:09:54.826924700Z",
     "start_time": "2025-07-20T12:09:54.077360400Z"
    }
   },
   "id": "bdd0ad2dee190f2"
  },
  {
   "cell_type": "code",
   "execution_count": 7,
   "outputs": [],
   "source": [
    "batch_input_file_id = batch_input_file.id\n",
    "batch_object = client.batches.create(\n",
    "    input_file_id=batch_input_file_id,\n",
    "    endpoint=\"/v1/responses\",\n",
    "    completion_window=\"24h\",\n",
    "    metadata={\n",
    "        \"description\": \"Arxiv data 100-102 for batch processing\"\n",
    "    }\n",
    ")"
   ],
   "metadata": {
    "collapsed": false,
    "ExecuteTime": {
     "end_time": "2025-07-20T12:09:55.181127700Z",
     "start_time": "2025-07-20T12:09:54.839170Z"
    }
   },
   "id": "5ba67ac1f5238179"
  },
  {
   "cell_type": "code",
   "execution_count": 8,
   "outputs": [
    {
     "name": "stdout",
     "output_type": "stream",
     "text": [
      "Batch(id='batch_687cdc92fbb8819087a0756f000cd27c', completion_window='24h', created_at=1753013394, endpoint='/v1/responses', input_file_id='file-F6XoTHWtELenNxrtCXjHyQ', object='batch', status='validating', cancelled_at=None, cancelling_at=None, completed_at=None, error_file_id=None, errors=None, expired_at=None, expires_at=1753099794, failed_at=None, finalizing_at=None, in_progress_at=None, metadata={'description': 'Arxiv data 100-102 for batch processing'}, output_file_id=None, request_counts=BatchRequestCounts(completed=0, failed=0, total=0))\n"
     ]
    }
   ],
   "source": [
    "batch = client.batches.retrieve(batch_object.id)\n",
    "print(batch)"
   ],
   "metadata": {
    "collapsed": false,
    "ExecuteTime": {
     "end_time": "2025-07-20T12:09:55.392094500Z",
     "start_time": "2025-07-20T12:09:55.187125800Z"
    }
   },
   "id": "54af2b6380128754"
  },
  {
   "cell_type": "code",
   "execution_count": 9,
   "outputs": [
    {
     "data": {
      "text/plain": "<openai._legacy_response.HttpxBinaryResponseContent at 0x79a8a77ffaa0>"
     },
     "execution_count": 9,
     "metadata": {},
     "output_type": "execute_result"
    }
   ],
   "source": [
    "while(batch.status != \"completed\"):\n",
    "    time.sleep(20)\n",
    "    batch = client.batches.retrieve(batch_object.id)\n",
    "file_response = client.files.content(batch.output_file_id)\n",
    "file_response"
   ],
   "metadata": {
    "collapsed": false,
    "ExecuteTime": {
     "end_time": "2025-07-20T12:11:16.765393400Z",
     "start_time": "2025-07-20T12:09:55.396094800Z"
    }
   },
   "id": "bed3084003dff645"
  },
  {
   "cell_type": "code",
   "execution_count": 10,
   "outputs": [
    {
     "data": {
      "text/plain": "   custom_id                                         message_id  \\\n0  arxiv_101  msg_687cdc97a2a881909b38b6e562a4338a0485d76066...   \n1  arxiv_102  msg_687cdcb4f8088194a0df9dee886713de08e6e610cb...   \n\n                                                text  \n0  Stringy instantons, arising from D-brane confi...  \n1  We present simultaneous near-infrared (NIR) an...  ",
      "text/html": "<div>\n<style scoped>\n    .dataframe tbody tr th:only-of-type {\n        vertical-align: middle;\n    }\n\n    .dataframe tbody tr th {\n        vertical-align: top;\n    }\n\n    .dataframe thead th {\n        text-align: right;\n    }\n</style>\n<table border=\"1\" class=\"dataframe\">\n  <thead>\n    <tr style=\"text-align: right;\">\n      <th></th>\n      <th>custom_id</th>\n      <th>message_id</th>\n      <th>text</th>\n    </tr>\n  </thead>\n  <tbody>\n    <tr>\n      <th>0</th>\n      <td>arxiv_101</td>\n      <td>msg_687cdc97a2a881909b38b6e562a4338a0485d76066...</td>\n      <td>Stringy instantons, arising from D-brane confi...</td>\n    </tr>\n    <tr>\n      <th>1</th>\n      <td>arxiv_102</td>\n      <td>msg_687cdcb4f8088194a0df9dee886713de08e6e610cb...</td>\n      <td>We present simultaneous near-infrared (NIR) an...</td>\n    </tr>\n  </tbody>\n</table>\n</div>"
     },
     "execution_count": 10,
     "metadata": {},
     "output_type": "execute_result"
    }
   ],
   "source": [
    "# Step 1: Replace JSON-style null/true/false with Python equivalents\n",
    "safe_data = (\n",
    "    file_response.text\n",
    "    .replace('null', 'None')\n",
    "    .replace('true', 'True')\n",
    "    .replace('false', 'False')\n",
    ")\n",
    "\n",
    "# Step 2: Split into lines\n",
    "lines = safe_data.strip().split('\\n')\n",
    "\n",
    "# Step 3: Parse each line using ast.literal_eval\n",
    "outputs = []\n",
    "for line in lines:\n",
    "    obj = ast.literal_eval(line)\n",
    "    output_list = obj[\"response\"][\"body\"][\"output\"]\n",
    "    for item in output_list:\n",
    "        outputs.append({\n",
    "            \"custom_id\": obj[\"custom_id\"],\n",
    "            \"message_id\": item[\"id\"],\n",
    "            \"text\": item[\"content\"][0][\"text\"]\n",
    "        })\n",
    "\n",
    "# Step 4: Create DataFrame\n",
    "df_outputs = pd.DataFrame(outputs)\n",
    "df_outputs.head()"
   ],
   "metadata": {
    "collapsed": false,
    "ExecuteTime": {
     "end_time": "2025-07-20T12:11:16.817549300Z",
     "start_time": "2025-07-20T12:11:16.768388900Z"
    }
   },
   "id": "d2b9a84b25192a97"
  },
  {
   "cell_type": "code",
   "execution_count": 11,
   "outputs": [],
   "source": [
    "_path = f\"{RESULT_DIR}/data_generation/gpt-4.1-arxiv_generations_test.parquet\" if DEBUG else f\"{RESULT_DIR}/data_generation/gpt-4.1-arxiv_generations.parquet\"\n",
    "df_outputs.to_parquet(_path)"
   ],
   "metadata": {
    "collapsed": false,
    "ExecuteTime": {
     "end_time": "2025-07-20T12:11:16.831554500Z",
     "start_time": "2025-07-20T12:11:16.776957500Z"
    }
   },
   "id": "876648ded7882d64"
  },
  {
   "cell_type": "markdown",
   "source": [
    "## 1.2 Default generation without batch processing"
   ],
   "metadata": {
    "collapsed": false
   },
   "id": "e4ff40dc262846fb"
  },
  {
   "cell_type": "code",
   "execution_count": 12,
   "outputs": [
    {
     "name": "stderr",
     "output_type": "stream",
     "text": [
      "2it [00:09,  4.98s/it]"
     ]
    },
    {
     "name": "stdout",
     "output_type": "stream",
     "text": [
      "✅ Saved to output_with_prompts.parquet\n"
     ]
    },
    {
     "name": "stderr",
     "output_type": "stream",
     "text": [
      "\n"
     ]
    }
   ],
   "source": [
    "# Prepare new column\n",
    "model_name = \"gpt-4.1\"\n",
    "new_col = f\"direct_prompt_{model_name}\"\n",
    "df[new_col] = None\n",
    "\n",
    "_path = f\"{RESULT_DIR}/data_generation/gpt-4.1-arxiv_generations_no_batch_processing_test.parquet\" if DEBUG else f\"{RESULT_DIR}/data_generation/gpt-4.1-arxiv_generations_no_batch_processing.parquet\"\n",
    "\n",
    "# Process only first 2 rows if DEBUG mode is true\n",
    "for idx, row in tqdm(df.iterrows()):\n",
    "    sentences_num = len(nltk.sent_tokenize(row[\"abstract\"]))\n",
    "    title = row[\"title\"]\n",
    "    out = generate_openai_response(sentences_num, title)\n",
    "    df.at[idx, new_col] = out\n",
    "\n",
    "# ▪️ Save to Parquet\n",
    "df.to_parquet(_path, index=False)\n",
    "print(\"✅ Saved to output_with_prompts.parquet\")"
   ],
   "metadata": {
    "collapsed": false,
    "ExecuteTime": {
     "end_time": "2025-07-20T12:11:26.801000100Z",
     "start_time": "2025-07-20T12:11:16.803168400Z"
    }
   },
   "id": "aade32fc51ce7c09"
  },
  {
   "cell_type": "code",
   "execution_count": 13,
   "outputs": [
    {
     "data": {
      "text/plain": "100    Stringy instantons—non-perturbative effects ar...\n101    We present multiband photometric observations ...\nName: direct_prompt_gpt-4.1, dtype: object"
     },
     "execution_count": 13,
     "metadata": {},
     "output_type": "execute_result"
    }
   ],
   "source": [
    "df[\"direct_prompt_gpt-4.1\"].head(10)"
   ],
   "metadata": {
    "collapsed": false,
    "ExecuteTime": {
     "end_time": "2025-07-20T12:11:26.848850200Z",
     "start_time": "2025-07-20T12:11:26.783394100Z"
    }
   },
   "id": "13b669471bfb3f64"
  }
 ],
 "metadata": {
  "kernelspec": {
   "display_name": "Python 3",
   "language": "python",
   "name": "python3"
  },
  "language_info": {
   "codemirror_mode": {
    "name": "ipython",
    "version": 2
   },
   "file_extension": ".py",
   "mimetype": "text/x-python",
   "name": "python",
   "nbconvert_exporter": "python",
   "pygments_lexer": "ipython2",
   "version": "2.7.6"
  }
 },
 "nbformat": 4,
 "nbformat_minor": 5
}
