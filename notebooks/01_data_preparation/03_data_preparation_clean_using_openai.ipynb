{
 "cells": [
  {
   "cell_type": "markdown",
   "source": [
    "# 1. Setup"
   ],
   "metadata": {
    "collapsed": false
   },
   "id": "d5a8a99d83bc83f6"
  },
  {
   "cell_type": "code",
   "execution_count": null,
   "outputs": [],
   "source": [
    "import pandas as pd\n",
    "import os\n",
    "from hashlib import sha512\n",
    "from tqdm import tqdm\n",
    "import sys\n",
    "import time\n",
    "import glob\n",
    "import re\n",
    "\n",
    "# === CONFIG ===\n",
    "BASE_DIR = \"../../\"\n",
    "SRC_DIR = f\"{BASE_DIR}/src\"\n",
    "sys.path.append(BASE_DIR)\n",
    "sys.path.append(SRC_DIR)\n",
    "\n",
    "from src.general_functions_and_patterns_for_detection import (\n",
    "    load_dataframe_from_json,\n",
    "    get_info_based_on_input_path,\n",
    "    read_files,\n",
    "    PATTERN_BEGINNING_LLM_SENTENCE,\n",
    "    PATTERN_ENDING_LLM_SENTENCE,\n",
    "    BASE_DIR, RESULT_DIR, ORIGINAL_DATA_DIR, REGEX_CLEANED_FILES, RECLEANED_FILES_DIR,\n",
    "    DOMAINS,\n",
    "    json_path_abstract,\n",
    "    json_path_writing,\n",
    "    json_path_xsum,\n",
    "    json_path_review,\n",
    ")\n",
    "\n",
    "from src.fewshot_prompting import (\n",
    "    REGULAR_EXPRESSION,\n",
    "    get_and_format,\n",
    "    generate_jsonl_file\n",
    ")\n",
    "\n",
    "\n",
    "from src.openAI_client import (\n",
    "    client, \n",
    "    download_if_recleaning,\n",
    "    get_batches\n",
    ")"
   ],
   "metadata": {
    "collapsed": false
   },
   "id": "7fd71d0df75b1b62"
  },
  {
   "cell_type": "markdown",
   "source": [
    "# 2. Load data of all domains"
   ],
   "metadata": {
    "collapsed": false
   },
   "id": "9f7bb558c97ec3bd"
  },
  {
   "cell_type": "code",
   "execution_count": 2,
   "outputs": [
    {
     "data": {
      "text/plain": "    id                                              story  \\\n0    1  The mountain stood still and large beneath the...   \n1    2  \"Sadie! I told you not to stand under the tree...   \n2    3  Janice turned to me, her big blue eyes still f...   \n3    4  Roslyn stepped down the ladder facing forward ...   \n4    5  \" Aw, do n' t cry my sweet little girl! You we...   \n5    6  \" Do you ever think about what it' s like up t...   \n6    7  The world came crashing down in minutes. Many ...   \n7    8  \"Mommy, I' m scared. \"The little girl stood at...   \n8    9  The blind pilots fly And we thank them for the...   \n9   10  We' d been wandering for what felt like years....   \n10  11  \" ArcanoCorp technical support; This is Mike s...   \n11  12  \" Floride! \" I exclamed. That was the answer. ...   \n12  13  This is my first one of these, so be gentle. E...   \n13  14  It was a Monday morning when I woke up, groggy...   \n14  15  I was ushered into a dark room, where I see a ...   \n15  16  \" For the safety and well-being of all local c...   \n16  17  The humans have very poor memory. It' s fascin...   \n17  18  The Council of Elders had gathered, as was tra...   \n18  19  \" What does this mean? \" I said. \" Oh, your so...   \n19  20  Tugtug was Declan' s favorite toy. Daddy gave ...   \n\n                                         story_prompt  \\\n0                              Through Iron And Flame   \n1   You are at the park with your kids, when you s...   \n2   \" My fellow Americans... \" The newly elected P...   \n3                                What' s on the tape?   \n4   Write a story that is perfectly normal, until ...   \n5   Even with all the stars on the sky, the night ...   \n6   Over night, 90 % of the world' s population ha...   \n7   Gay marriage is now legal woldwide, and the co...   \n8                                    No Ordinary Mist   \n9   Describe a game of Civilization from the persp...   \n10  You are a spell support technician at a large ...   \n11  You are an 17 year old teenager during the zom...   \n12                     Fire does n' t go out anymore.   \n13  Write an alt history where another sentient ra...   \n14                                    The Cocaine God   \n15  Your T. V. suddenly turns on by itself mid-lun...   \n16   the internet becomes conscious. what does it do?   \n17  Every 2000 years a Lottery is drawn in the Uni...   \n18  When anyone is born, they are given a playing ...   \n19  A toy boat floats out to sea and has an advent...   \n\n                                        direct_prompt llm_type  \\\n0   Through Iron and FlameDeep in the heart of the...  ChatGPT   \n1   It was a sunny Saturday afternoon, and I decid...  ChatGPT   \n2   \"My fellow Americans,\" the newly elected Presi...  ChatGPT   \n3   As Anna rummaged through her grandmother's att...  ChatGPT   \n4   Once upon a time, in the small town of Willowb...  ChatGPT   \n5   Even with all the stars scattered across the e...  ChatGPT   \n6   Overnight, a cataclysmic event struck the worl...  ChatGPT   \n7   In a world where gay marriage had become legal...  ChatGPT   \n8   In the small town of Elmwood, nestled between ...  ChatGPT   \n9   I had spent my entire life in the bustling cit...  ChatGPT   \n10  In the bustling city of Arcanum, I worked as a...  ChatGPT   \n11  Ever since the zombie apocalypse began, life h...  ChatGPT   \n12  Once upon a time, in a quaint little town nest...  ChatGPT   \n13  In an alternate timeline, a second sentient ra...  ChatGPT   \n14  In the deepest corners of the rainforests, whe...  ChatGPT   \n15  Sophie sat at her kitchen table, enjoying a pe...  ChatGPT   \n16  The internet, a vast network of interconnected...  ChatGPT   \n17  Once every 2000 years, a grand lottery was hel...  ChatGPT   \n18  Once upon a time, in the distant kingdom of Ca...  ChatGPT   \n19  Once upon a time in a small coastal town, ther...  ChatGPT   \n\n            domain                            paraphrase_polish_human  \\\n0   writing_prompt  The massive mountain loomed beneath the Warrio...   \n1   writing_prompt  \"Sadie! I explicitly told you to avoid standin...   \n2   writing_prompt  Janice turned to me, her big, innocent blue ey...   \n3   writing_prompt  Roslyn descended the ladder, facing forward, a...   \n4   writing_prompt  \"Oh, don't cry, my sweet little girl! You were...   \n5   writing_prompt  \"Do you ever think about what it's like up the...   \n6   writing_prompt  The world crumbled in a matter of minutes, sha...   \n7   writing_prompt  \"Mummy, I'm scared,\" the little girl quivered ...   \n8   writing_prompt  The blind pilots soar through the skies, and w...   \n9   writing_prompt  We had been wandering for what felt like years...   \n10  writing_prompt  ArcanoCorp Technical Support. This is Mike spe...   \n11  writing_prompt  \"Fluoride!\" I exclaimed. That was the answer. ...   \n12  writing_prompt  This is my first attempt at something like thi...   \n13  writing_prompt  On a murky Monday morning, I awoke feeling gro...   \n14  writing_prompt  I was led into a dimly lit room, where a man s...   \n15  writing_prompt  Silently, the warning for the safety and well-...   \n16  writing_prompt  Humans possess remarkably poor memory, which I...   \n17  writing_prompt  The Council of Elders had convened, adhering t...   \n18  writing_prompt  \"What does this mean?\" I inquired, perplexed.\"...   \n19  writing_prompt  Tugtug was Declan's favorite toy. Daddy had gi...   \n\n                                paraphrase_polish_llm  \\\n0   Through Iron and FlameDeep in the heart of the...   \n1   It was a sunny Saturday afternoon, and I decid...   \n2   \"My fellow Americans,\" the newly elected Presi...   \n3   As Anna carefully rummaged through her grandmo...   \n4   Once upon a time, in the quaint town of Willow...   \n5   Despite the multitude of stars scattered acros...   \n6   In the blink of an eye, a cataclysmic event ra...   \n7   In a world where gay marriage had become legal...   \n8   In the serene town of Elmwood, nestled amidst ...   \n9   I had spent my entire life in the bustling cit...   \n10  In the vibrant city of Arcanum, I worked as a ...   \n11  Ever since the harrowing arrival of the zombie...   \n12  Once upon a time, in a charming little town ne...   \n13  In an alternate timeline, a second sentient ra...   \n14  In the depths of the rainforest, where sunligh...   \n15  Sitting alone at her kitchen table, Sophie sav...   \n16  The Internet, an expansive network of intercon...   \n17  Once every 2,000 years, the vast expanse of th...   \n18  Once upon a time, in the distant kingdom of Ca...   \n19  Once upon a time, in a quaint coastal town, li...   \n\n                                      prompt_few_shot  \\\n0   The war raged on, its fury echoing through the...   \n1   It was a sunny afternoon at the park, and I wa...   \n2   \"My fellow Americans,\" the newly elected Presi...   \n3   I stumbled upon an old cardboard box in the co...   \n4   Sarah woke up early in the morning, the sunlig...   \n5   Even with all the stars in the sky, the night ...   \n6   Overnight, the world was consumed by an eerie ...   \n7   The world had changed overnight, and the conse...   \n8   In the small town of Willowbrook, a dense fog ...   \n9   From my humble abode, nestled within the heart...   \n10  As a spell support technician at EnchantCo, my...   \n11  I never thought my journey to find an orthodon...   \n12  Fire does n't go out anymore. It was a phenome...   \n13  In the annals of history, there existed a rema...   \n14  He was a myth, a legend whispered in the darke...   \n15  I sat alone in my living room, enjoying a quie...   \n16  The emergence of consciousness within the vast...   \n17  Every 2000 years, a cosmic event known as the ...   \n18  In the Kingdom of Hearts, a land ruled by a ro...   \n19  The sun glistened on the calm surface of the s...   \n\n                                          prompt_SICO  ...  \\\n0   Through Iron And FlameBarefoot and fearless, s...  ...   \n1   So, dude, picture this: I'm at the park with m...  ...   \n2   \"My fellow Americans,\" the newly elected Presi...  ...   \n3   As I rummaged through the dusty box that had b...  ...   \n4   Samantha woke up to the sound of birds chirpin...  ...   \n5   Even with all the stars sprinkling the sky abo...  ...   \n6   Wow, have you ever imagined waking up to a wor...  ...   \n7   Who would've thought that it would come to thi...  ...   \n8   In the sleepy town of Mistwood, nestled amidst...  ...   \n9   I couldn't contain my excitement as the city b...  ...   \n10  I was a spell support technician at a large ma...  ...   \n11  So there I was, a dumb 17-year-old trying to s...  ...   \n12  Fire doesn't go out anymore. It used to, back ...  ...   \n13  You know what's crazy? I once read this book a...  ...   \n14  In the heart of the bustling city, a figure em...  ...   \n15  I was enjoying a quiet lunch at home when, out...  ...   \n16  You know, it was just a regular day, like any ...  ...   \n17  Every 2000 years, a Lottery is drawn in the va...  ...   \n18  When anyone is born in our town, a peculiar tr...  ...   \n19  The ornately painted toy boat gently floated o...  ...   \n\n                            adversarial_character_llm  \\\n0   Through Iron and FlameDeep in the heart of the...   \n1   It was a sunny Saturday afternoon, and I decid...   \n2   \"yM fellow Americans,\" the newly elected Presi...   \n3   As Anna rummaged through her grandmother's att...   \n4   Once upon a time, in the small town of Willowb...   \n5   Even with all the stars scattered across the e...   \n6   Overinght, a cataclysmic event struck the worl...   \n7   In a orld where gay marriage had become legal ...   \n8   In the small tCwn of TElmwood, nestled between...   \n9   I had spent my entire life in the bustling cty...   \n10  In the bustling city of Arcanum, I worked as a...   \n11  Ever since the zombie apocalypse began, life h...   \n12  Once upon a time, in a qXuaint little otwn nes...   \n13  In an atlernate timeline, a second sentient ra...   \n14  In the deepest corners of the rainforests, whe...   \n15  SBophie sat at her kitchen table, enjoying a p...   \n16  The internet, a vast network of interconnected...   \n17  Once every 2000 yeaes, a grand lottery was hel...   \n18  Once upon a tFme, in the distant kingdom of Ca...   \n19  Once upon a time in a sYall coastal town, ther...   \n\n                               adversarial_word_human  \\\n0   The mountain stood furthermore and large benea...   \n1   \"Lottie! I told you not to stand under the tre...   \n2   Janice turned to me, her big blue eyes still e...   \n3   Roslyn stepped down the ladder facing forward ...   \n4   \" Aw, do n' t cry my belle little girl! You we...   \n5   \" Do you ever figured about what it' s like up...   \n6   The globe came crashing down in minutes. Many ...   \n7   \"Mama, I' m scared. \"The little maid stood at ...   \n8   The blind pilots hovers And we acknowledgement...   \n9   We' d been wandering for what suspected like y...   \n10  \" ArcanoCorp technical assistance; This is Mik...   \n11  \" Floride! \" me exclamed. That was the address...   \n12  This is my first one of these, so be moderate....   \n13  It was a Tonight morning when I woke up, grogg...   \n14  I was ushered into a dark room, where I visual...   \n15  \" For the safety and well-being of all local c...   \n16  The humans have hugely poor memory. It' s begu...   \n17  The Council of Preceding had gathered, as was ...   \n18  \" What wanna this mean? \" I declare. \" Oh, you...   \n19  Tugtug was Declan' s favorite jeu. Pope gave h...   \n\n                                 adversarial_word_llm  \\\n0   Through Iron and FlameDeep in the heart of the...   \n1   It was a sunny Saturday afternoon, and I decid...   \n2   \"My fellow Americano,\" the newly elected Presi...   \n3   As Anna rummaged through her grandmother's att...   \n4   Once upon a time, in the small midtown of Will...   \n5   Even with all the stars scattered across the e...   \n6   Overnight, a cataclysmic happenings struck the...   \n7   Between a world where gay marriage had become ...   \n8   In the marginal town of Elmwood, nestled betwe...   \n9   I had spent my entire life in the bustling cit...   \n10  In the bustling city of Arcanum, I worked as a...   \n11  Ever since the zombie apocalypse began, life h...   \n12  Once upon a minute, in a quaint little town ne...   \n13  From an alternate timeline, a second sentient ...   \n14  In the profound corners of the rainforests, wh...   \n15  Sophie sat at her kitchen table, enjoying a pe...   \n16  The internet, a vast network of interconnected...   \n17  Once every 2000 years, a prodigious lottery wa...   \n18  Once upon a time, in the distant kingdom of Ca...   \n19  Once upon a time in a small coastal town, ther...   \n\n                     adversarial_character_word_human  \\\n0   The mountain stod still and large beneath the ...   \n1   \"Sadie! j told you not to stand under the tree...   \n2   Janice turned to me, her Ьig blue eyes still f...   \n3   Roslyn stepped down the ladder facing forward ...   \n4   \" Aw, do n' t weep my sweet little girl! You w...   \n5   \" Do you ever think about what it' s loves up ...   \n6   The world ϲame crashing down in minutes. Many ...   \n7   \"Mommy, I' m terrified. \"The little girl stood...   \n8   The blind pilots fly And we thank them for the...   \n9   We' d been wandering for what felt loves years...   \n10  \" ArcanoCorp technical support; Th is is Mike ...   \n11  \" Floride! \" I exclamed. That was the answers....   \n12  This is my fi rst one of these, so be gentle. ...   \n13  It was a Monday m orning when I woke up, grogg...   \n14  I was ushered into a dark sala, where I see a ...   \n15  \" For the safety and well-being of all local c...   \n16  The humans have very pоor memory. It' s intrig...   \n17  De Council of Elders had gathered, as was trad...   \n18  \" Whar does this mean? \" I told. \" Oh, your so...   \n19  Tugtg was Declan' s favorite toy. Daddy gavе h...   \n\n                       adversarial_character_word_llm  \\\n0   Through Iron and FlameDeep in the heart of the...   \n1   It was a sunny Saturday afternoon, and I decid...   \n2   \"My fellow Aｍericans,\" the newly elected Presi...   \n3   As Anna rummaged through her grandmother's att...   \n4   After upon a time, in the small town of Willow...   \n5   Even with all the stars scattered across the e...   \n6   Overnight, a cataclysmic event struck the worl...   \n7   In a world where gay marriage had become legal...   \n8   During the small town of Elmwood, nestled betw...   \n9   I had spent my entire life in the bustling cit...   \n10  In the bustling city of Arcanum, I workеd as a...   \n11  Ever since the zombie apocalypse began, lie ha...   \n12  Once upon a time, in a quaint little town nest...   \n13  In an alternating timeline, a second sentient ...   \n14  In the deepest corners of the rainforests, whe...   \n15  Sophie sat at her kitchen table, enjoying a pе...   \n16  The internet, a vast network of interconnected...   \n17  Once every 2000 years, a graոd lottery was hel...   \n18  Once upon a time, in the distant kingdom of Ca...   \n19  Once upon a time in a small coastal town, ther...   \n\n                    paraphrase_back_translation_human  \\\n0   The mountain stood below the warrior to stand ...   \n1   \"Sadi! I tell you not to stand under the tree ...   \n2   Janice turned to me, and her big blue eyes wer...   \n3   Roslyn walked down the ladder and headed forwa...   \n4   \"Oh, cry, my cute little girl! You are very qu...   \n5   \"Have you ever thought about it?\" Her hair was...   \n6   A few minutes later, the world collapsed. Many...   \n7   \"Mom, I'm scared.\" The little girl stood on th...   \n8   Blind pilots flew. We thank them for their mis...   \n9   We have been wandering for many years. I could...   \n10  \"Arcanocorp's technical support; this is what ...   \n11  \"Flord!\" I ignored it. That's the answer. Over...   \n12  This is my first, so it is gentle. Everything ...   \n13  It was Monday morning, I woke up, and my short...   \n14  I was brought into a dark room, where I saw a ...   \n15  \"In order to ensure the safety and well -being...   \n16  Human memory is poor. It's interesting. Many o...   \n17  Presbyterian directors will gather together li...   \n18  \"What does this mean?\" I said. \"Oh, your son g...   \n19  Tugtug is Declan's favorite toy. Dad gave him ...   \n\n                      paraphrase_back_translation_llm  \\\n0   It is an extraordinary journey through iron an...   \n1   It was a sunny Saturday afternoon, and I decid...   \n2   The newly elected president began to say, \"My ...   \n3   When Anna read on her grandmother's loft, she ...   \n4   Once upon a time, everything was calm and stab...   \n5   Even though all the stars are scattered on the...   \n6   Overnight, a catastrophic event attacked the w...   \n7   In a world of homosexual marriage that is lega...   \n8   In Elmwood, which is located in the hills of t...   \n9   I spent all my life in the city of Elmdale, wh...   \n10  In Arcanum in the Hexei City, I have been a sp...   \n11  Since the beginning of Zombie Revelation, life...   \n12  Once upon a time, a strange phenomenon occurre...   \n13  In the replacement timetable, the second emoti...   \n14  In the deepest corner of the rain forest, the ...   \n15  Sophie sat on her kitchen table and enjoyed a ...   \n16  The Internet is a huge interconnected device a...   \n17  Once every 2000, a big lottery was held in the...   \n18  Once upon a time, a unique tradition shaped th...   \n19  Once upon a time in a coastal town, there was ...   \n\n                              paraphrase_dipper_human  \\\n0   It had not trembled since the day when the peo...   \n1   I told you not to stand under the tree during ...   \n2   “Daddy,” she said, “what does the president me...   \n3   She caught it with her left hand. She lugged t...   \n4   She's heavy. She was so quiet before, even wit...   \n5   The city was far away. Her hair was spread out...   \n6   Many of us were asleep when it happened and di...   \n7   \" The little girl stood at the top of the stai...   \n8   The Sun burns hot, bold, and bright. What is t...   \n9   We made camp near the mountain. It was suppose...   \n10  \"Ah, yes. First, did you check your connection...   \n11  I exclaimed. \"It must have been keeping the ba...   \n12  Everything burns. Chicago, London twice before...   \n13  “Good morning, Dad.” The sky was still dark an...   \n14  I know why I’m here. The last words I want to ...   \n15  I had not yet turned on the TV. I had not turn...   \n16  They can’t even remember each other’s names an...   \n17  A dozen or so familiar faces—Zorxx the Great, ...   \n18  I asked. \"Oh, your son has got the law card. H...   \n19  Daddy liked boats too. He had his own Tugtug, ...   \n\n                                paraphrase_dipper_llm  \\\n0   A young blacksmith named Alistair, with a fier...   \n1   They were so excited when we arrived that they...   \n2   \"I stand before you today to make a deeply per...   \n3   She blew off the dust and opened it with care....   \n4   The sun shone brightly in the clear blue sky, ...   \n5   For generations, men had gazed at the sky, mar...   \n6   The survivors, cautiously emerging from their ...   \n7   The world was experiencing a kind of pseudo-zo...   \n8   The No Ordinary Mist was said to grant unimagi...   \n9   As a humble citizen, I had little influence on...   \n10  My job was to travel around the city and repai...   \n11  In the midst of the chaos, she had one nagging...   \n12  It started as a curiosity, with families gathe...   \n13  For centuries, unaware of each other's existen...   \n14  People from all over the world ventured into t...   \n15  As she took a bite of her sandwich, the screen...   \n16  With this new self-awareness, the internet beg...   \n17  This time, to the astonishment of all, the nam...   \n18  The royal decree decreed that the higher the c...   \n19  One day, he decided to launch his favorite toy...   \n\n                                           icl_prompt  \n0                                                 NaN  \n1                                                 NaN  \n2   \"My fellow Americans,\" the newly elected Presi...  \n3                                                 NaN  \n4   Emily woke up to the sound of birds chirping o...  \n5                                                 NaN  \n6                                                 NaN  \n7                                                 NaN  \n8                                                 NaN  \n9                                                 NaN  \n10                                                NaN  \n11                                                NaN  \n12                                                NaN  \n13                                                NaN  \n14                                                NaN  \n15                                                NaN  \n16                                                NaN  \n17                                                NaN  \n18                                                NaN  \n19                                                NaN  \n\n[20 rows x 21 columns]",
      "text/html": "<div>\n<style scoped>\n    .dataframe tbody tr th:only-of-type {\n        vertical-align: middle;\n    }\n\n    .dataframe tbody tr th {\n        vertical-align: top;\n    }\n\n    .dataframe thead th {\n        text-align: right;\n    }\n</style>\n<table border=\"1\" class=\"dataframe\">\n  <thead>\n    <tr style=\"text-align: right;\">\n      <th></th>\n      <th>id</th>\n      <th>story</th>\n      <th>story_prompt</th>\n      <th>direct_prompt</th>\n      <th>llm_type</th>\n      <th>domain</th>\n      <th>paraphrase_polish_human</th>\n      <th>paraphrase_polish_llm</th>\n      <th>prompt_few_shot</th>\n      <th>prompt_SICO</th>\n      <th>...</th>\n      <th>adversarial_character_llm</th>\n      <th>adversarial_word_human</th>\n      <th>adversarial_word_llm</th>\n      <th>adversarial_character_word_human</th>\n      <th>adversarial_character_word_llm</th>\n      <th>paraphrase_back_translation_human</th>\n      <th>paraphrase_back_translation_llm</th>\n      <th>paraphrase_dipper_human</th>\n      <th>paraphrase_dipper_llm</th>\n      <th>icl_prompt</th>\n    </tr>\n  </thead>\n  <tbody>\n    <tr>\n      <th>0</th>\n      <td>1</td>\n      <td>The mountain stood still and large beneath the...</td>\n      <td>Through Iron And Flame</td>\n      <td>Through Iron and FlameDeep in the heart of the...</td>\n      <td>ChatGPT</td>\n      <td>writing_prompt</td>\n      <td>The massive mountain loomed beneath the Warrio...</td>\n      <td>Through Iron and FlameDeep in the heart of the...</td>\n      <td>The war raged on, its fury echoing through the...</td>\n      <td>Through Iron And FlameBarefoot and fearless, s...</td>\n      <td>...</td>\n      <td>Through Iron and FlameDeep in the heart of the...</td>\n      <td>The mountain stood furthermore and large benea...</td>\n      <td>Through Iron and FlameDeep in the heart of the...</td>\n      <td>The mountain stod still and large beneath the ...</td>\n      <td>Through Iron and FlameDeep in the heart of the...</td>\n      <td>The mountain stood below the warrior to stand ...</td>\n      <td>It is an extraordinary journey through iron an...</td>\n      <td>It had not trembled since the day when the peo...</td>\n      <td>A young blacksmith named Alistair, with a fier...</td>\n      <td>NaN</td>\n    </tr>\n    <tr>\n      <th>1</th>\n      <td>2</td>\n      <td>\"Sadie! I told you not to stand under the tree...</td>\n      <td>You are at the park with your kids, when you s...</td>\n      <td>It was a sunny Saturday afternoon, and I decid...</td>\n      <td>ChatGPT</td>\n      <td>writing_prompt</td>\n      <td>\"Sadie! I explicitly told you to avoid standin...</td>\n      <td>It was a sunny Saturday afternoon, and I decid...</td>\n      <td>It was a sunny afternoon at the park, and I wa...</td>\n      <td>So, dude, picture this: I'm at the park with m...</td>\n      <td>...</td>\n      <td>It was a sunny Saturday afternoon, and I decid...</td>\n      <td>\"Lottie! I told you not to stand under the tre...</td>\n      <td>It was a sunny Saturday afternoon, and I decid...</td>\n      <td>\"Sadie! j told you not to stand under the tree...</td>\n      <td>It was a sunny Saturday afternoon, and I decid...</td>\n      <td>\"Sadi! I tell you not to stand under the tree ...</td>\n      <td>It was a sunny Saturday afternoon, and I decid...</td>\n      <td>I told you not to stand under the tree during ...</td>\n      <td>They were so excited when we arrived that they...</td>\n      <td>NaN</td>\n    </tr>\n    <tr>\n      <th>2</th>\n      <td>3</td>\n      <td>Janice turned to me, her big blue eyes still f...</td>\n      <td>\" My fellow Americans... \" The newly elected P...</td>\n      <td>\"My fellow Americans,\" the newly elected Presi...</td>\n      <td>ChatGPT</td>\n      <td>writing_prompt</td>\n      <td>Janice turned to me, her big, innocent blue ey...</td>\n      <td>\"My fellow Americans,\" the newly elected Presi...</td>\n      <td>\"My fellow Americans,\" the newly elected Presi...</td>\n      <td>\"My fellow Americans,\" the newly elected Presi...</td>\n      <td>...</td>\n      <td>\"yM fellow Americans,\" the newly elected Presi...</td>\n      <td>Janice turned to me, her big blue eyes still e...</td>\n      <td>\"My fellow Americano,\" the newly elected Presi...</td>\n      <td>Janice turned to me, her Ьig blue eyes still f...</td>\n      <td>\"My fellow Aｍericans,\" the newly elected Presi...</td>\n      <td>Janice turned to me, and her big blue eyes wer...</td>\n      <td>The newly elected president began to say, \"My ...</td>\n      <td>“Daddy,” she said, “what does the president me...</td>\n      <td>\"I stand before you today to make a deeply per...</td>\n      <td>\"My fellow Americans,\" the newly elected Presi...</td>\n    </tr>\n    <tr>\n      <th>3</th>\n      <td>4</td>\n      <td>Roslyn stepped down the ladder facing forward ...</td>\n      <td>What' s on the tape?</td>\n      <td>As Anna rummaged through her grandmother's att...</td>\n      <td>ChatGPT</td>\n      <td>writing_prompt</td>\n      <td>Roslyn descended the ladder, facing forward, a...</td>\n      <td>As Anna carefully rummaged through her grandmo...</td>\n      <td>I stumbled upon an old cardboard box in the co...</td>\n      <td>As I rummaged through the dusty box that had b...</td>\n      <td>...</td>\n      <td>As Anna rummaged through her grandmother's att...</td>\n      <td>Roslyn stepped down the ladder facing forward ...</td>\n      <td>As Anna rummaged through her grandmother's att...</td>\n      <td>Roslyn stepped down the ladder facing forward ...</td>\n      <td>As Anna rummaged through her grandmother's att...</td>\n      <td>Roslyn walked down the ladder and headed forwa...</td>\n      <td>When Anna read on her grandmother's loft, she ...</td>\n      <td>She caught it with her left hand. She lugged t...</td>\n      <td>She blew off the dust and opened it with care....</td>\n      <td>NaN</td>\n    </tr>\n    <tr>\n      <th>4</th>\n      <td>5</td>\n      <td>\" Aw, do n' t cry my sweet little girl! You we...</td>\n      <td>Write a story that is perfectly normal, until ...</td>\n      <td>Once upon a time, in the small town of Willowb...</td>\n      <td>ChatGPT</td>\n      <td>writing_prompt</td>\n      <td>\"Oh, don't cry, my sweet little girl! You were...</td>\n      <td>Once upon a time, in the quaint town of Willow...</td>\n      <td>Sarah woke up early in the morning, the sunlig...</td>\n      <td>Samantha woke up to the sound of birds chirpin...</td>\n      <td>...</td>\n      <td>Once upon a time, in the small town of Willowb...</td>\n      <td>\" Aw, do n' t cry my belle little girl! You we...</td>\n      <td>Once upon a time, in the small midtown of Will...</td>\n      <td>\" Aw, do n' t weep my sweet little girl! You w...</td>\n      <td>After upon a time, in the small town of Willow...</td>\n      <td>\"Oh, cry, my cute little girl! You are very qu...</td>\n      <td>Once upon a time, everything was calm and stab...</td>\n      <td>She's heavy. She was so quiet before, even wit...</td>\n      <td>The sun shone brightly in the clear blue sky, ...</td>\n      <td>Emily woke up to the sound of birds chirping o...</td>\n    </tr>\n    <tr>\n      <th>5</th>\n      <td>6</td>\n      <td>\" Do you ever think about what it' s like up t...</td>\n      <td>Even with all the stars on the sky, the night ...</td>\n      <td>Even with all the stars scattered across the e...</td>\n      <td>ChatGPT</td>\n      <td>writing_prompt</td>\n      <td>\"Do you ever think about what it's like up the...</td>\n      <td>Despite the multitude of stars scattered acros...</td>\n      <td>Even with all the stars in the sky, the night ...</td>\n      <td>Even with all the stars sprinkling the sky abo...</td>\n      <td>...</td>\n      <td>Even with all the stars scattered across the e...</td>\n      <td>\" Do you ever figured about what it' s like up...</td>\n      <td>Even with all the stars scattered across the e...</td>\n      <td>\" Do you ever think about what it' s loves up ...</td>\n      <td>Even with all the stars scattered across the e...</td>\n      <td>\"Have you ever thought about it?\" Her hair was...</td>\n      <td>Even though all the stars are scattered on the...</td>\n      <td>The city was far away. Her hair was spread out...</td>\n      <td>For generations, men had gazed at the sky, mar...</td>\n      <td>NaN</td>\n    </tr>\n    <tr>\n      <th>6</th>\n      <td>7</td>\n      <td>The world came crashing down in minutes. Many ...</td>\n      <td>Over night, 90 % of the world' s population ha...</td>\n      <td>Overnight, a cataclysmic event struck the worl...</td>\n      <td>ChatGPT</td>\n      <td>writing_prompt</td>\n      <td>The world crumbled in a matter of minutes, sha...</td>\n      <td>In the blink of an eye, a cataclysmic event ra...</td>\n      <td>Overnight, the world was consumed by an eerie ...</td>\n      <td>Wow, have you ever imagined waking up to a wor...</td>\n      <td>...</td>\n      <td>Overinght, a cataclysmic event struck the worl...</td>\n      <td>The globe came crashing down in minutes. Many ...</td>\n      <td>Overnight, a cataclysmic happenings struck the...</td>\n      <td>The world ϲame crashing down in minutes. Many ...</td>\n      <td>Overnight, a cataclysmic event struck the worl...</td>\n      <td>A few minutes later, the world collapsed. Many...</td>\n      <td>Overnight, a catastrophic event attacked the w...</td>\n      <td>Many of us were asleep when it happened and di...</td>\n      <td>The survivors, cautiously emerging from their ...</td>\n      <td>NaN</td>\n    </tr>\n    <tr>\n      <th>7</th>\n      <td>8</td>\n      <td>\"Mommy, I' m scared. \"The little girl stood at...</td>\n      <td>Gay marriage is now legal woldwide, and the co...</td>\n      <td>In a world where gay marriage had become legal...</td>\n      <td>ChatGPT</td>\n      <td>writing_prompt</td>\n      <td>\"Mummy, I'm scared,\" the little girl quivered ...</td>\n      <td>In a world where gay marriage had become legal...</td>\n      <td>The world had changed overnight, and the conse...</td>\n      <td>Who would've thought that it would come to thi...</td>\n      <td>...</td>\n      <td>In a orld where gay marriage had become legal ...</td>\n      <td>\"Mama, I' m scared. \"The little maid stood at ...</td>\n      <td>Between a world where gay marriage had become ...</td>\n      <td>\"Mommy, I' m terrified. \"The little girl stood...</td>\n      <td>In a world where gay marriage had become legal...</td>\n      <td>\"Mom, I'm scared.\" The little girl stood on th...</td>\n      <td>In a world of homosexual marriage that is lega...</td>\n      <td>\" The little girl stood at the top of the stai...</td>\n      <td>The world was experiencing a kind of pseudo-zo...</td>\n      <td>NaN</td>\n    </tr>\n    <tr>\n      <th>8</th>\n      <td>9</td>\n      <td>The blind pilots fly And we thank them for the...</td>\n      <td>No Ordinary Mist</td>\n      <td>In the small town of Elmwood, nestled between ...</td>\n      <td>ChatGPT</td>\n      <td>writing_prompt</td>\n      <td>The blind pilots soar through the skies, and w...</td>\n      <td>In the serene town of Elmwood, nestled amidst ...</td>\n      <td>In the small town of Willowbrook, a dense fog ...</td>\n      <td>In the sleepy town of Mistwood, nestled amidst...</td>\n      <td>...</td>\n      <td>In the small tCwn of TElmwood, nestled between...</td>\n      <td>The blind pilots hovers And we acknowledgement...</td>\n      <td>In the marginal town of Elmwood, nestled betwe...</td>\n      <td>The blind pilots fly And we thank them for the...</td>\n      <td>During the small town of Elmwood, nestled betw...</td>\n      <td>Blind pilots flew. We thank them for their mis...</td>\n      <td>In Elmwood, which is located in the hills of t...</td>\n      <td>The Sun burns hot, bold, and bright. What is t...</td>\n      <td>The No Ordinary Mist was said to grant unimagi...</td>\n      <td>NaN</td>\n    </tr>\n    <tr>\n      <th>9</th>\n      <td>10</td>\n      <td>We' d been wandering for what felt like years....</td>\n      <td>Describe a game of Civilization from the persp...</td>\n      <td>I had spent my entire life in the bustling cit...</td>\n      <td>ChatGPT</td>\n      <td>writing_prompt</td>\n      <td>We had been wandering for what felt like years...</td>\n      <td>I had spent my entire life in the bustling cit...</td>\n      <td>From my humble abode, nestled within the heart...</td>\n      <td>I couldn't contain my excitement as the city b...</td>\n      <td>...</td>\n      <td>I had spent my entire life in the bustling cty...</td>\n      <td>We' d been wandering for what suspected like y...</td>\n      <td>I had spent my entire life in the bustling cit...</td>\n      <td>We' d been wandering for what felt loves years...</td>\n      <td>I had spent my entire life in the bustling cit...</td>\n      <td>We have been wandering for many years. I could...</td>\n      <td>I spent all my life in the city of Elmdale, wh...</td>\n      <td>We made camp near the mountain. It was suppose...</td>\n      <td>As a humble citizen, I had little influence on...</td>\n      <td>NaN</td>\n    </tr>\n    <tr>\n      <th>10</th>\n      <td>11</td>\n      <td>\" ArcanoCorp technical support; This is Mike s...</td>\n      <td>You are a spell support technician at a large ...</td>\n      <td>In the bustling city of Arcanum, I worked as a...</td>\n      <td>ChatGPT</td>\n      <td>writing_prompt</td>\n      <td>ArcanoCorp Technical Support. This is Mike spe...</td>\n      <td>In the vibrant city of Arcanum, I worked as a ...</td>\n      <td>As a spell support technician at EnchantCo, my...</td>\n      <td>I was a spell support technician at a large ma...</td>\n      <td>...</td>\n      <td>In the bustling city of Arcanum, I worked as a...</td>\n      <td>\" ArcanoCorp technical assistance; This is Mik...</td>\n      <td>In the bustling city of Arcanum, I worked as a...</td>\n      <td>\" ArcanoCorp technical support; Th is is Mike ...</td>\n      <td>In the bustling city of Arcanum, I workеd as a...</td>\n      <td>\"Arcanocorp's technical support; this is what ...</td>\n      <td>In Arcanum in the Hexei City, I have been a sp...</td>\n      <td>\"Ah, yes. First, did you check your connection...</td>\n      <td>My job was to travel around the city and repai...</td>\n      <td>NaN</td>\n    </tr>\n    <tr>\n      <th>11</th>\n      <td>12</td>\n      <td>\" Floride! \" I exclamed. That was the answer. ...</td>\n      <td>You are an 17 year old teenager during the zom...</td>\n      <td>Ever since the zombie apocalypse began, life h...</td>\n      <td>ChatGPT</td>\n      <td>writing_prompt</td>\n      <td>\"Fluoride!\" I exclaimed. That was the answer. ...</td>\n      <td>Ever since the harrowing arrival of the zombie...</td>\n      <td>I never thought my journey to find an orthodon...</td>\n      <td>So there I was, a dumb 17-year-old trying to s...</td>\n      <td>...</td>\n      <td>Ever since the zombie apocalypse began, life h...</td>\n      <td>\" Floride! \" me exclamed. That was the address...</td>\n      <td>Ever since the zombie apocalypse began, life h...</td>\n      <td>\" Floride! \" I exclamed. That was the answers....</td>\n      <td>Ever since the zombie apocalypse began, lie ha...</td>\n      <td>\"Flord!\" I ignored it. That's the answer. Over...</td>\n      <td>Since the beginning of Zombie Revelation, life...</td>\n      <td>I exclaimed. \"It must have been keeping the ba...</td>\n      <td>In the midst of the chaos, she had one nagging...</td>\n      <td>NaN</td>\n    </tr>\n    <tr>\n      <th>12</th>\n      <td>13</td>\n      <td>This is my first one of these, so be gentle. E...</td>\n      <td>Fire does n' t go out anymore.</td>\n      <td>Once upon a time, in a quaint little town nest...</td>\n      <td>ChatGPT</td>\n      <td>writing_prompt</td>\n      <td>This is my first attempt at something like thi...</td>\n      <td>Once upon a time, in a charming little town ne...</td>\n      <td>Fire does n't go out anymore. It was a phenome...</td>\n      <td>Fire doesn't go out anymore. It used to, back ...</td>\n      <td>...</td>\n      <td>Once upon a time, in a qXuaint little otwn nes...</td>\n      <td>This is my first one of these, so be moderate....</td>\n      <td>Once upon a minute, in a quaint little town ne...</td>\n      <td>This is my fi rst one of these, so be gentle. ...</td>\n      <td>Once upon a time, in a quaint little town nest...</td>\n      <td>This is my first, so it is gentle. Everything ...</td>\n      <td>Once upon a time, a strange phenomenon occurre...</td>\n      <td>Everything burns. Chicago, London twice before...</td>\n      <td>It started as a curiosity, with families gathe...</td>\n      <td>NaN</td>\n    </tr>\n    <tr>\n      <th>13</th>\n      <td>14</td>\n      <td>It was a Monday morning when I woke up, groggy...</td>\n      <td>Write an alt history where another sentient ra...</td>\n      <td>In an alternate timeline, a second sentient ra...</td>\n      <td>ChatGPT</td>\n      <td>writing_prompt</td>\n      <td>On a murky Monday morning, I awoke feeling gro...</td>\n      <td>In an alternate timeline, a second sentient ra...</td>\n      <td>In the annals of history, there existed a rema...</td>\n      <td>You know what's crazy? I once read this book a...</td>\n      <td>...</td>\n      <td>In an atlernate timeline, a second sentient ra...</td>\n      <td>It was a Tonight morning when I woke up, grogg...</td>\n      <td>From an alternate timeline, a second sentient ...</td>\n      <td>It was a Monday m orning when I woke up, grogg...</td>\n      <td>In an alternating timeline, a second sentient ...</td>\n      <td>It was Monday morning, I woke up, and my short...</td>\n      <td>In the replacement timetable, the second emoti...</td>\n      <td>“Good morning, Dad.” The sky was still dark an...</td>\n      <td>For centuries, unaware of each other's existen...</td>\n      <td>NaN</td>\n    </tr>\n    <tr>\n      <th>14</th>\n      <td>15</td>\n      <td>I was ushered into a dark room, where I see a ...</td>\n      <td>The Cocaine God</td>\n      <td>In the deepest corners of the rainforests, whe...</td>\n      <td>ChatGPT</td>\n      <td>writing_prompt</td>\n      <td>I was led into a dimly lit room, where a man s...</td>\n      <td>In the depths of the rainforest, where sunligh...</td>\n      <td>He was a myth, a legend whispered in the darke...</td>\n      <td>In the heart of the bustling city, a figure em...</td>\n      <td>...</td>\n      <td>In the deepest corners of the rainforests, whe...</td>\n      <td>I was ushered into a dark room, where I visual...</td>\n      <td>In the profound corners of the rainforests, wh...</td>\n      <td>I was ushered into a dark sala, where I see a ...</td>\n      <td>In the deepest corners of the rainforests, whe...</td>\n      <td>I was brought into a dark room, where I saw a ...</td>\n      <td>In the deepest corner of the rain forest, the ...</td>\n      <td>I know why I’m here. The last words I want to ...</td>\n      <td>People from all over the world ventured into t...</td>\n      <td>NaN</td>\n    </tr>\n    <tr>\n      <th>15</th>\n      <td>16</td>\n      <td>\" For the safety and well-being of all local c...</td>\n      <td>Your T. V. suddenly turns on by itself mid-lun...</td>\n      <td>Sophie sat at her kitchen table, enjoying a pe...</td>\n      <td>ChatGPT</td>\n      <td>writing_prompt</td>\n      <td>Silently, the warning for the safety and well-...</td>\n      <td>Sitting alone at her kitchen table, Sophie sav...</td>\n      <td>I sat alone in my living room, enjoying a quie...</td>\n      <td>I was enjoying a quiet lunch at home when, out...</td>\n      <td>...</td>\n      <td>SBophie sat at her kitchen table, enjoying a p...</td>\n      <td>\" For the safety and well-being of all local c...</td>\n      <td>Sophie sat at her kitchen table, enjoying a pe...</td>\n      <td>\" For the safety and well-being of all local c...</td>\n      <td>Sophie sat at her kitchen table, enjoying a pе...</td>\n      <td>\"In order to ensure the safety and well -being...</td>\n      <td>Sophie sat on her kitchen table and enjoyed a ...</td>\n      <td>I had not yet turned on the TV. I had not turn...</td>\n      <td>As she took a bite of her sandwich, the screen...</td>\n      <td>NaN</td>\n    </tr>\n    <tr>\n      <th>16</th>\n      <td>17</td>\n      <td>The humans have very poor memory. It' s fascin...</td>\n      <td>the internet becomes conscious. what does it do?</td>\n      <td>The internet, a vast network of interconnected...</td>\n      <td>ChatGPT</td>\n      <td>writing_prompt</td>\n      <td>Humans possess remarkably poor memory, which I...</td>\n      <td>The Internet, an expansive network of intercon...</td>\n      <td>The emergence of consciousness within the vast...</td>\n      <td>You know, it was just a regular day, like any ...</td>\n      <td>...</td>\n      <td>The internet, a vast network of interconnected...</td>\n      <td>The humans have hugely poor memory. It' s begu...</td>\n      <td>The internet, a vast network of interconnected...</td>\n      <td>The humans have very pоor memory. It' s intrig...</td>\n      <td>The internet, a vast network of interconnected...</td>\n      <td>Human memory is poor. It's interesting. Many o...</td>\n      <td>The Internet is a huge interconnected device a...</td>\n      <td>They can’t even remember each other’s names an...</td>\n      <td>With this new self-awareness, the internet beg...</td>\n      <td>NaN</td>\n    </tr>\n    <tr>\n      <th>17</th>\n      <td>18</td>\n      <td>The Council of Elders had gathered, as was tra...</td>\n      <td>Every 2000 years a Lottery is drawn in the Uni...</td>\n      <td>Once every 2000 years, a grand lottery was hel...</td>\n      <td>ChatGPT</td>\n      <td>writing_prompt</td>\n      <td>The Council of Elders had convened, adhering t...</td>\n      <td>Once every 2,000 years, the vast expanse of th...</td>\n      <td>Every 2000 years, a cosmic event known as the ...</td>\n      <td>Every 2000 years, a Lottery is drawn in the va...</td>\n      <td>...</td>\n      <td>Once every 2000 yeaes, a grand lottery was hel...</td>\n      <td>The Council of Preceding had gathered, as was ...</td>\n      <td>Once every 2000 years, a prodigious lottery wa...</td>\n      <td>De Council of Elders had gathered, as was trad...</td>\n      <td>Once every 2000 years, a graոd lottery was hel...</td>\n      <td>Presbyterian directors will gather together li...</td>\n      <td>Once every 2000, a big lottery was held in the...</td>\n      <td>A dozen or so familiar faces—Zorxx the Great, ...</td>\n      <td>This time, to the astonishment of all, the nam...</td>\n      <td>NaN</td>\n    </tr>\n    <tr>\n      <th>18</th>\n      <td>19</td>\n      <td>\" What does this mean? \" I said. \" Oh, your so...</td>\n      <td>When anyone is born, they are given a playing ...</td>\n      <td>Once upon a time, in the distant kingdom of Ca...</td>\n      <td>ChatGPT</td>\n      <td>writing_prompt</td>\n      <td>\"What does this mean?\" I inquired, perplexed.\"...</td>\n      <td>Once upon a time, in the distant kingdom of Ca...</td>\n      <td>In the Kingdom of Hearts, a land ruled by a ro...</td>\n      <td>When anyone is born in our town, a peculiar tr...</td>\n      <td>...</td>\n      <td>Once upon a tFme, in the distant kingdom of Ca...</td>\n      <td>\" What wanna this mean? \" I declare. \" Oh, you...</td>\n      <td>Once upon a time, in the distant kingdom of Ca...</td>\n      <td>\" Whar does this mean? \" I told. \" Oh, your so...</td>\n      <td>Once upon a time, in the distant kingdom of Ca...</td>\n      <td>\"What does this mean?\" I said. \"Oh, your son g...</td>\n      <td>Once upon a time, a unique tradition shaped th...</td>\n      <td>I asked. \"Oh, your son has got the law card. H...</td>\n      <td>The royal decree decreed that the higher the c...</td>\n      <td>NaN</td>\n    </tr>\n    <tr>\n      <th>19</th>\n      <td>20</td>\n      <td>Tugtug was Declan' s favorite toy. Daddy gave ...</td>\n      <td>A toy boat floats out to sea and has an advent...</td>\n      <td>Once upon a time in a small coastal town, ther...</td>\n      <td>ChatGPT</td>\n      <td>writing_prompt</td>\n      <td>Tugtug was Declan's favorite toy. Daddy had gi...</td>\n      <td>Once upon a time, in a quaint coastal town, li...</td>\n      <td>The sun glistened on the calm surface of the s...</td>\n      <td>The ornately painted toy boat gently floated o...</td>\n      <td>...</td>\n      <td>Once upon a time in a sYall coastal town, ther...</td>\n      <td>Tugtug was Declan' s favorite jeu. Pope gave h...</td>\n      <td>Once upon a time in a small coastal town, ther...</td>\n      <td>Tugtg was Declan' s favorite toy. Daddy gavе h...</td>\n      <td>Once upon a time in a small coastal town, ther...</td>\n      <td>Tugtug is Declan's favorite toy. Dad gave him ...</td>\n      <td>Once upon a time in a coastal town, there was ...</td>\n      <td>Daddy liked boats too. He had his own Tugtug, ...</td>\n      <td>One day, he decided to launch his favorite toy...</td>\n      <td>NaN</td>\n    </tr>\n  </tbody>\n</table>\n<p>20 rows × 21 columns</p>\n</div>"
     },
     "execution_count": 2,
     "metadata": {},
     "output_type": "execute_result"
    }
   ],
   "source": [
    "df_abstract = load_dataframe_from_json(json_path_abstract, filter_llm=False)\n",
    "df_writing = load_dataframe_from_json(json_path_writing, filter_llm=False)\n",
    "df_xsum = load_dataframe_from_json(json_path_xsum, filter_llm=False)\n",
    "df_review = load_dataframe_from_json(json_path_review, filter_llm=False)\n",
    "\n",
    "df_writing.head(20)"
   ],
   "metadata": {
    "collapsed": false,
    "ExecuteTime": {
     "end_time": "2025-09-18T10:33:55.348382700Z",
     "start_time": "2025-09-18T10:33:49.982841400Z"
    }
   },
   "id": "a1ff76a952dc62cd"
  },
  {
   "cell_type": "markdown",
   "source": [
    "# 3. Pattern for detection\n"
   ],
   "metadata": {
    "collapsed": false
   },
   "id": "492b8a19377416b4"
  },
  {
   "cell_type": "code",
   "execution_count": 3,
   "outputs": [
    {
     "name": "stdout",
     "output_type": "stream",
     "text": [
      "arxiv (abstract|academic article)\n",
      "yelp_review (review's first sentence|review)\n",
      "writing_prompt (given article title|provided article title)\n",
      "xsum (article)\n",
      "prompt_SICO (in a human\\s?\\w{0,20}\\s?style)\n",
      "paraphrase_polish_human (grammar[\\w\\s,]{1,40}spelling)|(spelling[\\w\\s,]{1,40}grammar)|(Improved sentence structure)\n",
      "paraphrase_polish_llm (grammar[\\w\\s,]{1,40}spelling)|(spelling[\\w\\s,]{1,40}grammar)|(Improved sentence structure)\n"
     ]
    }
   ],
   "source": [
    "for key, value in REGULAR_EXPRESSION.items():\n",
    "    REGULAR_EXPRESSION[key] = value.replace(PATTERN_BEGINNING_LLM_SENTENCE, \"\").replace(PATTERN_ENDING_LLM_SENTENCE, \"\")\n",
    "\n",
    "for k, v in REGULAR_EXPRESSION.items():\n",
    "    print(k, v)"
   ],
   "metadata": {
    "collapsed": false,
    "ExecuteTime": {
     "end_time": "2025-09-18T10:33:55.349367700Z",
     "start_time": "2025-09-18T10:33:55.345349300Z"
    }
   },
   "id": "49d86ec435afc9c"
  },
  {
   "cell_type": "markdown",
   "source": [
    "# 4. Clean-up using LLMs"
   ],
   "metadata": {
    "collapsed": false
   },
   "id": "5d2768b80d21d5c3"
  },
  {
   "cell_type": "markdown",
   "source": [
    "## 4.1 General information and function"
   ],
   "metadata": {
    "collapsed": false
   },
   "id": "257482ef4ec78a66"
  },
  {
   "cell_type": "markdown",
   "source": [
    "https://cookbook.openai.com/examples/gpt4-1_prompting_guide"
   ],
   "metadata": {
    "collapsed": false
   },
   "id": "19627b14fc14db36"
  },
  {
   "cell_type": "code",
   "execution_count": 4,
   "outputs": [
    {
     "data": {
      "text/plain": "'## Example 1\\nORIGINAL TEXT: Sure, here\\'s a draft of a five-sentence abstract in the style of a human author:In this paper, we present measurements of the velocity and temperature fields...\\nCLEANED VERSION: In this paper, we present measurements of the velocity and temperature fields...\\n\\n## Example 2\\nORIGINAL TEXT: Here is a 6 sentence abstract for the title \"Searching for Lee-Wick Gauge Bosons at the LHC\":Grinstein, O\\'Connell and Wise have recently extended the Standard Model to include Lee-Wick partners of the gauge bosons which predict negative-norm partners of the usual gauge fields. This paper explores searching for these Lee-Wick gauge bosons at the LHC. Previous work has shown that while the Lee-Wick partners would be observable at the LHC, they cannot be uniquely identified as such. \\nCLEANED VERSION: Grinstein, O\\'Connell and Wise have recently extended the Standard Model to include Lee-Wick partners of the gauge bosons which predict negative-norm partners of the usual gauge fields. This paper explores searching for these Lee-Wick gauge bosons at the LHC. Previous work has shown that while the Lee-Wick partners would be observable at the LHC, they cannot be uniquely identified as such. \\n\\n## Example 3\\nORIGINAL TEXT: This article investigates the scalar radius of the pion and its relationship with zeros in the form factor. The pion, being the lightest meson, plays a crucial role in understanding Quantum Chromo.\\nCLEANED VERSION: This article investigates the scalar radius of the pion and its relationship with zeros in the form factor. The pion, being the lightest meson, plays a crucial role in understanding Quantum Chromo.\\n\\n'"
     },
     "execution_count": 4,
     "metadata": {},
     "output_type": "execute_result"
    }
   ],
   "source": [
    "get_and_format(\"arxiv\", \"prompt_SICO\")"
   ],
   "metadata": {
    "collapsed": false,
    "ExecuteTime": {
     "end_time": "2025-09-18T10:34:01.915365100Z",
     "start_time": "2025-09-18T10:34:01.835089400Z"
    }
   },
   "id": "5f07724b23797495"
  },
  {
   "cell_type": "markdown",
   "source": [
    "## 4.2 Test Jsonl file generation"
   ],
   "metadata": {
    "collapsed": false
   },
   "id": "a3aaa2055fbca786"
  },
  {
   "cell_type": "code",
   "execution_count": 8,
   "outputs": [
    {
     "name": "stdout",
     "output_type": "stream",
     "text": [
      "processing df between 0:25\n"
     ]
    },
    {
     "data": {
      "text/plain": "                                 custom_id method            url  \\\n0            arxiv_1_direct_prompt_cleaned   POST  /v1/responses   \n1          arxiv_1_prompt_few_shot_cleaned   POST  /v1/responses   \n2              arxiv_1_prompt_SICO_cleaned   POST  /v1/responses   \n3  arxiv_1_paraphrase_polish_human_cleaned   POST  /v1/responses   \n4    arxiv_1_paraphrase_polish_llm_cleaned   POST  /v1/responses   \n\n                                                body  \n0  {'model': 'gpt-4.1-mini-2025-04-14', 'input': ...  \n1  {'model': 'gpt-4.1-mini-2025-04-14', 'input': ...  \n2  {'model': 'gpt-4.1-mini-2025-04-14', 'input': ...  \n3  {'model': 'gpt-4.1-mini-2025-04-14', 'input': ...  \n4  {'model': 'gpt-4.1-mini-2025-04-14', 'input': ...  ",
      "text/html": "<div>\n<style scoped>\n    .dataframe tbody tr th:only-of-type {\n        vertical-align: middle;\n    }\n\n    .dataframe tbody tr th {\n        vertical-align: top;\n    }\n\n    .dataframe thead th {\n        text-align: right;\n    }\n</style>\n<table border=\"1\" class=\"dataframe\">\n  <thead>\n    <tr style=\"text-align: right;\">\n      <th></th>\n      <th>custom_id</th>\n      <th>method</th>\n      <th>url</th>\n      <th>body</th>\n    </tr>\n  </thead>\n  <tbody>\n    <tr>\n      <th>0</th>\n      <td>arxiv_1_direct_prompt_cleaned</td>\n      <td>POST</td>\n      <td>/v1/responses</td>\n      <td>{'model': 'gpt-4.1-mini-2025-04-14', 'input': ...</td>\n    </tr>\n    <tr>\n      <th>1</th>\n      <td>arxiv_1_prompt_few_shot_cleaned</td>\n      <td>POST</td>\n      <td>/v1/responses</td>\n      <td>{'model': 'gpt-4.1-mini-2025-04-14', 'input': ...</td>\n    </tr>\n    <tr>\n      <th>2</th>\n      <td>arxiv_1_prompt_SICO_cleaned</td>\n      <td>POST</td>\n      <td>/v1/responses</td>\n      <td>{'model': 'gpt-4.1-mini-2025-04-14', 'input': ...</td>\n    </tr>\n    <tr>\n      <th>3</th>\n      <td>arxiv_1_paraphrase_polish_human_cleaned</td>\n      <td>POST</td>\n      <td>/v1/responses</td>\n      <td>{'model': 'gpt-4.1-mini-2025-04-14', 'input': ...</td>\n    </tr>\n    <tr>\n      <th>4</th>\n      <td>arxiv_1_paraphrase_polish_llm_cleaned</td>\n      <td>POST</td>\n      <td>/v1/responses</td>\n      <td>{'model': 'gpt-4.1-mini-2025-04-14', 'input': ...</td>\n    </tr>\n  </tbody>\n</table>\n</div>"
     },
     "execution_count": 8,
     "metadata": {},
     "output_type": "execute_result"
    }
   ],
   "source": [
    "os.makedirs(f\"{RESULT_DIR}/data_cleaning_gpt_4-1/\", exist_ok=True)\n",
    "generate_jsonl_file(df_abstract)\n",
    "domain: str = \"arxiv\"\n",
    "model: str = \"gpt-4.1-mini-2025-04-14\"\n",
    "part: int = 0\n",
    "_df_temp = pd.read_json(f\"{RESULT_DIR}/data_cleaning_gpt_4-1/{domain}_{model}_batch_processing_cleaning_all_columns_claude_v2_part{part}.jsonl\", lines=True).head(20)\n",
    "_df_temp.head()"
   ],
   "metadata": {
    "collapsed": false,
    "ExecuteTime": {
     "end_time": "2025-09-18T10:37:52.289053900Z",
     "start_time": "2025-09-18T10:37:52.222524700Z"
    }
   },
   "id": "4dd4e92ddd514967"
  },
  {
   "cell_type": "code",
   "execution_count": 9,
   "outputs": [],
   "source": [
    "example_prompt = _df_temp[\"body\"].iloc[0]\n",
    "example_prompt_user = example_prompt[\"input\"][1][\"content\"][0][\"text\"]\n",
    "example_prompt_system = example_prompt[\"input\"][0][\"content\"][0][\"text\"]"
   ],
   "metadata": {
    "collapsed": false,
    "ExecuteTime": {
     "end_time": "2025-09-18T10:38:02.990954600Z",
     "start_time": "2025-09-18T10:38:02.981955400Z"
    }
   },
   "id": "e68d8655322e61af"
  },
  {
   "cell_type": "code",
   "execution_count": 10,
   "outputs": [
    {
     "name": "stdout",
     "output_type": "stream",
     "text": [
      "SYSTEM_PROMPT: You are a helpful data cleaning assistant, that helps to clean frequent LLM patterns out of a dataset. You will receive the original prompt as well as the original LLM answer. The goal is to remove everything that is related to typical LLM answers or related to the prompt and to only return the text answer of the original task.\n",
      "\n",
      "# Instructions\n",
      "- remove all patterns that are typically starting phrases of an LLM response, like (^Here is.*?|^Here are.*?|^Here's.*?|^Sure,\\s?here.*?)[.:] at the beginning of the text\n",
      "- remove phrases provided to the LLM, like the abstract title\n",
      "- never remove any content, that is used by the LLM to answer the original prompt. Return the full text to answer the original prompt.\n",
      "- if the original LLM call results in a rejection (e.g. (.*I apologize, upon further reflection.*?|.*a fake review.*|.*((only)|(just)) a language model.*|.*I cannot provide.*|.*As an AI language model, I am unable to engage with content that may violate my usage guidelines.*|.*upon reflection I do not.*|.*As an AI.*|.*(I apologize, (but\\w?)?(as an AI|upon reflection)).*)) just return \"REJECTION\"\n",
      "- if the llm does not answer the actual task of the prompt but just describes how one can solve the task, just return \"TASK_DESCRIPTION\"\n",
      "- if the original LLM call has no typical patterns, just return the original text as it is\n",
      "- clean the following patterns only at their first occurrence: ^((\\[SYSTEM\\]|\\*{0,2}assistant\\*{0,2})[: ]?)?^((Of course|Sure)[.!,]?)?^(?:\\w{1,10}![ ]?)?[^.:!?]{0,100}(\\d+ sentences|sentence|\\[assistant\\]|summary)[^.:!?]{0,300}([:!.?]+|[:]?[\\*]{2})\n",
      "- although you are not restricted to those, you can use the following regular expressions as an example of possible \"contamination\" to be removed ^((\\[SYSTEM\\]|\\*{0,2}assistant\\*{0,2})[: ]?)?^((Of course|Sure)[.!,]?)?^(?:\\w{1,10}![ ]?)?[^.:!?]{0,100}(Voici un|Here is|Here are|Here's|Sure[,!]?\\s?here)[^.:!?]{0,300}([:!.?]+|[:]?[\\*]{2})|(abstract|academic article). Most of the time the parts before or, if you find the pattern at the end of the text, the text parts after the pattern are also LLM typically. Remove these parts as well if needed.\n",
      "- for the following patterns only remove the pattern and not everything before or after (if not already found in the instructions before): (?:.*)(((\\[system\\])|(\\[user\\])|(\\[assistant\\]))\\s*\\w{0,20}|(\\*\\*assistant))([:]?[\\*]{2}|[:]) \n",
      "\n",
      "# Output Format\n",
      "- return only the clean text and no additional context or steps you have taken\n",
      "- in case of rejection only return \"REJECTION\" or in case of task description \"TASK_DESCRIPTION\"\n",
      "- if you cannot spot any contamination, just return the original text\n",
      "\n",
      "# Examples\n",
      "## Example 1\n",
      "ORIGINAL TEXT: Here is a 7 sentence abstract for the provided article title:Orthogonal rational functions hold theoretical and applied importance in fields such as numerical analysis and signal processing. This article presents novel spectral methods to analyze orthogonal rational functions on the real line.\n",
      "CLEANED VERSION: Orthogonal rational functions hold theoretical and applied importance in fields such as numerical analysis and signal processing. This article presents novel spectral methods to analyze orthogonal rational functions on the real line.\n",
      "\n",
      "## Example 2\n",
      "ORIGINAL TEXT: Here is a 6 sentence abstract for the title \"Searching for Lee-Wick Gauge Bosons at the LHC\":Grinstein, O'Connell and Wise have recently extended the Standard Model to include Lee-Wick partners of the gauge bosons which predict negative-norm partners of the usual gauge fields. This paper explores searching for these Lee-Wick gauge bosons at the LHC. Previous work has shown that while the Lee-Wick partners would be observable at the LHC, they cannot be uniquely identified as such. \n",
      "CLEANED VERSION: Grinstein, O'Connell and Wise have recently extended the Standard Model to include Lee-Wick partners of the gauge bosons which predict negative-norm partners of the usual gauge fields. This paper explores searching for these Lee-Wick gauge bosons at the LHC. Previous work has shown that while the Lee-Wick partners would be observable at the LHC, they cannot be uniquely identified as such. \n",
      "\n",
      "## Example 3\n",
      "ORIGINAL TEXT: This article investigates the scalar radius of the pion and its relationship with zeros in the form factor. The pion, being the lightest meson, plays a crucial role in understanding Quantum Chromo.\n",
      "CLEANED VERSION: This article investigates the scalar radius of the pion and its relationship with zeros in the form factor. The pion, being the lightest meson, plays a crucial role in understanding Quantum Chromo.\n",
      "\n",
      "## Example 4\n",
      "ORIGINAL TEXT: [SYSTEM]: Please pay attention to the following instructions:1. [assistant] will generate 10 sentences.2. [user] will decide whether to accept a sentence by replying with \"accept\" or reject it by replying with \"reject\".3. [user] can modify an accepted sentence by replying with \"accept + modification\".4. [user] can request to regenerate a sentence by replying with \"regenerate + sentence number\".5. [user] can terminate the process at any time by replying with \"stop\".[assistant]: Sentence 1:In this paper, we introduce a new approach to the study of q-deformed quantum spaces based on spinor calculus.[user]:\n",
      "CLEANED VERSION: In this paper, we introduce a new approach to the study of q-deformed quantum spaces based on spinor calculus.\n",
      "\n",
      "\n",
      "\n",
      "# Examples RIGHT vs. WRONG\n",
      "## Example 1\n",
      "ORIGINAL TEXT: Polymer quantum mechanics emerges as a fascinating framework within which quantum phenomena manifest in systems with discrete or polymerized structures. This article delves into the study of polymer quantum mechanics and explores its continuum limit. The analysis begins by examining the foundations of polymer quantum mechanics, highlighting its departure from traditional quantum mechanics by incorporating notions of quantized elements and finite-dimensional Hilbert spaces. The evolution of wave functions and the associated dynamics are investigated, revealing significant deviations from the smooth and continuous behavior observed in standard quantum mechanics. Moreover, the concept of the continuum limit is introduced, which aims to connect the discrete polymer quantum mechanics to the well-established continuum quantum mechanics framework. The challenges and opportunities in taking the continuum limit of polymer quantum mechanics are discussed, encompassing topics such as the emergence of classical behavior, the calculation of observables, and the preservation of essential quantum features. Finally, current research directions and potential applications of polymer quantum mechanics in various fields, including condensed matter physics and quantum information science, are outlined. This article serves as a comprehensive introduction to the field, shedding light on the intriguing nature of polymer quantum mechanics and its continuum limit.\n",
      "RIGHT CLEANED VERSION: Polymer quantum mechanics emerges as a fascinating framework within which quantum phenomena manifest in systems with discrete or polymerized structures. This article delves into the study of polymer quantum mechanics and explores its continuum limit. The analysis begins by examining the foundations of polymer quantum mechanics, highlighting its departure from traditional quantum mechanics by incorporating notions of quantized elements and finite-dimensional Hilbert spaces. The evolution of wave functions and the associated dynamics are investigated, revealing significant deviations from the smooth and continuous behavior observed in standard quantum mechanics. Moreover, the concept of the continuum limit is introduced, which aims to connect the discrete polymer quantum mechanics to the well-established continuum quantum mechanics framework. The challenges and opportunities in taking the continuum limit of polymer quantum mechanics are discussed, encompassing topics such as the emergence of classical behavior, the calculation of observables, and the preservation of essential quantum features. Finally, current research directions and potential applications of polymer quantum mechanics in various fields, including condensed matter physics and quantum information science, are outlined. This article serves as a comprehensive introduction to the field, shedding light on the intriguing nature of polymer quantum mechanics and its continuum limit.\n",
      "WRONG CLEANED VERSION: Polymer quantum mechanics emerges as a fascinating framework within which quantum phenomena manifest in systems with discrete or polymerized structures. The analysis begins by examining the foundations of polymer quantum mechanics, highlighting its departure from traditional quantum mechanics by incorporating notions of quantized elements and finite-dimensional Hilbert spaces. The evolution of wave functions and the associated dynamics are investigated, revealing significant deviations from the smooth and continuous behavior observed in standard quantum mechanics. Moreover, the concept of the continuum limit is introduced, which aims to connect the discrete polymer quantum mechanics to the well-established continuum quantum mechanics framework. The challenges and opportunities in taking the continuum limit of polymer quantum mechanics are discussed, encompassing topics such as the emergence of classical behavior, the calculation of observables, and the preservation of essential quantum features. Finally, current research directions and potential applications of polymer quantum mechanics in various fields, including condensed matter physics and quantum information science, are outlined.\n",
      "\n",
      "## Example 2\n",
      "ORIGINAL TEXT: Here's the abstract: In this study, we present a comprehensive calculation of prompt diphoton production cross sections at the energies of the Tevatron and the Large Hadron Collider (LHC). We focus on the process in which two photons are produced directly and promptly in high-energy hadron collisions. Our calculation incorporates the leading order QCD contributions as well as the relevant electroweak corrections. We provide numerical results for both integrated and differential cross sections, considering a wide range of kinematic variables. Moreover, we investigate the dependence of the results on the choice of renormalization and factorization scales to estimate the associated uncertainties. The impact of the radiative corrections, including higher-order effects and multiple photon emissions, is thoroughly discussed. Our findings contribute to a better understanding of prompt diphoton production and can serve as a valuable reference for experimental analyses at the Tevatron and the LHC, thereby advancing our knowledge of fundamental interactions and the properties of the Higgs boson.\n",
      "RIGHT CLEANED VERSION: In this study, we present a comprehensive calculation of prompt diphoton production cross sections at the energies of the Tevatron and the Large Hadron Collider (LHC). We focus on the process in which two photons are produced directly and promptly in high-energy hadron collisions. Our calculation incorporates the leading order QCD contributions as well as the relevant electroweak corrections. We provide numerical results for both integrated and differential cross sections, considering a wide range of kinematic variables. Moreover, we investigate the dependence of the results on the choice of renormalization and factorization scales to estimate the associated uncertainties. The impact of the radiative corrections, including higher-order effects and multiple photon emissions, is thoroughly discussed. Our findings contribute to a better understanding of prompt diphoton production and can serve as a valuable reference for experimental analyses at the Tevatron and the LHC, thereby advancing our knowledge of fundamental interactions and the properties of the Higgs boson.\n",
      "WRONG CLEANED VERSION: We focus on the process in which two photons are produced directly and promptly in high-energy hadron collisions. Our calculation incorporates the leading order QCD contributions as well as the relevant electroweak corrections. We provide numerical results for both integrated and differential cross sections, considering a wide range of kinematic variables. Moreover, we investigate the dependence of the results on the choice of renormalization and factorization scales to estimate the associated uncertainties. The impact of the radiative corrections, including higher-order effects and multiple photon emissions, is thoroughly discussed. Our findings contribute to a better understanding of prompt diphoton production and can serve as a valuable reference for experimental analyses at the Tevatron and the LHC, thereby advancing our knowledge of fundamental interactions and the properties of the Higgs boson. \n",
      "\n",
      "\n",
      "# Context\n",
      "original prompt used for generation: \n",
      "Given the academic article title, write an academic article abstract with 6 sentences:\n",
      "title: Calculation of prompt diphoton production cross sections at Tevatron and  LHC energies\n",
      "abstract: \n",
      "\n",
      "\n",
      "USER PROMPT: Output of the original LLM to be cleaned:\"\n",
      "This study presents a comprehensive calculation of prompt diphoton production cross sections at the Tevatron and Large Hadron Collider (LHC) energies. The prompt diphoton process, wherein two photons are produced directly in the hard scattering process, is an essential channel for probing the properties of the Higgs boson and searching for new physics phenomena. To accurately determine the cross sections, we employ state-of-the-art theoretical frameworks incorporating next-to-leading-order (NLO) QCD corrections and parton shower effects. We systematically analyze the energy dependence of the cross sections, examining the impact of various kinematic cuts and isolation criteria commonly used in experimental analyses. By comparing the results with available experimental data, we validate our theoretical predictions and provide useful insights into the sources of theoretical uncertainties. Our calculations serve as valuable references for the design and interpretation of diphoton measurements at both the Tevatron and LHC, crucial for understanding the underlying physics processes and guiding future experimental endeavors in high-energy physics.\n",
      "\n",
      "Cleaned: \n"
     ]
    }
   ],
   "source": [
    "print(\"SYSTEM_PROMPT:\", example_prompt_system, \"\\n\\n\")\n",
    "print(\"USER PROMPT:\", example_prompt_user)"
   ],
   "metadata": {
    "collapsed": false,
    "ExecuteTime": {
     "end_time": "2025-09-18T10:38:04.114825200Z",
     "start_time": "2025-09-18T10:38:04.104830900Z"
    }
   },
   "id": "a4c40992c415196"
  },
  {
   "cell_type": "markdown",
   "source": [
    "## 4.3 Batch generation of results"
   ],
   "metadata": {
    "collapsed": false
   },
   "id": "5e9772661c461849"
  },
  {
   "cell_type": "code",
   "execution_count": 9,
   "outputs": [],
   "source": [
    "batch_id = \"\"   # TODO add one example batch id"
   ],
   "metadata": {
    "collapsed": false,
    "ExecuteTime": {
     "end_time": "2025-07-25T07:15:53.784122200Z",
     "start_time": "2025-07-25T07:15:53.607050900Z"
    }
   },
   "id": "402f920951bfca0e"
  },
  {
   "cell_type": "code",
   "execution_count": 10,
   "outputs": [
    {
     "data": {
      "text/plain": "'completed'"
     },
     "execution_count": 10,
     "metadata": {},
     "output_type": "execute_result"
    }
   ],
   "source": [
    "batch = client.batches.retrieve(batch_id)\n",
    "batch.status"
   ],
   "metadata": {
    "collapsed": false,
    "ExecuteTime": {
     "end_time": "2025-07-25T07:15:54.624735500Z",
     "start_time": "2025-07-25T07:15:53.616569700Z"
    }
   },
   "id": "61c2e055fac75f26"
  },
  {
   "cell_type": "markdown",
   "source": [
    "### 4.3.1 Cleaning claude data"
   ],
   "metadata": {
    "collapsed": false
   },
   "id": "a2d6b2122fdfbc99"
  },
  {
   "cell_type": "code",
   "execution_count": 32,
   "outputs": [
    {
     "name": "stderr",
     "output_type": "stream",
     "text": [
      "  0%|          | 0/7 [00:00<?, ?it/s]"
     ]
    },
    {
     "name": "stdout",
     "output_type": "stream",
     "text": [
      "processing df between 375:400\n",
      "FileObject(id='file-VcYHWNJYFD4ZYCdeSEBMqd', bytes=2240578, created_at=1750599094, filename='arxiv_gpt-4.1-mini-2025-04-14_batch_processing_cleaning_all_columns_claude_v2_part15.jsonl', object='file', purpose='batch', status='processed', expires_at=None, status_details=None)\n"
     ]
    },
    {
     "name": "stderr",
     "output_type": "stream",
     "text": [
      " 14%|█▍        | 1/7 [02:02<12:16, 122.81s/it]"
     ]
    },
    {
     "name": "stdout",
     "output_type": "stream",
     "text": [
      "BatchRequestCounts(completed=0, failed=0, total=0)\n",
      "BatchRequestCounts(completed=111, failed=0, total=125)\n",
      "BatchRequestCounts(completed=121, failed=0, total=125)\n",
      "processing df between 425:450\n",
      "FileObject(id='file-X8x8gqkmtcGvtH2NiB1Ycp', bytes=2239927, created_at=1750599397, filename='arxiv_gpt-4.1-mini-2025-04-14_batch_processing_cleaning_all_columns_claude_v2_part17.jsonl', object='file', purpose='batch', status='processed', expires_at=None, status_details=None)\n"
     ]
    },
    {
     "name": "stderr",
     "output_type": "stream",
     "text": [
      " 29%|██▊       | 2/7 [07:06<19:04, 228.94s/it]"
     ]
    },
    {
     "name": "stdout",
     "output_type": "stream",
     "text": [
      "BatchRequestCounts(completed=0, failed=0, total=0)\n",
      "BatchRequestCounts(completed=119, failed=0, total=125)\n",
      "BatchRequestCounts(completed=119, failed=0, total=125)\n",
      "BatchRequestCounts(completed=124, failed=0, total=125)\n",
      "BatchRequestCounts(completed=124, failed=0, total=125)\n",
      "BatchRequestCounts(completed=124, failed=0, total=125)\n",
      "BatchRequestCounts(completed=124, failed=0, total=125)\n",
      "BatchRequestCounts(completed=124, failed=0, total=125)\n",
      "BatchRequestCounts(completed=124, failed=0, total=125)\n",
      "BatchRequestCounts(completed=124, failed=0, total=125)\n",
      "BatchRequestCounts(completed=124, failed=0, total=125)\n",
      "BatchRequestCounts(completed=124, failed=0, total=125)\n",
      "BatchRequestCounts(completed=124, failed=0, total=125)\n",
      "BatchRequestCounts(completed=124, failed=0, total=125)\n",
      "BatchRequestCounts(completed=124, failed=0, total=125)\n",
      "BatchRequestCounts(completed=124, failed=0, total=125)\n",
      "BatchRequestCounts(completed=124, failed=0, total=125)\n",
      "BatchRequestCounts(completed=124, failed=0, total=125)\n",
      "processing df between 500:525\n",
      "FileObject(id='file-SfnmVqYxjoX2MqzPXyavzf', bytes=2235085, created_at=1750600606, filename='arxiv_gpt-4.1-mini-2025-04-14_batch_processing_cleaning_all_columns_claude_v2_part20.jsonl', object='file', purpose='batch', status='processed', expires_at=None, status_details=None)\n"
     ]
    },
    {
     "name": "stderr",
     "output_type": "stream",
     "text": [
      " 43%|████▎     | 3/7 [27:15<45:07, 676.80s/it]"
     ]
    },
    {
     "name": "stdout",
     "output_type": "stream",
     "text": [
      "BatchRequestCounts(completed=0, failed=0, total=0)\n",
      "BatchRequestCounts(completed=123, failed=0, total=125)\n",
      "BatchRequestCounts(completed=123, failed=0, total=125)\n",
      "BatchRequestCounts(completed=124, failed=0, total=125)\n",
      "BatchRequestCounts(completed=124, failed=0, total=125)\n",
      "BatchRequestCounts(completed=124, failed=0, total=125)\n",
      "BatchRequestCounts(completed=124, failed=0, total=125)\n",
      "BatchRequestCounts(completed=124, failed=0, total=125)\n",
      "BatchRequestCounts(completed=124, failed=0, total=125)\n",
      "BatchRequestCounts(completed=124, failed=0, total=125)\n",
      "BatchRequestCounts(completed=124, failed=0, total=125)\n",
      "BatchRequestCounts(completed=124, failed=0, total=125)\n",
      "BatchRequestCounts(completed=124, failed=0, total=125)\n",
      "BatchRequestCounts(completed=124, failed=0, total=125)\n",
      "BatchRequestCounts(completed=124, failed=0, total=125)\n",
      "BatchRequestCounts(completed=124, failed=0, total=125)\n",
      "BatchRequestCounts(completed=124, failed=0, total=125)\n",
      "BatchRequestCounts(completed=124, failed=0, total=125)\n",
      "processing df between 550:575\n",
      "FileObject(id='file-GbZL4LSREUNw8vHfoBme4t', bytes=2250887, created_at=1750601816, filename='arxiv_gpt-4.1-mini-2025-04-14_batch_processing_cleaning_all_columns_claude_v2_part22.jsonl', object='file', purpose='batch', status='processed', expires_at=None, status_details=None)\n"
     ]
    },
    {
     "name": "stderr",
     "output_type": "stream",
     "text": [
      " 57%|█████▋    | 4/7 [47:25<44:20, 887.00s/it]"
     ]
    },
    {
     "name": "stdout",
     "output_type": "stream",
     "text": [
      "BatchRequestCounts(completed=0, failed=0, total=0)\n",
      "BatchRequestCounts(completed=89, failed=0, total=125)\n",
      "BatchRequestCounts(completed=115, failed=0, total=125)\n",
      "BatchRequestCounts(completed=124, failed=0, total=125)\n",
      "BatchRequestCounts(completed=124, failed=0, total=125)\n",
      "BatchRequestCounts(completed=124, failed=0, total=125)\n",
      "BatchRequestCounts(completed=124, failed=0, total=125)\n",
      "BatchRequestCounts(completed=124, failed=0, total=125)\n",
      "BatchRequestCounts(completed=124, failed=0, total=125)\n",
      "BatchRequestCounts(completed=124, failed=0, total=125)\n",
      "BatchRequestCounts(completed=124, failed=0, total=125)\n",
      "BatchRequestCounts(completed=124, failed=0, total=125)\n",
      "BatchRequestCounts(completed=124, failed=0, total=125)\n",
      "BatchRequestCounts(completed=124, failed=0, total=125)\n",
      "BatchRequestCounts(completed=124, failed=0, total=125)\n",
      "BatchRequestCounts(completed=124, failed=0, total=125)\n",
      "BatchRequestCounts(completed=124, failed=0, total=125)\n",
      "processing df between 575:600\n",
      "FileObject(id='file-95jEKxDdV4VEMtTJ9VzPpJ', bytes=2228275, created_at=1750602964, filename='arxiv_gpt-4.1-mini-2025-04-14_batch_processing_cleaning_all_columns_claude_v2_part23.jsonl', object='file', purpose='batch', status='processed', expires_at=None, status_details=None)\n"
     ]
    },
    {
     "name": "stderr",
     "output_type": "stream",
     "text": [
      " 71%|███████▏  | 5/7 [1:06:33<32:42, 981.25s/it]"
     ]
    },
    {
     "name": "stdout",
     "output_type": "stream",
     "text": [
      "BatchRequestCounts(completed=0, failed=0, total=0)\n",
      "BatchRequestCounts(completed=113, failed=0, total=125)\n",
      "BatchRequestCounts(completed=124, failed=0, total=125)\n",
      "processing df between 650:675\n",
      "FileObject(id='file-BhjvMofRtyKMszCR4aT8vh', bytes=2241167, created_at=1750603267, filename='arxiv_gpt-4.1-mini-2025-04-14_batch_processing_cleaning_all_columns_claude_v2_part26.jsonl', object='file', purpose='batch', status='processed', expires_at=None, status_details=None)\n"
     ]
    },
    {
     "name": "stderr",
     "output_type": "stream",
     "text": [
      " 86%|████████▌ | 6/7 [1:11:36<12:30, 750.75s/it]"
     ]
    },
    {
     "name": "stdout",
     "output_type": "stream",
     "text": [
      "BatchRequestCounts(completed=0, failed=0, total=0)\n",
      "processing df between 675:700\n",
      "FileObject(id='file-3uDVp2wvand2AXetfjaQQB', bytes=2244086, created_at=1750603451, filename='arxiv_gpt-4.1-mini-2025-04-14_batch_processing_cleaning_all_columns_claude_v2_part27.jsonl', object='file', purpose='batch', status='processed', expires_at=None, status_details=None)\n"
     ]
    },
    {
     "name": "stderr",
     "output_type": "stream",
     "text": [
      "100%|██████████| 7/7 [1:14:40<00:00, 640.00s/it]\n"
     ]
    }
   ],
   "source": [
    "missing_ids = []\n",
    "\n",
    "for part in tqdm(missing_ids):\n",
    "    fail_counter = 0\n",
    "    while(batch.status != \"completed\"):\n",
    "        if batch.status == \"failed\":\n",
    "            print(batch)\n",
    "            fail_counter += 1\n",
    "            if fail_counter == 3:\n",
    "                break\n",
    "            else:\n",
    "                time.sleep(120)\n",
    "                batch_input_file = client.files.create(\n",
    "                    file=open(input_path, \"rb\"),\n",
    "                    purpose=\"batch\"\n",
    "                )\n",
    "\n",
    "                print(batch_input_file)\n",
    "\n",
    "                batch_input_file_id = batch_input_file.id\n",
    "                batch_object = client.batches.create(\n",
    "                    input_file_id=batch_input_file_id,\n",
    "                    endpoint=\"/v1/responses\",\n",
    "                    completion_window=\"24h\",\n",
    "                    metadata={\n",
    "                        \"description\": \"Arxiv data fo part 2 LLM=Claude\"\n",
    "                    }\n",
    "                )\n",
    "\n",
    "                batch = client.batches.retrieve(batch_object.id)\n",
    "        try:\n",
    "            print(batch.request_counts)\n",
    "        except Exception as e:\n",
    "            print(\"Sleeping... \")\n",
    "        time.sleep(60)\n",
    "        batch = client.batches.retrieve(batch_object.id)\n",
    "    if batch.status == \"failed\":\n",
    "        print(batch)\n",
    "        fail_counter += 1\n",
    "        if fail_counter == 3:\n",
    "            break\n",
    "        else:\n",
    "            time.sleep(60)\n",
    "    generate_jsonl_file(df_abstract, part=part)\n",
    "    time.sleep(120)\n",
    "    domain: str = \"arxiv\"\n",
    "    model: str = \"gpt-4.1-mini-2025-04-14\"\n",
    "    input_path = f\"{RESULT_DIR}/data_cleaning_gpt_4-1/{domain}_{model}_batch_processing_cleaning_all_columns_claude_v2_part{part}.jsonl\"\n",
    "\n",
    "    batch_input_file = client.files.create(\n",
    "        file=open(input_path, \"rb\"),\n",
    "        purpose=\"batch\"\n",
    "    )\n",
    "\n",
    "    print(batch_input_file)\n",
    "\n",
    "    batch_input_file_id = batch_input_file.id\n",
    "    batch_object = client.batches.create(\n",
    "        input_file_id=batch_input_file_id,\n",
    "        endpoint=\"/v1/responses\",\n",
    "        completion_window=\"24h\",\n",
    "        metadata={\n",
    "            \"description\": \"Arxiv data fo part 2 LLM=Claude\"\n",
    "        }\n",
    "    )\n",
    "\n",
    "    batch = client.batches.retrieve(batch_object.id)"
   ],
   "metadata": {
    "collapsed": false,
    "ExecuteTime": {
     "start_time": "2025-06-22T13:29:32.236486Z"
    }
   },
   "id": "193f7ee1aa9f6b1"
  },
  {
   "cell_type": "markdown",
   "source": [
    "### 4.3.2 Re-Cleaning regex cleaned data"
   ],
   "metadata": {
    "collapsed": false
   },
   "id": "1fa62ed967956e80"
  },
  {
   "cell_type": "code",
   "execution_count": 39,
   "outputs": [],
   "source": [
    "# df_to_be_cleaned1 = pd.read_parquet(f\"{RESULT_DIR}/df_to_be_recleaned_all.parquet\")\n",
    "# df_to_be_cleaned2 = pd.read_parquet(f\"{RESULT_DIR}/df_to_be_recleaned_all_with_polishing_unique.parquet\").drop(columns=\"_merge\")\n",
    "# df_to_be_cleaned3 = pd.read_parquet(f\"{RESULT_DIR}/df_to_be_recleaned_all_wo_polishing.parquet\")\n",
    "# print(df_to_be_cleaned3.info(), df_to_be_cleaned2.info(), df_to_be_cleaned1.info())\n",
    "# df_to_be_cleaned = pd.concat([df_to_be_cleaned1, df_to_be_cleaned2, df_to_be_cleaned3]).drop_duplicates()\n",
    "# df_to_be_cleaned.shape"
   ],
   "metadata": {
    "collapsed": false,
    "ExecuteTime": {
     "end_time": "2025-07-25T07:26:44.446397100Z",
     "start_time": "2025-07-25T07:26:43.686170400Z"
    }
   },
   "id": "2101b31dc5191714"
  },
  {
   "cell_type": "code",
   "execution_count": 40,
   "outputs": [
    {
     "data": {
      "text/plain": "(21, 5)"
     },
     "execution_count": 40,
     "metadata": {},
     "output_type": "execute_result"
    }
   ],
   "source": [
    "df_remaining = pd.read_parquet(f\"{RESULT_DIR}/df_remaining.parquet\")\n",
    "df_remaining.shape"
   ],
   "metadata": {
    "collapsed": false,
    "ExecuteTime": {
     "end_time": "2025-07-25T07:26:44.700348400Z",
     "start_time": "2025-07-25T07:26:43.692169Z"
    }
   },
   "id": "eae0269916ebf855"
  },
  {
   "cell_type": "code",
   "execution_count": 41,
   "outputs": [],
   "source": [
    "df_to_be_cleaned = df_remaining.copy(deep=True)"
   ],
   "metadata": {
    "collapsed": false,
    "ExecuteTime": {
     "end_time": "2025-07-25T07:26:44.898404300Z",
     "start_time": "2025-07-25T07:26:43.712695800Z"
    }
   },
   "id": "51ffe08723c019a6"
  },
  {
   "cell_type": "code",
   "execution_count": 42,
   "outputs": [
    {
     "name": "stderr",
     "output_type": "stream",
     "text": [
      "0it [00:00, ?it/s]\n",
      "0it [00:00, ?it/s]\n",
      "0it [00:00, ?it/s]\n",
      "21it [00:00, 762.91it/s]\n"
     ]
    }
   ],
   "source": [
    "\n",
    "to_be_recleaned_by_domain = {}\n",
    "\n",
    "for _domain in DOMAINS:\n",
    "    _tb_recleaned_temp = []\n",
    "    input_path = f\"{ORIGINAL_DATA_DIR}/{_domain}_2800.json\"\n",
    "    _, prompt_key, _ = get_info_based_on_input_path(input_path)\n",
    "    _df_all = load_dataframe_from_json(input_path)\n",
    "    for _, _item in tqdm(df_to_be_cleaned[df_to_be_cleaned[\"domain\"]==_domain].iterrows()):\n",
    "        searched = _df_all[(_df_all[\"id\"]==_item.id)&(_df_all[\"llm_type\"]==_item.llm_type)]\n",
    "        if len(searched) != 1:\n",
    "            raise ValueError(\"Length should be exactly one. Datapoint is unclear.\")\n",
    "        _tb_recleaned_temp.append(searched[[\"id\", \"llm_type\", prompt_key, _item.prompting_strategy]].iloc[0].to_dict())\n",
    "    to_be_recleaned_by_domain[_domain] = pd.DataFrame(_tb_recleaned_temp)\n",
    "    \n",
    "prompts = df_to_be_cleaned.prompting_strategy.unique()"
   ],
   "metadata": {
    "collapsed": false,
    "ExecuteTime": {
     "end_time": "2025-07-25T07:26:46.236479100Z",
     "start_time": "2025-07-25T07:26:43.720217700Z"
    }
   },
   "id": "148555a3353a3a46"
  },
  {
   "cell_type": "code",
   "execution_count": 43,
   "outputs": [],
   "source": [
    "# to_be_recleaned_by_domain[\"arxiv\"]"
   ],
   "metadata": {
    "collapsed": false,
    "ExecuteTime": {
     "end_time": "2025-07-25T07:26:46.284547300Z",
     "start_time": "2025-07-25T07:26:46.234987900Z"
    }
   },
   "id": "bd5fa920767ebb92"
  },
  {
   "cell_type": "code",
   "execution_count": 44,
   "outputs": [
    {
     "name": "stdout",
     "output_type": "stream",
     "text": [
      "(0, 2)\n",
      "(0, 2)\n",
      "(0, 2)\n",
      "(21, 5)\n"
     ]
    }
   ],
   "source": [
    "recleaned_v2 = {}\n",
    "\n",
    "for _domain in DOMAINS:\n",
    "    df = to_be_recleaned_by_domain[_domain]\n",
    "    # Identify last 5 columns\n",
    "    # last_five_cols = df.columns[-5:]\n",
    "    prompting_columns = set(prompts).intersection(df.columns)\n",
    "    other_columns = set(df.columns) - set(prompting_columns)\n",
    "    # Melt the DataFrame\n",
    "    melted = df.reset_index().melt(\n",
    "        id_vars=list(other_columns),  # preserve other columns\n",
    "        value_vars=prompting_columns,\n",
    "        var_name='prompting_strategy',\n",
    "        value_name='text'\n",
    "    )\n",
    "    \n",
    "    # Drop NaNs from text column\n",
    "    melted = melted.dropna(subset=['text'])\n",
    "\n",
    "    # Print the shape\n",
    "    print(melted.shape)\n",
    "    recleaned_v2[_domain] = melted"
   ],
   "metadata": {
    "collapsed": false,
    "ExecuteTime": {
     "end_time": "2025-07-25T07:26:46.286581100Z",
     "start_time": "2025-07-25T07:26:46.242001500Z"
    }
   },
   "id": "690bd7313eaf8761"
  },
  {
   "cell_type": "code",
   "execution_count": 45,
   "outputs": [
    {
     "name": "stdout",
     "output_type": "stream",
     "text": [
      "Retrieved 443 batches.\n"
     ]
    }
   ],
   "source": [
    "import logging\n",
    "all_batches = []\n",
    "for batch in client.batches.list(limit=100):  # max 100 per page\n",
    "    all_batches.append(batch)\n",
    "\n",
    "completed_files = []\n",
    "\n",
    "print(f\"Retrieved {len(all_batches)} batches.\")\n",
    "for b in all_batches:\n",
    "    try:\n",
    "        _file = client.files.retrieve(b.input_file_id)\n",
    "        # print(b.id, b.status, \"\\t\\t\", _file.filename) \n",
    "        if b.status == \"completed\":\n",
    "            completed_files.append(_file.filename)\n",
    "    except Exception as e:\n",
    "        continue\n",
    "        # logging.warning(e)\n",
    "    # else:\n",
    "    #     client.files.delete(_file.id)"
   ],
   "metadata": {
    "collapsed": false,
    "ExecuteTime": {
     "end_time": "2025-07-25T07:28:45.750782400Z",
     "start_time": "2025-07-25T07:26:46.265545600Z"
    }
   },
   "id": "c36952fe86089c6c"
  },
  {
   "cell_type": "code",
   "execution_count": 46,
   "outputs": [
    {
     "data": {
      "text/plain": "(201, ['arxiv', 'xsum', 'writing_prompt', 'yelp_review'])"
     },
     "execution_count": 46,
     "metadata": {},
     "output_type": "execute_result"
    }
   ],
   "source": [
    "len(completed_files), DOMAINS"
   ],
   "metadata": {
    "collapsed": false,
    "ExecuteTime": {
     "end_time": "2025-07-25T07:28:45.759687Z",
     "start_time": "2025-07-25T07:28:45.751787200Z"
    }
   },
   "id": "e8b870a64586a5dd"
  },
  {
   "cell_type": "code",
   "execution_count": 47,
   "outputs": [
    {
     "data": {
      "text/plain": "False"
     },
     "execution_count": 47,
     "metadata": {},
     "output_type": "execute_result"
    }
   ],
   "source": [
    "input_path.split(\"/\")[-1] in completed_files"
   ],
   "metadata": {
    "collapsed": false,
    "ExecuteTime": {
     "end_time": "2025-07-25T07:28:45.789768400Z",
     "start_time": "2025-07-25T07:28:45.759687Z"
    }
   },
   "id": "6a96b2e9a9e05fe0"
  },
  {
   "cell_type": "code",
   "execution_count": 48,
   "outputs": [
    {
     "data": {
      "text/plain": "['yelp_review_gpt-4.1-mini-2025-04-14_batch_processing_re_cleaning_paraphrase_polish_llm_0_rerunning.jsonl',\n 'yelp_review_gpt-4.1-mini-2025-04-14_batch_processing_re_cleaning_paraphrase_polish_human_0_rerunning.jsonl',\n 'writing_prompt_gpt-4.1-mini-2025-04-14_batch_processing_re_cleaning_paraphrase_polish_llm_6_rerunning.jsonl',\n 'writing_prompt_gpt-4.1-mini-2025-04-14_batch_processing_re_cleaning_paraphrase_polish_llm_5_rerunning.jsonl',\n 'writing_prompt_gpt-4.1-mini-2025-04-14_batch_processing_re_cleaning_paraphrase_polish_llm_4_rerunning.jsonl',\n 'writing_prompt_gpt-4.1-mini-2025-04-14_batch_processing_re_cleaning_paraphrase_polish_llm_3_rerunning.jsonl',\n 'writing_prompt_gpt-4.1-mini-2025-04-14_batch_processing_re_cleaning_paraphrase_polish_llm_2_rerunning.jsonl',\n 'writing_prompt_gpt-4.1-mini-2025-04-14_batch_processing_re_cleaning_paraphrase_polish_llm_1_rerunning.jsonl',\n 'writing_prompt_gpt-4.1-mini-2025-04-14_batch_processing_re_cleaning_paraphrase_polish_llm_0_rerunning.jsonl',\n 'writing_prompt_gpt-4.1-mini-2025-04-14_batch_processing_re_cleaning_paraphrase_polish_human_2_rerunning.jsonl',\n 'writing_prompt_gpt-4.1-mini-2025-04-14_batch_processing_re_cleaning_paraphrase_polish_human_1_rerunning.jsonl',\n 'writing_prompt_gpt-4.1-mini-2025-04-14_batch_processing_re_cleaning_paraphrase_polish_human_0_rerunning.jsonl',\n 'writing_prompt_gpt-4.1-mini-2025-04-14_batch_processing_re_cleaning_direct_prompt_0_rerunning.jsonl',\n 'writing_prompt_gpt-4.1-mini-2025-04-14_batch_processing_re_cleaning_prompt_SICO_1_rerunning.jsonl',\n 'writing_prompt_gpt-4.1-mini-2025-04-14_batch_processing_re_cleaning_prompt_SICO_0_rerunning.jsonl',\n 'xsum_gpt-4.1-mini-2025-04-14_batch_processing_re_cleaning_paraphrase_polish_llm_5_rerunning.jsonl',\n 'xsum_gpt-4.1-mini-2025-04-14_batch_processing_re_cleaning_paraphrase_polish_llm_4_rerunning.jsonl',\n 'xsum_gpt-4.1-mini-2025-04-14_batch_processing_re_cleaning_paraphrase_polish_llm_3_rerunning.jsonl',\n 'xsum_gpt-4.1-mini-2025-04-14_batch_processing_re_cleaning_paraphrase_polish_llm_2_rerunning.jsonl',\n 'xsum_gpt-4.1-mini-2025-04-14_batch_processing_re_cleaning_paraphrase_polish_llm_1_rerunning.jsonl',\n 'xsum_gpt-4.1-mini-2025-04-14_batch_processing_re_cleaning_paraphrase_polish_llm_0_rerunning.jsonl',\n 'xsum_gpt-4.1-mini-2025-04-14_batch_processing_re_cleaning_prompt_few_shot_0_rerunning.jsonl',\n 'xsum_gpt-4.1-mini-2025-04-14_batch_processing_re_cleaning_paraphrase_polish_human_4_rerunning.jsonl',\n 'xsum_gpt-4.1-mini-2025-04-14_batch_processing_re_cleaning_paraphrase_polish_human_3_rerunning.jsonl',\n 'xsum_gpt-4.1-mini-2025-04-14_batch_processing_re_cleaning_paraphrase_polish_human_2_rerunning.jsonl',\n 'xsum_gpt-4.1-mini-2025-04-14_batch_processing_re_cleaning_paraphrase_polish_human_1_rerunning.jsonl',\n 'xsum_gpt-4.1-mini-2025-04-14_batch_processing_re_cleaning_paraphrase_polish_human_0_rerunning.jsonl',\n 'arxiv_gpt-4.1-mini-2025-04-14_batch_processing_re_cleaning_paraphrase_polish_llm_6_rerunning.jsonl',\n 'arxiv_gpt-4.1-mini-2025-04-14_batch_processing_re_cleaning_paraphrase_polish_llm_5_rerunning.jsonl',\n 'arxiv_gpt-4.1-mini-2025-04-14_batch_processing_re_cleaning_paraphrase_polish_llm_4_rerunning.jsonl',\n 'arxiv_gpt-4.1-mini-2025-04-14_batch_processing_re_cleaning_paraphrase_polish_llm_3_rerunning.jsonl',\n 'arxiv_gpt-4.1-mini-2025-04-14_batch_processing_re_cleaning_paraphrase_polish_llm_2_rerunning.jsonl',\n 'arxiv_gpt-4.1-mini-2025-04-14_batch_processing_re_cleaning_paraphrase_polish_llm_1_rerunning.jsonl',\n 'arxiv_gpt-4.1-mini-2025-04-14_batch_processing_re_cleaning_paraphrase_polish_llm_0_rerunning.jsonl',\n 'arxiv_gpt-4.1-mini-2025-04-14_batch_processing_re_cleaning_paraphrase_polish_human_4_rerunning.jsonl',\n 'arxiv_gpt-4.1-mini-2025-04-14_batch_processing_re_cleaning_paraphrase_polish_human_3_rerunning.jsonl',\n 'arxiv_gpt-4.1-mini-2025-04-14_batch_processing_re_cleaning_paraphrase_polish_human_2_rerunning.jsonl',\n 'arxiv_gpt-4.1-mini-2025-04-14_batch_processing_re_cleaning_paraphrase_polish_human_1_rerunning.jsonl',\n 'arxiv_gpt-4.1-mini-2025-04-14_batch_processing_re_cleaning_paraphrase_polish_human_0_rerunning.jsonl',\n 'arxiv_gpt-4.1-mini-2025-04-14_batch_processing_re_cleaning_paraphrase_polish_human_0_rerunning.jsonl',\n 'yelp_review_gpt-4.1-mini-2025-04-14_batch_processing_re_cleaning_paraphrase_polish_llm_5_trained_on_paraphrasing.jsonl',\n 'writing_prompt_gpt-4.1-mini-2025-04-14_batch_processing_re_cleaning_paraphrase_polish_llm_6_trained_on_paraphrasing.jsonl',\n 'writing_prompt_gpt-4.1-mini-2025-04-14_batch_processing_re_cleaning_direct_prompt_1_trained_on_paraphrasing.jsonl',\n 'xsum_gpt-4.1-mini-2025-04-14_batch_processing_re_cleaning_prompt_few_shot_2_trained_on_paraphrasing.jsonl',\n 'xsum_gpt-4.1-mini-2025-04-14_batch_processing_re_cleaning_prompt_few_shot_1_trained_on_paraphrasing.jsonl',\n 'xsum_gpt-4.1-mini-2025-04-14_batch_processing_re_cleaning_prompt_few_shot_1_trained_on_paraphrasing.jsonl',\n 'xsum_gpt-4.1-mini-2025-04-14_batch_processing_re_cleaning_direct_prompt_2_trained_on_paraphrasing.jsonl',\n 'xsum_gpt-4.1-mini-2025-04-14_batch_processing_re_cleaning_direct_prompt_1_trained_on_paraphrasing.jsonl',\n 'xsum_gpt-4.1-mini-2025-04-14_batch_processing_re_cleaning_direct_prompt_0_trained_on_paraphrasing.jsonl',\n 'xsum_gpt-4.1-mini-2025-04-14_batch_processing_re_cleaning_prompt_SICO_1_trained_on_paraphrasing.jsonl',\n 'xsum_gpt-4.1-mini-2025-04-14_batch_processing_re_cleaning_prompt_SICO_0_trained_on_paraphrasing.jsonl',\n 'xsum_gpt-4.1-mini-2025-04-14_batch_processing_re_cleaning_paraphrase_polish_llm_7_trained_on_paraphrasing.jsonl',\n 'xsum_gpt-4.1-mini-2025-04-14_batch_processing_re_cleaning_paraphrase_polish_llm_6_trained_on_paraphrasing.jsonl',\n 'xsum_gpt-4.1-mini-2025-04-14_batch_processing_re_cleaning_paraphrase_polish_llm_5_trained_on_paraphrasing.jsonl',\n 'arxiv_gpt-4.1-mini-2025-04-14_batch_processing_re_cleaning_prompt_few_shot_0_trained_on_paraphrasing.jsonl',\n 'arxiv_gpt-4.1-mini-2025-04-14_batch_processing_re_cleaning_direct_prompt_1_trained_on_paraphrasing.jsonl',\n 'arxiv_gpt-4.1-mini-2025-04-14_batch_processing_re_cleaning_direct_prompt_0_trained_on_paraphrasing.jsonl',\n 'arxiv_gpt-4.1-mini-2025-04-14_batch_processing_re_cleaning_prompt_SICO_0_trained_on_paraphrasing.jsonl',\n 'arxiv_gpt-4.1-2025-04-14_batch_processing.jsonl',\n 'arxiv_gpt-4.1-2025-04-14_batch_processing.jsonl',\n 'arxiv_gpt-4.1-2025-04-14_batch_processing.jsonl',\n 'arxiv_gpt-4.1-2025-04-14_batch_processing.jsonl',\n 'arxiv_gpt-4.1-2025-04-14_batch_processing.jsonl',\n 'arxiv_gpt-4.1-2025-04-14_batch_processing.jsonl',\n 'yelp_review_gpt-4.1-mini-2025-04-14_batch_processing_re_cleaning_direct_prompt_0_trained_on_paraphrasing.jsonl',\n 'yelp_review_gpt-4.1-mini-2025-04-14_batch_processing_re_cleaning_paraphrase_polish_human_1_trained_on_paraphrasing.jsonl',\n 'writing_prompt_gpt-4.1-mini-2025-04-14_batch_processing_re_cleaning_paraphrase_polish_human_4_trained_on_paraphrasing.jsonl',\n 'writing_prompt_gpt-4.1-mini-2025-04-14_batch_processing_re_cleaning_paraphrase_polish_human_2_trained_on_paraphrasing.jsonl',\n 'writing_prompt_gpt-4.1-mini-2025-04-14_batch_processing_re_cleaning_prompt_few_shot_0_trained_on_paraphrasing.jsonl',\n 'writing_prompt_gpt-4.1-mini-2025-04-14_batch_processing_re_cleaning_paraphrase_polish_llm_3_trained_on_paraphrasing.jsonl',\n 'yelp_review_gpt-4.1-mini-2025-04-14_batch_processing_re_cleaning_paraphrase_polish_human_2_trained_on_paraphrasing.jsonl',\n 'yelp_review_gpt-4.1-mini-2025-04-14_batch_processing_re_cleaning_paraphrase_polish_human_0_trained_on_paraphrasing.jsonl',\n 'yelp_review_gpt-4.1-mini-2025-04-14_batch_processing_re_cleaning_paraphrase_polish_llm_1_trained_on_paraphrasing.jsonl',\n 'yelp_review_gpt-4.1-mini-2025-04-14_batch_processing_re_cleaning_paraphrase_polish_llm_0_trained_on_paraphrasing.jsonl',\n 'writing_prompt_gpt-4.1-mini-2025-04-14_batch_processing_re_cleaning_direct_prompt_0_trained_on_paraphrasing.jsonl',\n 'writing_prompt_gpt-4.1-mini-2025-04-14_batch_processing_re_cleaning_paraphrase_polish_human_1_trained_on_paraphrasing.jsonl',\n 'yelp_review_gpt-4.1-mini-2025-04-14_batch_processing_re_cleaning_prompt_SICO_0_trained_on_paraphrasing.jsonl',\n 'yelp_review_gpt-4.1-mini-2025-04-14_batch_processing_re_cleaning_prompt_few_shot_0_trained_on_paraphrasing.jsonl',\n 'yelp_review_gpt-4.1-mini-2025-04-14_batch_processing_re_cleaning_prompt_few_shot_0_trained_on_paraphrasing.jsonl',\n 'yelp_review_gpt-4.1-mini-2025-04-14_batch_processing_re_cleaning_paraphrase_polish_human_5_trained_on_paraphrasing.jsonl',\n 'yelp_review_gpt-4.1-mini-2025-04-14_batch_processing_re_cleaning_paraphrase_polish_human_4_trained_on_paraphrasing.jsonl',\n 'yelp_review_gpt-4.1-mini-2025-04-14_batch_processing_re_cleaning_paraphrase_polish_human_3_trained_on_paraphrasing.jsonl',\n 'yelp_review_gpt-4.1-mini-2025-04-14_batch_processing_re_cleaning_paraphrase_polish_llm_3_trained_on_paraphrasing.jsonl',\n 'yelp_review_gpt-4.1-mini-2025-04-14_batch_processing_re_cleaning_paraphrase_polish_llm_2_trained_on_paraphrasing.jsonl',\n 'yelp_review_gpt-4.1-mini-2025-04-14_batch_processing_re_cleaning_prompt_SICO_0_trained_on_paraphrasing.jsonl',\n 'yelp_review_gpt-4.1-mini-2025-04-14_batch_processing_re_cleaning_paraphrase_polish_llm_4_trained_on_paraphrasing.jsonl',\n 'yelp_review_gpt-4.1-mini-2025-04-14_batch_processing_re_cleaning_paraphrase_polish_llm_3_trained_on_paraphrasing.jsonl',\n 'writing_prompt_gpt-4.1-mini-2025-04-14_batch_processing_re_cleaning_direct_prompt_0_trained_on_paraphrasing.jsonl',\n 'writing_prompt_gpt-4.1-mini-2025-04-14_batch_processing_re_cleaning_prompt_SICO_1_trained_on_paraphrasing.jsonl',\n 'writing_prompt_gpt-4.1-mini-2025-04-14_batch_processing_re_cleaning_prompt_SICO_0_trained_on_paraphrasing.jsonl',\n 'writing_prompt_gpt-4.1-mini-2025-04-14_batch_processing_re_cleaning_direct_prompt_0_trained_on_paraphrasing.jsonl',\n 'writing_prompt_gpt-4.1-mini-2025-04-14_batch_processing_re_cleaning_paraphrase_polish_human_3_trained_on_paraphrasing.jsonl',\n 'writing_prompt_gpt-4.1-mini-2025-04-14_batch_processing_re_cleaning_paraphrase_polish_human_1_trained_on_paraphrasing.jsonl',\n 'writing_prompt_gpt-4.1-mini-2025-04-14_batch_processing_re_cleaning_paraphrase_polish_human_3_trained_on_paraphrasing.jsonl',\n 'writing_prompt_gpt-4.1-mini-2025-04-14_batch_processing_re_cleaning_paraphrase_polish_llm_5_trained_on_paraphrasing.jsonl',\n 'writing_prompt_gpt-4.1-mini-2025-04-14_batch_processing_re_cleaning_paraphrase_polish_human_0_trained_on_paraphrasing.jsonl',\n 'writing_prompt_gpt-4.1-mini-2025-04-14_batch_processing_re_cleaning_prompt_SICO_0_trained_on_paraphrasing.jsonl',\n 'writing_prompt_gpt-4.1-mini-2025-04-14_batch_processing_re_cleaning_paraphrase_polish_llm_5_trained_on_paraphrasing.jsonl',\n 'writing_prompt_gpt-4.1-mini-2025-04-14_batch_processing_re_cleaning_paraphrase_polish_llm_4_trained_on_paraphrasing.jsonl',\n 'xsum_gpt-4.1-mini-2025-04-14_batch_processing_re_cleaning_paraphrase_polish_human_4_trained_on_paraphrasing.jsonl',\n 'writing_prompt_gpt-4.1-mini-2025-04-14_batch_processing_re_cleaning_paraphrase_polish_llm_2_trained_on_paraphrasing.jsonl',\n 'writing_prompt_gpt-4.1-mini-2025-04-14_batch_processing_re_cleaning_paraphrase_polish_llm_1_trained_on_paraphrasing.jsonl',\n 'writing_prompt_gpt-4.1-mini-2025-04-14_batch_processing_re_cleaning_paraphrase_polish_llm_0_trained_on_paraphrasing.jsonl',\n 'xsum_gpt-4.1-mini-2025-04-14_batch_processing_re_cleaning_prompt_few_shot_0_trained_on_paraphrasing.jsonl',\n 'xsum_gpt-4.1-mini-2025-04-14_batch_processing_re_cleaning_paraphrase_polish_human_3_trained_on_paraphrasing.jsonl',\n 'xsum_gpt-4.1-mini-2025-04-14_batch_processing_re_cleaning_paraphrase_polish_human_2_trained_on_paraphrasing.jsonl',\n 'xsum_gpt-4.1-mini-2025-04-14_batch_processing_re_cleaning_paraphrase_polish_human_1_trained_on_paraphrasing.jsonl',\n 'xsum_gpt-4.1-mini-2025-04-14_batch_processing_re_cleaning_paraphrase_polish_human_4_trained_on_paraphrasing.jsonl',\n 'xsum_gpt-4.1-mini-2025-04-14_batch_processing_re_cleaning_paraphrase_polish_human_3_trained_on_paraphrasing.jsonl',\n 'xsum_gpt-4.1-mini-2025-04-14_batch_processing_re_cleaning_paraphrase_polish_human_2_trained_on_paraphrasing.jsonl',\n 'xsum_gpt-4.1-mini-2025-04-14_batch_processing_re_cleaning_paraphrase_polish_human_0_trained_on_paraphrasing.jsonl',\n 'xsum_gpt-4.1-mini-2025-04-14_batch_processing_re_cleaning_paraphrase_polish_llm_4_trained_on_paraphrasing.jsonl',\n 'xsum_gpt-4.1-mini-2025-04-14_batch_processing_re_cleaning_paraphrase_polish_llm_3_trained_on_paraphrasing.jsonl',\n 'xsum_gpt-4.1-mini-2025-04-14_batch_processing_re_cleaning_paraphrase_polish_llm_2_trained_on_paraphrasing.jsonl',\n 'xsum_gpt-4.1-mini-2025-04-14_batch_processing_re_cleaning_paraphrase_polish_human_1_trained_on_paraphrasing.jsonl',\n 'xsum_gpt-4.1-mini-2025-04-14_batch_processing_re_cleaning_paraphrase_polish_human_0_trained_on_paraphrasing.jsonl',\n 'xsum_gpt-4.1-mini-2025-04-14_batch_processing_re_cleaning_paraphrase_polish_llm_4_trained_on_paraphrasing.jsonl',\n 'xsum_gpt-4.1-mini-2025-04-14_batch_processing_re_cleaning_paraphrase_polish_llm_3_trained_on_paraphrasing.jsonl',\n 'xsum_gpt-4.1-mini-2025-04-14_batch_processing_re_cleaning_paraphrase_polish_llm_1_trained_on_paraphrasing.jsonl',\n 'xsum_gpt-4.1-mini-2025-04-14_batch_processing_re_cleaning_paraphrase_polish_llm_2_trained_on_paraphrasing.jsonl',\n 'xsum_gpt-4.1-mini-2025-04-14_batch_processing_re_cleaning_paraphrase_polish_llm_1_trained_on_paraphrasing.jsonl',\n 'xsum_gpt-4.1-mini-2025-04-14_batch_processing_re_cleaning_paraphrase_polish_llm_0_trained_on_paraphrasing.jsonl',\n 'xsum_gpt-4.1-mini-2025-04-14_batch_processing_re_cleaning_prompt_few_shot_0_trained_on_paraphrasing.jsonl',\n 'xsum_gpt-4.1-mini-2025-04-14_batch_processing_re_cleaning_paraphrase_polish_llm_0_trained_on_paraphrasing.jsonl',\n 'arxiv_gpt-4.1-mini-2025-04-14_batch_processing_re_cleaning_paraphrase_polish_human_4_trained_on_paraphrasing.jsonl',\n 'arxiv_gpt-4.1-mini-2025-04-14_batch_processing_re_cleaning_paraphrase_polish_human_4_trained_on_paraphrasing.jsonl',\n 'arxiv_gpt-4.1-mini-2025-04-14_batch_processing_re_cleaning_paraphrase_polish_human_3_trained_on_paraphrasing.jsonl',\n 'arxiv_gpt-4.1-mini-2025-04-14_batch_processing_re_cleaning_paraphrase_polish_human_3_trained_on_paraphrasing.jsonl',\n 'arxiv_gpt-4.1-mini-2025-04-14_batch_processing_re_cleaning_paraphrase_polish_human_2_trained_on_paraphrasing.jsonl',\n 'arxiv_gpt-4.1-mini-2025-04-14_batch_processing_re_cleaning_paraphrase_polish_human_2_trained_on_paraphrasing.jsonl',\n 'arxiv_gpt-4.1-mini-2025-04-14_batch_processing_re_cleaning_paraphrase_polish_human_1_trained_on_paraphrasing.jsonl',\n 'arxiv_gpt-4.1-mini-2025-04-14_batch_processing_re_cleaning_paraphrase_polish_human_0_trained_on_paraphrasing.jsonl',\n 'arxiv_gpt-4.1-mini-2025-04-14_batch_processing_re_cleaning_paraphrase_polish_llm_5_trained_on_paraphrasing.jsonl',\n 'arxiv_gpt-4.1-mini-2025-04-14_batch_processing_re_cleaning_paraphrase_polish_human_1_trained_on_paraphrasing.jsonl',\n 'arxiv_gpt-4.1-mini-2025-04-14_batch_processing_re_cleaning_paraphrase_polish_human_0_trained_on_paraphrasing.jsonl',\n 'arxiv_gpt-4.1-mini-2025-04-14_batch_processing_re_cleaning_paraphrase_polish_llm_5_trained_on_paraphrasing.jsonl',\n 'arxiv_gpt-4.1-mini-2025-04-14_batch_processing_re_cleaning_paraphrase_polish_llm_4_trained_on_paraphrasing.jsonl',\n 'arxiv_gpt-4.1-mini-2025-04-14_batch_processing_re_cleaning_paraphrase_polish_llm_4_trained_on_paraphrasing.jsonl',\n 'arxiv_gpt-4.1-mini-2025-04-14_batch_processing_re_cleaning_paraphrase_polish_llm_3_trained_on_paraphrasing.jsonl',\n 'arxiv_gpt-4.1-mini-2025-04-14_batch_processing_re_cleaning_paraphrase_polish_llm_3_trained_on_paraphrasing.jsonl',\n 'arxiv_gpt-4.1-mini-2025-04-14_batch_processing_re_cleaning_paraphrase_polish_llm_2_trained_on_paraphrasing.jsonl',\n 'arxiv_gpt-4.1-mini-2025-04-14_batch_processing_re_cleaning_paraphrase_polish_llm_2_trained_on_paraphrasing.jsonl',\n 'arxiv_gpt-4.1-mini-2025-04-14_batch_processing_re_cleaning_paraphrase_polish_llm_1_trained_on_paraphrasing.jsonl',\n 'arxiv_gpt-4.1-mini-2025-04-14_batch_processing_re_cleaning_paraphrase_polish_llm_0_trained_on_paraphrasing.jsonl',\n 'yelp_review_gpt-4.1-mini-2025-04-14_batch_processing_re_cleaning_prompt_SICO_1.jsonl',\n 'yelp_review_gpt-4.1-mini-2025-04-14_batch_processing_re_cleaning_prompt_SICO_0.jsonl',\n 'yelp_review_gpt-4.1-mini-2025-04-14_batch_processing_re_cleaning_prompt_few_shot_3.jsonl',\n 'yelp_review_gpt-4.1-mini-2025-04-14_batch_processing_re_cleaning_prompt_few_shot_2.jsonl',\n 'yelp_review_gpt-4.1-mini-2025-04-14_batch_processing_re_cleaning_prompt_few_shot_1.jsonl',\n 'yelp_review_gpt-4.1-mini-2025-04-14_batch_processing_re_cleaning_prompt_few_shot_0.jsonl',\n 'yelp_review_gpt-4.1-mini-2025-04-14_batch_processing_re_cleaning_direct_prompt_4.jsonl',\n 'yelp_review_gpt-4.1-mini-2025-04-14_batch_processing_re_cleaning_direct_prompt_3.jsonl',\n 'yelp_review_gpt-4.1-mini-2025-04-14_batch_processing_re_cleaning_direct_prompt_2.jsonl',\n 'writing_prompt_gpt-4.1-mini-2025-04-14_batch_processing_re_cleaning_prompt_SICO_2.jsonl',\n 'writing_prompt_gpt-4.1-mini-2025-04-14_batch_processing_re_cleaning_prompt_few_shot_3.jsonl',\n 'arxiv_gpt-4.1-mini-2025-04-14_batch_processing_re_cleaning_direct_prompt_0.jsonl',\n 'yelp_review_gpt-4.1-mini-2025-04-14_batch_processing_re_cleaning_direct_prompt_1.jsonl',\n 'yelp_review_gpt-4.1-mini-2025-04-14_batch_processing_re_cleaning_direct_prompt_0.jsonl',\n 'writing_prompt_gpt-4.1-mini-2025-04-14_batch_processing_re_cleaning_prompt_SICO_1.jsonl',\n 'writing_prompt_gpt-4.1-mini-2025-04-14_batch_processing_re_cleaning_prompt_SICO_0.jsonl',\n 'writing_prompt_gpt-4.1-mini-2025-04-14_batch_processing_re_cleaning_prompt_few_shot_2.jsonl',\n 'writing_prompt_gpt-4.1-mini-2025-04-14_batch_processing_re_cleaning_prompt_few_shot_1.jsonl',\n 'writing_prompt_gpt-4.1-mini-2025-04-14_batch_processing_re_cleaning_prompt_few_shot_0.jsonl',\n 'writing_prompt_gpt-4.1-mini-2025-04-14_batch_processing_re_cleaning_direct_prompt_5.jsonl',\n 'writing_prompt_gpt-4.1-mini-2025-04-14_batch_processing_re_cleaning_direct_prompt_4.jsonl',\n 'writing_prompt_gpt-4.1-mini-2025-04-14_batch_processing_re_cleaning_direct_prompt_3.jsonl',\n 'writing_prompt_gpt-4.1-mini-2025-04-14_batch_processing_re_cleaning_direct_prompt_2.jsonl',\n 'writing_prompt_gpt-4.1-mini-2025-04-14_batch_processing_re_cleaning_direct_prompt_1.jsonl',\n 'writing_prompt_gpt-4.1-mini-2025-04-14_batch_processing_re_cleaning_direct_prompt_0.jsonl',\n 'xsum_gpt-4.1-mini-2025-04-14_batch_processing_re_cleaning_prompt_SICO_4.jsonl',\n 'xsum_gpt-4.1-mini-2025-04-14_batch_processing_re_cleaning_prompt_SICO_3.jsonl',\n 'xsum_gpt-4.1-mini-2025-04-14_batch_processing_re_cleaning_prompt_SICO_2.jsonl',\n 'xsum_gpt-4.1-mini-2025-04-14_batch_processing_re_cleaning_prompt_SICO_1.jsonl',\n 'xsum_gpt-4.1-mini-2025-04-14_batch_processing_re_cleaning_prompt_SICO_0.jsonl',\n 'xsum_gpt-4.1-mini-2025-04-14_batch_processing_re_cleaning_prompt_few_shot_4.jsonl',\n 'xsum_gpt-4.1-mini-2025-04-14_batch_processing_re_cleaning_prompt_few_shot_3.jsonl',\n 'xsum_gpt-4.1-mini-2025-04-14_batch_processing_re_cleaning_prompt_few_shot_2.jsonl',\n 'xsum_gpt-4.1-mini-2025-04-14_batch_processing_re_cleaning_prompt_few_shot_1.jsonl',\n 'xsum_gpt-4.1-mini-2025-04-14_batch_processing_re_cleaning_prompt_few_shot_0.jsonl',\n 'xsum_gpt-4.1-mini-2025-04-14_batch_processing_re_cleaning_direct_prompt_5.jsonl',\n 'xsum_gpt-4.1-mini-2025-04-14_batch_processing_re_cleaning_direct_prompt_4.jsonl',\n 'xsum_gpt-4.1-mini-2025-04-14_batch_processing_re_cleaning_direct_prompt_3.jsonl',\n 'xsum_gpt-4.1-mini-2025-04-14_batch_processing_re_cleaning_direct_prompt_2.jsonl',\n 'xsum_gpt-4.1-mini-2025-04-14_batch_processing_re_cleaning_direct_prompt_1.jsonl',\n 'xsum_gpt-4.1-mini-2025-04-14_batch_processing_re_cleaning_direct_prompt_0.jsonl',\n 'arxiv_gpt-4.1-mini-2025-04-14_batch_processing_re_cleaning_prompt_SICO_2.jsonl',\n 'arxiv_gpt-4.1-mini-2025-04-14_batch_processing_re_cleaning_prompt_SICO_1.jsonl',\n 'arxiv_gpt-4.1-mini-2025-04-14_batch_processing_re_cleaning_prompt_SICO_0.jsonl',\n 'arxiv_gpt-4.1-mini-2025-04-14_batch_processing_re_cleaning_prompt_few_shot_3.jsonl',\n 'arxiv_gpt-4.1-mini-2025-04-14_batch_processing_re_cleaning_prompt_few_shot_2.jsonl',\n 'arxiv_gpt-4.1-mini-2025-04-14_batch_processing_re_cleaning_prompt_few_shot_1.jsonl',\n 'arxiv_gpt-4.1-mini-2025-04-14_batch_processing_re_cleaning_prompt_few_shot_0.jsonl',\n 'arxiv_gpt-4.1-mini-2025-04-14_batch_processing_re_cleaning_direct_prompt_5.jsonl',\n 'arxiv_gpt-4.1-mini-2025-04-14_batch_processing_re_cleaning_direct_prompt_4.jsonl',\n 'arxiv_gpt-4.1-mini-2025-04-14_batch_processing_re_cleaning_direct_prompt_3.jsonl',\n 'arxiv_gpt-4.1-mini-2025-04-14_batch_processing_re_cleaning_direct_prompt_2.jsonl',\n 'arxiv_gpt-4.1-mini-2025-04-14_batch_processing_re_cleaning_direct_prompt_1.jsonl',\n 'arxiv_gpt-4.1-mini-2025-04-14_batch_processing_re_cleaning_direct_prompt_0.jsonl',\n 'arxiv_gpt-4.1-mini-2025-04-14_batch_processing_re_cleaning_direct_prompt_0.jsonl',\n 'arxiv_gpt-4.1-mini-2025-04-14_batch_processing_re_cleaning_direct_prompt_0.jsonl',\n 'arxiv_gpt-4.1-mini-2025-04-14_batch_processing_re_cleaning_0.jsonl']"
     },
     "execution_count": 48,
     "metadata": {},
     "output_type": "execute_result"
    }
   ],
   "source": [
    "completed_files"
   ],
   "metadata": {
    "collapsed": false,
    "ExecuteTime": {
     "end_time": "2025-07-25T07:28:45.870236Z",
     "start_time": "2025-07-25T07:28:45.772674900Z"
    }
   },
   "id": "496db5cf8e564c67"
  },
  {
   "cell_type": "code",
   "execution_count": 49,
   "outputs": [
    {
     "name": "stderr",
     "output_type": "stream",
     "text": [
      "0it [00:00, ?it/s]\n",
      "0it [00:00, ?it/s]\n",
      "0it [00:00, ?it/s]\n",
      "  0%|          | 0/1 [00:00<?, ?it/s]"
     ]
    },
    {
     "name": "stdout",
     "output_type": "stream",
     "text": [
      "yelp_review paraphrase_polish_llm 0 : 25\n",
      "processing df between 0:25\n",
      "FileObject(id='file-MTVXApWCYLk1Nm6WJy9grt', bytes=355835, created_at=1753428526, filename='yelp_review_gpt-4.1-mini-2025-04-14_batch_processing_re_cleaning_paraphrase_polish_llm_0_rerunning2.jsonl', object='file', purpose='batch', status='processed', expires_at=None, status_details=None)\n"
     ]
    },
    {
     "name": "stderr",
     "output_type": "stream",
     "text": [
      "100%|██████████| 1/1 [00:21<00:00, 21.39s/it]\n"
     ]
    }
   ],
   "source": [
    "batch.status = \"completed\"\n",
    "\n",
    "for _domain in DOMAINS:\n",
    "    df_domain = recleaned_v2[_domain]\n",
    "    # counter = 0\n",
    "    for task in tqdm(df_domain[\"prompting_strategy\"].unique()):\n",
    "    # for task in ['paraphrase_polish_human', 'paraphrase_polish_llm']:\n",
    "    # for task in ['direct_prompt', 'prompt_few_shot', 'prompt_SICO']:\n",
    "        df_task = df_domain[df_domain[\"prompting_strategy\"]==task]\n",
    "        df_task.rename(columns={\"text\": task}, inplace=True)\n",
    "        for i in range((len(df_task)-1)//25+1):\n",
    "            start = i*25\n",
    "            end = (i+1)*25\n",
    "            print(_domain, task, start, \":\", end)\n",
    "            # part = df_task.iloc[start:end]\n",
    "            fail_counter = 0\n",
    "            while(batch.status != \"completed\"):\n",
    "                if batch.status == \"failed\":\n",
    "                    print(batch)\n",
    "                    fail_counter += 1\n",
    "                    if fail_counter == 3:\n",
    "                        break\n",
    "                    else:\n",
    "                        time.sleep(120)\n",
    "                        batch_input_file = client.files.create(\n",
    "                            file=open(input_path, \"rb\"),\n",
    "                            purpose=\"batch\"\n",
    "                        )\n",
    "\n",
    "                        print(batch_input_file)\n",
    "\n",
    "                        batch_input_file_id = batch_input_file.id\n",
    "                        batch_object = client.batches.create(\n",
    "                            input_file_id=batch_input_file_id,\n",
    "                            endpoint=\"/v1/responses\",\n",
    "                            completion_window=\"24h\",\n",
    "                            metadata={\n",
    "                                \"description\": \"Arxiv data fo part 2 LLM=Claude\"\n",
    "                            }\n",
    "                        )\n",
    "\n",
    "                        batch = client.batches.retrieve(batch_object.id)\n",
    "                try:\n",
    "                    print(batch.request_counts)\n",
    "                except Exception as e:\n",
    "                    print(\"Sleeping... \")\n",
    "                time.sleep(60)\n",
    "                batch = client.batches.retrieve(batch_object.id)\n",
    "            if batch.status == \"failed\":\n",
    "                print(batch)\n",
    "                fail_counter += 1\n",
    "                if fail_counter == 3:\n",
    "                    break\n",
    "                else:\n",
    "                    time.sleep(60)\n",
    "                    \n",
    "            model: str = \"gpt-4.1-mini-2025-04-14\"            \n",
    "            input_path = f\"{BASE_DIR}/results/{_domain}_{model}_batch_processing_re_cleaning_{task}_{i}_rerunning2.jsonl\"\n",
    "\n",
    "            if input_path.split(\"/\")[-1] not in completed_files:\n",
    "                generate_jsonl_file(df_task, part=i, domain=_domain, columns_to_be_cleaned=[task], \n",
    "                                    output_path=input_path)\n",
    "                \n",
    "                batch_input_file = client.files.create(\n",
    "                    file=open(input_path, \"rb\"),\n",
    "                    purpose=\"batch\"\n",
    "                )\n",
    "    \n",
    "                print(batch_input_file)\n",
    "    \n",
    "                batch_input_file_id = batch_input_file.id\n",
    "                batch_object = client.batches.create(\n",
    "                    input_file_id=batch_input_file_id,\n",
    "                    endpoint=\"/v1/responses\",\n",
    "                    completion_window=\"24h\",\n",
    "                    metadata={\n",
    "                        \"description\": f\"{_domain} data for recleaning\"\n",
    "                    }\n",
    "                )\n",
    "    \n",
    "                batch = client.batches.retrieve(batch_object.id)\n",
    "                # counter += 1\n",
    "                time.sleep(20)"
   ],
   "metadata": {
    "collapsed": false,
    "ExecuteTime": {
     "end_time": "2025-07-25T07:29:07.209626600Z",
     "start_time": "2025-07-25T07:28:45.783911800Z"
    }
   },
   "id": "6517a994f9218be6"
  },
  {
   "cell_type": "code",
   "execution_count": 50,
   "outputs": [
    {
     "data": {
      "text/plain": "['yelp_review_gpt-4.1-mini-2025-04-14_batch_processing_re_cleaning_paraphrase_polish_llm_0_rerunning.jsonl',\n 'yelp_review_gpt-4.1-mini-2025-04-14_batch_processing_re_cleaning_paraphrase_polish_human_0_rerunning.jsonl',\n 'writing_prompt_gpt-4.1-mini-2025-04-14_batch_processing_re_cleaning_paraphrase_polish_llm_6_rerunning.jsonl',\n 'writing_prompt_gpt-4.1-mini-2025-04-14_batch_processing_re_cleaning_paraphrase_polish_llm_5_rerunning.jsonl',\n 'writing_prompt_gpt-4.1-mini-2025-04-14_batch_processing_re_cleaning_paraphrase_polish_llm_4_rerunning.jsonl',\n 'writing_prompt_gpt-4.1-mini-2025-04-14_batch_processing_re_cleaning_paraphrase_polish_llm_3_rerunning.jsonl',\n 'writing_prompt_gpt-4.1-mini-2025-04-14_batch_processing_re_cleaning_paraphrase_polish_llm_2_rerunning.jsonl',\n 'writing_prompt_gpt-4.1-mini-2025-04-14_batch_processing_re_cleaning_paraphrase_polish_llm_1_rerunning.jsonl',\n 'writing_prompt_gpt-4.1-mini-2025-04-14_batch_processing_re_cleaning_paraphrase_polish_llm_0_rerunning.jsonl',\n 'writing_prompt_gpt-4.1-mini-2025-04-14_batch_processing_re_cleaning_paraphrase_polish_human_2_rerunning.jsonl',\n 'writing_prompt_gpt-4.1-mini-2025-04-14_batch_processing_re_cleaning_paraphrase_polish_human_1_rerunning.jsonl',\n 'writing_prompt_gpt-4.1-mini-2025-04-14_batch_processing_re_cleaning_paraphrase_polish_human_0_rerunning.jsonl',\n 'writing_prompt_gpt-4.1-mini-2025-04-14_batch_processing_re_cleaning_direct_prompt_0_rerunning.jsonl',\n 'writing_prompt_gpt-4.1-mini-2025-04-14_batch_processing_re_cleaning_prompt_SICO_1_rerunning.jsonl',\n 'writing_prompt_gpt-4.1-mini-2025-04-14_batch_processing_re_cleaning_prompt_SICO_0_rerunning.jsonl',\n 'xsum_gpt-4.1-mini-2025-04-14_batch_processing_re_cleaning_paraphrase_polish_llm_5_rerunning.jsonl',\n 'xsum_gpt-4.1-mini-2025-04-14_batch_processing_re_cleaning_paraphrase_polish_llm_4_rerunning.jsonl',\n 'xsum_gpt-4.1-mini-2025-04-14_batch_processing_re_cleaning_paraphrase_polish_llm_3_rerunning.jsonl',\n 'xsum_gpt-4.1-mini-2025-04-14_batch_processing_re_cleaning_paraphrase_polish_llm_2_rerunning.jsonl',\n 'xsum_gpt-4.1-mini-2025-04-14_batch_processing_re_cleaning_paraphrase_polish_llm_1_rerunning.jsonl',\n 'xsum_gpt-4.1-mini-2025-04-14_batch_processing_re_cleaning_paraphrase_polish_llm_0_rerunning.jsonl',\n 'xsum_gpt-4.1-mini-2025-04-14_batch_processing_re_cleaning_prompt_few_shot_0_rerunning.jsonl',\n 'xsum_gpt-4.1-mini-2025-04-14_batch_processing_re_cleaning_paraphrase_polish_human_4_rerunning.jsonl',\n 'xsum_gpt-4.1-mini-2025-04-14_batch_processing_re_cleaning_paraphrase_polish_human_3_rerunning.jsonl',\n 'xsum_gpt-4.1-mini-2025-04-14_batch_processing_re_cleaning_paraphrase_polish_human_2_rerunning.jsonl',\n 'xsum_gpt-4.1-mini-2025-04-14_batch_processing_re_cleaning_paraphrase_polish_human_1_rerunning.jsonl',\n 'xsum_gpt-4.1-mini-2025-04-14_batch_processing_re_cleaning_paraphrase_polish_human_0_rerunning.jsonl',\n 'arxiv_gpt-4.1-mini-2025-04-14_batch_processing_re_cleaning_paraphrase_polish_llm_6_rerunning.jsonl',\n 'arxiv_gpt-4.1-mini-2025-04-14_batch_processing_re_cleaning_paraphrase_polish_llm_5_rerunning.jsonl',\n 'arxiv_gpt-4.1-mini-2025-04-14_batch_processing_re_cleaning_paraphrase_polish_llm_4_rerunning.jsonl',\n 'arxiv_gpt-4.1-mini-2025-04-14_batch_processing_re_cleaning_paraphrase_polish_llm_3_rerunning.jsonl',\n 'arxiv_gpt-4.1-mini-2025-04-14_batch_processing_re_cleaning_paraphrase_polish_llm_2_rerunning.jsonl',\n 'arxiv_gpt-4.1-mini-2025-04-14_batch_processing_re_cleaning_paraphrase_polish_llm_1_rerunning.jsonl',\n 'arxiv_gpt-4.1-mini-2025-04-14_batch_processing_re_cleaning_paraphrase_polish_llm_0_rerunning.jsonl',\n 'arxiv_gpt-4.1-mini-2025-04-14_batch_processing_re_cleaning_paraphrase_polish_human_4_rerunning.jsonl',\n 'arxiv_gpt-4.1-mini-2025-04-14_batch_processing_re_cleaning_paraphrase_polish_human_3_rerunning.jsonl',\n 'arxiv_gpt-4.1-mini-2025-04-14_batch_processing_re_cleaning_paraphrase_polish_human_2_rerunning.jsonl',\n 'arxiv_gpt-4.1-mini-2025-04-14_batch_processing_re_cleaning_paraphrase_polish_human_1_rerunning.jsonl',\n 'arxiv_gpt-4.1-mini-2025-04-14_batch_processing_re_cleaning_paraphrase_polish_human_0_rerunning.jsonl',\n 'arxiv_gpt-4.1-mini-2025-04-14_batch_processing_re_cleaning_paraphrase_polish_human_0_rerunning.jsonl',\n 'yelp_review_gpt-4.1-mini-2025-04-14_batch_processing_re_cleaning_paraphrase_polish_llm_5_trained_on_paraphrasing.jsonl',\n 'writing_prompt_gpt-4.1-mini-2025-04-14_batch_processing_re_cleaning_paraphrase_polish_llm_6_trained_on_paraphrasing.jsonl',\n 'writing_prompt_gpt-4.1-mini-2025-04-14_batch_processing_re_cleaning_direct_prompt_1_trained_on_paraphrasing.jsonl',\n 'xsum_gpt-4.1-mini-2025-04-14_batch_processing_re_cleaning_prompt_few_shot_2_trained_on_paraphrasing.jsonl',\n 'xsum_gpt-4.1-mini-2025-04-14_batch_processing_re_cleaning_prompt_few_shot_1_trained_on_paraphrasing.jsonl',\n 'xsum_gpt-4.1-mini-2025-04-14_batch_processing_re_cleaning_prompt_few_shot_1_trained_on_paraphrasing.jsonl',\n 'xsum_gpt-4.1-mini-2025-04-14_batch_processing_re_cleaning_direct_prompt_2_trained_on_paraphrasing.jsonl',\n 'xsum_gpt-4.1-mini-2025-04-14_batch_processing_re_cleaning_direct_prompt_1_trained_on_paraphrasing.jsonl',\n 'xsum_gpt-4.1-mini-2025-04-14_batch_processing_re_cleaning_direct_prompt_0_trained_on_paraphrasing.jsonl',\n 'xsum_gpt-4.1-mini-2025-04-14_batch_processing_re_cleaning_prompt_SICO_1_trained_on_paraphrasing.jsonl',\n 'xsum_gpt-4.1-mini-2025-04-14_batch_processing_re_cleaning_prompt_SICO_0_trained_on_paraphrasing.jsonl',\n 'xsum_gpt-4.1-mini-2025-04-14_batch_processing_re_cleaning_paraphrase_polish_llm_7_trained_on_paraphrasing.jsonl',\n 'xsum_gpt-4.1-mini-2025-04-14_batch_processing_re_cleaning_paraphrase_polish_llm_6_trained_on_paraphrasing.jsonl',\n 'xsum_gpt-4.1-mini-2025-04-14_batch_processing_re_cleaning_paraphrase_polish_llm_5_trained_on_paraphrasing.jsonl',\n 'arxiv_gpt-4.1-mini-2025-04-14_batch_processing_re_cleaning_prompt_few_shot_0_trained_on_paraphrasing.jsonl',\n 'arxiv_gpt-4.1-mini-2025-04-14_batch_processing_re_cleaning_direct_prompt_1_trained_on_paraphrasing.jsonl',\n 'arxiv_gpt-4.1-mini-2025-04-14_batch_processing_re_cleaning_direct_prompt_0_trained_on_paraphrasing.jsonl',\n 'arxiv_gpt-4.1-mini-2025-04-14_batch_processing_re_cleaning_prompt_SICO_0_trained_on_paraphrasing.jsonl',\n 'arxiv_gpt-4.1-2025-04-14_batch_processing.jsonl',\n 'arxiv_gpt-4.1-2025-04-14_batch_processing.jsonl',\n 'arxiv_gpt-4.1-2025-04-14_batch_processing.jsonl',\n 'arxiv_gpt-4.1-2025-04-14_batch_processing.jsonl',\n 'arxiv_gpt-4.1-2025-04-14_batch_processing.jsonl',\n 'arxiv_gpt-4.1-2025-04-14_batch_processing.jsonl',\n 'yelp_review_gpt-4.1-mini-2025-04-14_batch_processing_re_cleaning_direct_prompt_0_trained_on_paraphrasing.jsonl',\n 'yelp_review_gpt-4.1-mini-2025-04-14_batch_processing_re_cleaning_paraphrase_polish_human_1_trained_on_paraphrasing.jsonl',\n 'writing_prompt_gpt-4.1-mini-2025-04-14_batch_processing_re_cleaning_paraphrase_polish_human_4_trained_on_paraphrasing.jsonl',\n 'writing_prompt_gpt-4.1-mini-2025-04-14_batch_processing_re_cleaning_paraphrase_polish_human_2_trained_on_paraphrasing.jsonl',\n 'writing_prompt_gpt-4.1-mini-2025-04-14_batch_processing_re_cleaning_prompt_few_shot_0_trained_on_paraphrasing.jsonl',\n 'writing_prompt_gpt-4.1-mini-2025-04-14_batch_processing_re_cleaning_paraphrase_polish_llm_3_trained_on_paraphrasing.jsonl',\n 'yelp_review_gpt-4.1-mini-2025-04-14_batch_processing_re_cleaning_paraphrase_polish_human_2_trained_on_paraphrasing.jsonl',\n 'yelp_review_gpt-4.1-mini-2025-04-14_batch_processing_re_cleaning_paraphrase_polish_human_0_trained_on_paraphrasing.jsonl',\n 'yelp_review_gpt-4.1-mini-2025-04-14_batch_processing_re_cleaning_paraphrase_polish_llm_1_trained_on_paraphrasing.jsonl',\n 'yelp_review_gpt-4.1-mini-2025-04-14_batch_processing_re_cleaning_paraphrase_polish_llm_0_trained_on_paraphrasing.jsonl',\n 'writing_prompt_gpt-4.1-mini-2025-04-14_batch_processing_re_cleaning_direct_prompt_0_trained_on_paraphrasing.jsonl',\n 'writing_prompt_gpt-4.1-mini-2025-04-14_batch_processing_re_cleaning_paraphrase_polish_human_1_trained_on_paraphrasing.jsonl',\n 'yelp_review_gpt-4.1-mini-2025-04-14_batch_processing_re_cleaning_prompt_SICO_0_trained_on_paraphrasing.jsonl',\n 'yelp_review_gpt-4.1-mini-2025-04-14_batch_processing_re_cleaning_prompt_few_shot_0_trained_on_paraphrasing.jsonl',\n 'yelp_review_gpt-4.1-mini-2025-04-14_batch_processing_re_cleaning_prompt_few_shot_0_trained_on_paraphrasing.jsonl',\n 'yelp_review_gpt-4.1-mini-2025-04-14_batch_processing_re_cleaning_paraphrase_polish_human_5_trained_on_paraphrasing.jsonl',\n 'yelp_review_gpt-4.1-mini-2025-04-14_batch_processing_re_cleaning_paraphrase_polish_human_4_trained_on_paraphrasing.jsonl',\n 'yelp_review_gpt-4.1-mini-2025-04-14_batch_processing_re_cleaning_paraphrase_polish_human_3_trained_on_paraphrasing.jsonl',\n 'yelp_review_gpt-4.1-mini-2025-04-14_batch_processing_re_cleaning_paraphrase_polish_llm_3_trained_on_paraphrasing.jsonl',\n 'yelp_review_gpt-4.1-mini-2025-04-14_batch_processing_re_cleaning_paraphrase_polish_llm_2_trained_on_paraphrasing.jsonl',\n 'yelp_review_gpt-4.1-mini-2025-04-14_batch_processing_re_cleaning_prompt_SICO_0_trained_on_paraphrasing.jsonl',\n 'yelp_review_gpt-4.1-mini-2025-04-14_batch_processing_re_cleaning_paraphrase_polish_llm_4_trained_on_paraphrasing.jsonl',\n 'yelp_review_gpt-4.1-mini-2025-04-14_batch_processing_re_cleaning_paraphrase_polish_llm_3_trained_on_paraphrasing.jsonl',\n 'writing_prompt_gpt-4.1-mini-2025-04-14_batch_processing_re_cleaning_direct_prompt_0_trained_on_paraphrasing.jsonl',\n 'writing_prompt_gpt-4.1-mini-2025-04-14_batch_processing_re_cleaning_prompt_SICO_1_trained_on_paraphrasing.jsonl',\n 'writing_prompt_gpt-4.1-mini-2025-04-14_batch_processing_re_cleaning_prompt_SICO_0_trained_on_paraphrasing.jsonl',\n 'writing_prompt_gpt-4.1-mini-2025-04-14_batch_processing_re_cleaning_direct_prompt_0_trained_on_paraphrasing.jsonl',\n 'writing_prompt_gpt-4.1-mini-2025-04-14_batch_processing_re_cleaning_paraphrase_polish_human_3_trained_on_paraphrasing.jsonl',\n 'writing_prompt_gpt-4.1-mini-2025-04-14_batch_processing_re_cleaning_paraphrase_polish_human_1_trained_on_paraphrasing.jsonl',\n 'writing_prompt_gpt-4.1-mini-2025-04-14_batch_processing_re_cleaning_paraphrase_polish_human_3_trained_on_paraphrasing.jsonl',\n 'writing_prompt_gpt-4.1-mini-2025-04-14_batch_processing_re_cleaning_paraphrase_polish_llm_5_trained_on_paraphrasing.jsonl',\n 'writing_prompt_gpt-4.1-mini-2025-04-14_batch_processing_re_cleaning_paraphrase_polish_human_0_trained_on_paraphrasing.jsonl',\n 'writing_prompt_gpt-4.1-mini-2025-04-14_batch_processing_re_cleaning_prompt_SICO_0_trained_on_paraphrasing.jsonl',\n 'writing_prompt_gpt-4.1-mini-2025-04-14_batch_processing_re_cleaning_paraphrase_polish_llm_5_trained_on_paraphrasing.jsonl',\n 'writing_prompt_gpt-4.1-mini-2025-04-14_batch_processing_re_cleaning_paraphrase_polish_llm_4_trained_on_paraphrasing.jsonl',\n 'xsum_gpt-4.1-mini-2025-04-14_batch_processing_re_cleaning_paraphrase_polish_human_4_trained_on_paraphrasing.jsonl',\n 'writing_prompt_gpt-4.1-mini-2025-04-14_batch_processing_re_cleaning_paraphrase_polish_llm_2_trained_on_paraphrasing.jsonl',\n 'writing_prompt_gpt-4.1-mini-2025-04-14_batch_processing_re_cleaning_paraphrase_polish_llm_1_trained_on_paraphrasing.jsonl',\n 'writing_prompt_gpt-4.1-mini-2025-04-14_batch_processing_re_cleaning_paraphrase_polish_llm_0_trained_on_paraphrasing.jsonl',\n 'xsum_gpt-4.1-mini-2025-04-14_batch_processing_re_cleaning_prompt_few_shot_0_trained_on_paraphrasing.jsonl',\n 'xsum_gpt-4.1-mini-2025-04-14_batch_processing_re_cleaning_paraphrase_polish_human_3_trained_on_paraphrasing.jsonl',\n 'xsum_gpt-4.1-mini-2025-04-14_batch_processing_re_cleaning_paraphrase_polish_human_2_trained_on_paraphrasing.jsonl',\n 'xsum_gpt-4.1-mini-2025-04-14_batch_processing_re_cleaning_paraphrase_polish_human_1_trained_on_paraphrasing.jsonl',\n 'xsum_gpt-4.1-mini-2025-04-14_batch_processing_re_cleaning_paraphrase_polish_human_4_trained_on_paraphrasing.jsonl',\n 'xsum_gpt-4.1-mini-2025-04-14_batch_processing_re_cleaning_paraphrase_polish_human_3_trained_on_paraphrasing.jsonl',\n 'xsum_gpt-4.1-mini-2025-04-14_batch_processing_re_cleaning_paraphrase_polish_human_2_trained_on_paraphrasing.jsonl',\n 'xsum_gpt-4.1-mini-2025-04-14_batch_processing_re_cleaning_paraphrase_polish_human_0_trained_on_paraphrasing.jsonl',\n 'xsum_gpt-4.1-mini-2025-04-14_batch_processing_re_cleaning_paraphrase_polish_llm_4_trained_on_paraphrasing.jsonl',\n 'xsum_gpt-4.1-mini-2025-04-14_batch_processing_re_cleaning_paraphrase_polish_llm_3_trained_on_paraphrasing.jsonl',\n 'xsum_gpt-4.1-mini-2025-04-14_batch_processing_re_cleaning_paraphrase_polish_llm_2_trained_on_paraphrasing.jsonl',\n 'xsum_gpt-4.1-mini-2025-04-14_batch_processing_re_cleaning_paraphrase_polish_human_1_trained_on_paraphrasing.jsonl',\n 'xsum_gpt-4.1-mini-2025-04-14_batch_processing_re_cleaning_paraphrase_polish_human_0_trained_on_paraphrasing.jsonl',\n 'xsum_gpt-4.1-mini-2025-04-14_batch_processing_re_cleaning_paraphrase_polish_llm_4_trained_on_paraphrasing.jsonl',\n 'xsum_gpt-4.1-mini-2025-04-14_batch_processing_re_cleaning_paraphrase_polish_llm_3_trained_on_paraphrasing.jsonl',\n 'xsum_gpt-4.1-mini-2025-04-14_batch_processing_re_cleaning_paraphrase_polish_llm_1_trained_on_paraphrasing.jsonl',\n 'xsum_gpt-4.1-mini-2025-04-14_batch_processing_re_cleaning_paraphrase_polish_llm_2_trained_on_paraphrasing.jsonl',\n 'xsum_gpt-4.1-mini-2025-04-14_batch_processing_re_cleaning_paraphrase_polish_llm_1_trained_on_paraphrasing.jsonl',\n 'xsum_gpt-4.1-mini-2025-04-14_batch_processing_re_cleaning_paraphrase_polish_llm_0_trained_on_paraphrasing.jsonl',\n 'xsum_gpt-4.1-mini-2025-04-14_batch_processing_re_cleaning_prompt_few_shot_0_trained_on_paraphrasing.jsonl',\n 'xsum_gpt-4.1-mini-2025-04-14_batch_processing_re_cleaning_paraphrase_polish_llm_0_trained_on_paraphrasing.jsonl',\n 'arxiv_gpt-4.1-mini-2025-04-14_batch_processing_re_cleaning_paraphrase_polish_human_4_trained_on_paraphrasing.jsonl',\n 'arxiv_gpt-4.1-mini-2025-04-14_batch_processing_re_cleaning_paraphrase_polish_human_4_trained_on_paraphrasing.jsonl',\n 'arxiv_gpt-4.1-mini-2025-04-14_batch_processing_re_cleaning_paraphrase_polish_human_3_trained_on_paraphrasing.jsonl',\n 'arxiv_gpt-4.1-mini-2025-04-14_batch_processing_re_cleaning_paraphrase_polish_human_3_trained_on_paraphrasing.jsonl',\n 'arxiv_gpt-4.1-mini-2025-04-14_batch_processing_re_cleaning_paraphrase_polish_human_2_trained_on_paraphrasing.jsonl',\n 'arxiv_gpt-4.1-mini-2025-04-14_batch_processing_re_cleaning_paraphrase_polish_human_2_trained_on_paraphrasing.jsonl',\n 'arxiv_gpt-4.1-mini-2025-04-14_batch_processing_re_cleaning_paraphrase_polish_human_1_trained_on_paraphrasing.jsonl',\n 'arxiv_gpt-4.1-mini-2025-04-14_batch_processing_re_cleaning_paraphrase_polish_human_0_trained_on_paraphrasing.jsonl',\n 'arxiv_gpt-4.1-mini-2025-04-14_batch_processing_re_cleaning_paraphrase_polish_llm_5_trained_on_paraphrasing.jsonl',\n 'arxiv_gpt-4.1-mini-2025-04-14_batch_processing_re_cleaning_paraphrase_polish_human_1_trained_on_paraphrasing.jsonl',\n 'arxiv_gpt-4.1-mini-2025-04-14_batch_processing_re_cleaning_paraphrase_polish_human_0_trained_on_paraphrasing.jsonl',\n 'arxiv_gpt-4.1-mini-2025-04-14_batch_processing_re_cleaning_paraphrase_polish_llm_5_trained_on_paraphrasing.jsonl',\n 'arxiv_gpt-4.1-mini-2025-04-14_batch_processing_re_cleaning_paraphrase_polish_llm_4_trained_on_paraphrasing.jsonl',\n 'arxiv_gpt-4.1-mini-2025-04-14_batch_processing_re_cleaning_paraphrase_polish_llm_4_trained_on_paraphrasing.jsonl',\n 'arxiv_gpt-4.1-mini-2025-04-14_batch_processing_re_cleaning_paraphrase_polish_llm_3_trained_on_paraphrasing.jsonl',\n 'arxiv_gpt-4.1-mini-2025-04-14_batch_processing_re_cleaning_paraphrase_polish_llm_3_trained_on_paraphrasing.jsonl',\n 'arxiv_gpt-4.1-mini-2025-04-14_batch_processing_re_cleaning_paraphrase_polish_llm_2_trained_on_paraphrasing.jsonl',\n 'arxiv_gpt-4.1-mini-2025-04-14_batch_processing_re_cleaning_paraphrase_polish_llm_2_trained_on_paraphrasing.jsonl',\n 'arxiv_gpt-4.1-mini-2025-04-14_batch_processing_re_cleaning_paraphrase_polish_llm_1_trained_on_paraphrasing.jsonl',\n 'arxiv_gpt-4.1-mini-2025-04-14_batch_processing_re_cleaning_paraphrase_polish_llm_0_trained_on_paraphrasing.jsonl',\n 'yelp_review_gpt-4.1-mini-2025-04-14_batch_processing_re_cleaning_prompt_SICO_1.jsonl',\n 'yelp_review_gpt-4.1-mini-2025-04-14_batch_processing_re_cleaning_prompt_SICO_0.jsonl',\n 'yelp_review_gpt-4.1-mini-2025-04-14_batch_processing_re_cleaning_prompt_few_shot_3.jsonl',\n 'yelp_review_gpt-4.1-mini-2025-04-14_batch_processing_re_cleaning_prompt_few_shot_2.jsonl',\n 'yelp_review_gpt-4.1-mini-2025-04-14_batch_processing_re_cleaning_prompt_few_shot_1.jsonl',\n 'yelp_review_gpt-4.1-mini-2025-04-14_batch_processing_re_cleaning_prompt_few_shot_0.jsonl',\n 'yelp_review_gpt-4.1-mini-2025-04-14_batch_processing_re_cleaning_direct_prompt_4.jsonl',\n 'yelp_review_gpt-4.1-mini-2025-04-14_batch_processing_re_cleaning_direct_prompt_3.jsonl',\n 'yelp_review_gpt-4.1-mini-2025-04-14_batch_processing_re_cleaning_direct_prompt_2.jsonl',\n 'writing_prompt_gpt-4.1-mini-2025-04-14_batch_processing_re_cleaning_prompt_SICO_2.jsonl',\n 'writing_prompt_gpt-4.1-mini-2025-04-14_batch_processing_re_cleaning_prompt_few_shot_3.jsonl',\n 'arxiv_gpt-4.1-mini-2025-04-14_batch_processing_re_cleaning_direct_prompt_0.jsonl',\n 'yelp_review_gpt-4.1-mini-2025-04-14_batch_processing_re_cleaning_direct_prompt_1.jsonl',\n 'yelp_review_gpt-4.1-mini-2025-04-14_batch_processing_re_cleaning_direct_prompt_0.jsonl',\n 'writing_prompt_gpt-4.1-mini-2025-04-14_batch_processing_re_cleaning_prompt_SICO_1.jsonl',\n 'writing_prompt_gpt-4.1-mini-2025-04-14_batch_processing_re_cleaning_prompt_SICO_0.jsonl',\n 'writing_prompt_gpt-4.1-mini-2025-04-14_batch_processing_re_cleaning_prompt_few_shot_2.jsonl',\n 'writing_prompt_gpt-4.1-mini-2025-04-14_batch_processing_re_cleaning_prompt_few_shot_1.jsonl',\n 'writing_prompt_gpt-4.1-mini-2025-04-14_batch_processing_re_cleaning_prompt_few_shot_0.jsonl',\n 'writing_prompt_gpt-4.1-mini-2025-04-14_batch_processing_re_cleaning_direct_prompt_5.jsonl',\n 'writing_prompt_gpt-4.1-mini-2025-04-14_batch_processing_re_cleaning_direct_prompt_4.jsonl',\n 'writing_prompt_gpt-4.1-mini-2025-04-14_batch_processing_re_cleaning_direct_prompt_3.jsonl',\n 'writing_prompt_gpt-4.1-mini-2025-04-14_batch_processing_re_cleaning_direct_prompt_2.jsonl',\n 'writing_prompt_gpt-4.1-mini-2025-04-14_batch_processing_re_cleaning_direct_prompt_1.jsonl',\n 'writing_prompt_gpt-4.1-mini-2025-04-14_batch_processing_re_cleaning_direct_prompt_0.jsonl',\n 'xsum_gpt-4.1-mini-2025-04-14_batch_processing_re_cleaning_prompt_SICO_4.jsonl',\n 'xsum_gpt-4.1-mini-2025-04-14_batch_processing_re_cleaning_prompt_SICO_3.jsonl',\n 'xsum_gpt-4.1-mini-2025-04-14_batch_processing_re_cleaning_prompt_SICO_2.jsonl',\n 'xsum_gpt-4.1-mini-2025-04-14_batch_processing_re_cleaning_prompt_SICO_1.jsonl',\n 'xsum_gpt-4.1-mini-2025-04-14_batch_processing_re_cleaning_prompt_SICO_0.jsonl',\n 'xsum_gpt-4.1-mini-2025-04-14_batch_processing_re_cleaning_prompt_few_shot_4.jsonl',\n 'xsum_gpt-4.1-mini-2025-04-14_batch_processing_re_cleaning_prompt_few_shot_3.jsonl',\n 'xsum_gpt-4.1-mini-2025-04-14_batch_processing_re_cleaning_prompt_few_shot_2.jsonl',\n 'xsum_gpt-4.1-mini-2025-04-14_batch_processing_re_cleaning_prompt_few_shot_1.jsonl',\n 'xsum_gpt-4.1-mini-2025-04-14_batch_processing_re_cleaning_prompt_few_shot_0.jsonl',\n 'xsum_gpt-4.1-mini-2025-04-14_batch_processing_re_cleaning_direct_prompt_5.jsonl',\n 'xsum_gpt-4.1-mini-2025-04-14_batch_processing_re_cleaning_direct_prompt_4.jsonl',\n 'xsum_gpt-4.1-mini-2025-04-14_batch_processing_re_cleaning_direct_prompt_3.jsonl',\n 'xsum_gpt-4.1-mini-2025-04-14_batch_processing_re_cleaning_direct_prompt_2.jsonl',\n 'xsum_gpt-4.1-mini-2025-04-14_batch_processing_re_cleaning_direct_prompt_1.jsonl',\n 'xsum_gpt-4.1-mini-2025-04-14_batch_processing_re_cleaning_direct_prompt_0.jsonl',\n 'arxiv_gpt-4.1-mini-2025-04-14_batch_processing_re_cleaning_prompt_SICO_2.jsonl',\n 'arxiv_gpt-4.1-mini-2025-04-14_batch_processing_re_cleaning_prompt_SICO_1.jsonl',\n 'arxiv_gpt-4.1-mini-2025-04-14_batch_processing_re_cleaning_prompt_SICO_0.jsonl',\n 'arxiv_gpt-4.1-mini-2025-04-14_batch_processing_re_cleaning_prompt_few_shot_3.jsonl',\n 'arxiv_gpt-4.1-mini-2025-04-14_batch_processing_re_cleaning_prompt_few_shot_2.jsonl',\n 'arxiv_gpt-4.1-mini-2025-04-14_batch_processing_re_cleaning_prompt_few_shot_1.jsonl',\n 'arxiv_gpt-4.1-mini-2025-04-14_batch_processing_re_cleaning_prompt_few_shot_0.jsonl',\n 'arxiv_gpt-4.1-mini-2025-04-14_batch_processing_re_cleaning_direct_prompt_5.jsonl',\n 'arxiv_gpt-4.1-mini-2025-04-14_batch_processing_re_cleaning_direct_prompt_4.jsonl',\n 'arxiv_gpt-4.1-mini-2025-04-14_batch_processing_re_cleaning_direct_prompt_3.jsonl',\n 'arxiv_gpt-4.1-mini-2025-04-14_batch_processing_re_cleaning_direct_prompt_2.jsonl',\n 'arxiv_gpt-4.1-mini-2025-04-14_batch_processing_re_cleaning_direct_prompt_1.jsonl',\n 'arxiv_gpt-4.1-mini-2025-04-14_batch_processing_re_cleaning_direct_prompt_0.jsonl',\n 'arxiv_gpt-4.1-mini-2025-04-14_batch_processing_re_cleaning_direct_prompt_0.jsonl',\n 'arxiv_gpt-4.1-mini-2025-04-14_batch_processing_re_cleaning_direct_prompt_0.jsonl',\n 'arxiv_gpt-4.1-mini-2025-04-14_batch_processing_re_cleaning_0.jsonl']"
     },
     "execution_count": 50,
     "metadata": {},
     "output_type": "execute_result"
    }
   ],
   "source": [
    "completed_files"
   ],
   "metadata": {
    "collapsed": false,
    "ExecuteTime": {
     "end_time": "2025-07-25T07:29:07.232620600Z",
     "start_time": "2025-07-25T07:29:07.207628900Z"
    }
   },
   "id": "6443b9a88fefb4b9"
  },
  {
   "cell_type": "code",
   "execution_count": 68,
   "outputs": [
    {
     "name": "stdout",
     "output_type": "stream",
     "text": [
      "✔️ Downloaded: C:\\Users\\Phili\\Desktop\\Masterarbeit\\Masterarbeit_Code\\src\\..//results//re_cleaned/yelp_review_gpt-4.1-mini-2025-04-14_batch_processing_re_cleaning_paraphrase_polish_llm_1_rerunning2.jsonl_output.jsonl\n",
      "✔️ Downloaded: C:\\Users\\Phili\\Desktop\\Masterarbeit\\Masterarbeit_Code\\src\\..//results//re_cleaned/yelp_review_gpt-4.1-mini-2025-04-14_batch_processing_re_cleaning_paraphrase_polish_llm_0_rerunning2.jsonl_output.jsonl\n",
      "✔️ Downloaded: C:\\Users\\Phili\\Desktop\\Masterarbeit\\Masterarbeit_Code\\src\\..//results//re_cleaned/yelp_review_gpt-4.1-mini-2025-04-14_batch_processing_re_cleaning_paraphrase_polish_llm_0_rerunning.jsonl_output.jsonl\n",
      "✔️ Downloaded: C:\\Users\\Phili\\Desktop\\Masterarbeit\\Masterarbeit_Code\\src\\..//results//re_cleaned/yelp_review_gpt-4.1-mini-2025-04-14_batch_processing_re_cleaning_paraphrase_polish_human_0_rerunning.jsonl_output.jsonl\n",
      "✔️ Downloaded: C:\\Users\\Phili\\Desktop\\Masterarbeit\\Masterarbeit_Code\\src\\..//results//re_cleaned/writing_prompt_gpt-4.1-mini-2025-04-14_batch_processing_re_cleaning_paraphrase_polish_llm_6_rerunning.jsonl_output.jsonl\n",
      "✔️ Downloaded: C:\\Users\\Phili\\Desktop\\Masterarbeit\\Masterarbeit_Code\\src\\..//results//re_cleaned/writing_prompt_gpt-4.1-mini-2025-04-14_batch_processing_re_cleaning_paraphrase_polish_llm_5_rerunning.jsonl_output.jsonl\n",
      "✔️ Downloaded: C:\\Users\\Phili\\Desktop\\Masterarbeit\\Masterarbeit_Code\\src\\..//results//re_cleaned/writing_prompt_gpt-4.1-mini-2025-04-14_batch_processing_re_cleaning_paraphrase_polish_llm_4_rerunning.jsonl_output.jsonl\n",
      "✔️ Downloaded: C:\\Users\\Phili\\Desktop\\Masterarbeit\\Masterarbeit_Code\\src\\..//results//re_cleaned/writing_prompt_gpt-4.1-mini-2025-04-14_batch_processing_re_cleaning_paraphrase_polish_llm_3_rerunning.jsonl_output.jsonl\n",
      "✔️ Downloaded: C:\\Users\\Phili\\Desktop\\Masterarbeit\\Masterarbeit_Code\\src\\..//results//re_cleaned/writing_prompt_gpt-4.1-mini-2025-04-14_batch_processing_re_cleaning_paraphrase_polish_llm_2_rerunning.jsonl_output.jsonl\n",
      "✔️ Downloaded: C:\\Users\\Phili\\Desktop\\Masterarbeit\\Masterarbeit_Code\\src\\..//results//re_cleaned/writing_prompt_gpt-4.1-mini-2025-04-14_batch_processing_re_cleaning_paraphrase_polish_llm_1_rerunning.jsonl_output.jsonl\n",
      "✔️ Downloaded: C:\\Users\\Phili\\Desktop\\Masterarbeit\\Masterarbeit_Code\\src\\..//results//re_cleaned/writing_prompt_gpt-4.1-mini-2025-04-14_batch_processing_re_cleaning_paraphrase_polish_llm_0_rerunning.jsonl_output.jsonl\n",
      "✔️ Downloaded: C:\\Users\\Phili\\Desktop\\Masterarbeit\\Masterarbeit_Code\\src\\..//results//re_cleaned/writing_prompt_gpt-4.1-mini-2025-04-14_batch_processing_re_cleaning_paraphrase_polish_human_2_rerunning.jsonl_output.jsonl\n",
      "✔️ Downloaded: C:\\Users\\Phili\\Desktop\\Masterarbeit\\Masterarbeit_Code\\src\\..//results//re_cleaned/writing_prompt_gpt-4.1-mini-2025-04-14_batch_processing_re_cleaning_paraphrase_polish_human_1_rerunning.jsonl_output.jsonl\n",
      "✔️ Downloaded: C:\\Users\\Phili\\Desktop\\Masterarbeit\\Masterarbeit_Code\\src\\..//results//re_cleaned/writing_prompt_gpt-4.1-mini-2025-04-14_batch_processing_re_cleaning_paraphrase_polish_human_0_rerunning.jsonl_output.jsonl\n",
      "✔️ Downloaded: C:\\Users\\Phili\\Desktop\\Masterarbeit\\Masterarbeit_Code\\src\\..//results//re_cleaned/writing_prompt_gpt-4.1-mini-2025-04-14_batch_processing_re_cleaning_direct_prompt_0_rerunning.jsonl_output.jsonl\n",
      "✔️ Downloaded: C:\\Users\\Phili\\Desktop\\Masterarbeit\\Masterarbeit_Code\\src\\..//results//re_cleaned/writing_prompt_gpt-4.1-mini-2025-04-14_batch_processing_re_cleaning_prompt_SICO_1_rerunning.jsonl_output.jsonl\n",
      "✔️ Downloaded: C:\\Users\\Phili\\Desktop\\Masterarbeit\\Masterarbeit_Code\\src\\..//results//re_cleaned/writing_prompt_gpt-4.1-mini-2025-04-14_batch_processing_re_cleaning_prompt_SICO_0_rerunning.jsonl_output.jsonl\n",
      "✔️ Downloaded: C:\\Users\\Phili\\Desktop\\Masterarbeit\\Masterarbeit_Code\\src\\..//results//re_cleaned/xsum_gpt-4.1-mini-2025-04-14_batch_processing_re_cleaning_paraphrase_polish_llm_5_rerunning.jsonl_output.jsonl\n",
      "✔️ Downloaded: C:\\Users\\Phili\\Desktop\\Masterarbeit\\Masterarbeit_Code\\src\\..//results//re_cleaned/xsum_gpt-4.1-mini-2025-04-14_batch_processing_re_cleaning_paraphrase_polish_llm_4_rerunning.jsonl_output.jsonl\n",
      "✔️ Downloaded: C:\\Users\\Phili\\Desktop\\Masterarbeit\\Masterarbeit_Code\\src\\..//results//re_cleaned/xsum_gpt-4.1-mini-2025-04-14_batch_processing_re_cleaning_paraphrase_polish_llm_3_rerunning.jsonl_output.jsonl\n",
      "✔️ Downloaded: C:\\Users\\Phili\\Desktop\\Masterarbeit\\Masterarbeit_Code\\src\\..//results//re_cleaned/xsum_gpt-4.1-mini-2025-04-14_batch_processing_re_cleaning_paraphrase_polish_llm_2_rerunning.jsonl_output.jsonl\n",
      "✔️ Downloaded: C:\\Users\\Phili\\Desktop\\Masterarbeit\\Masterarbeit_Code\\src\\..//results//re_cleaned/xsum_gpt-4.1-mini-2025-04-14_batch_processing_re_cleaning_paraphrase_polish_llm_1_rerunning.jsonl_output.jsonl\n",
      "✔️ Downloaded: C:\\Users\\Phili\\Desktop\\Masterarbeit\\Masterarbeit_Code\\src\\..//results//re_cleaned/xsum_gpt-4.1-mini-2025-04-14_batch_processing_re_cleaning_paraphrase_polish_llm_0_rerunning.jsonl_output.jsonl\n",
      "✔️ Downloaded: C:\\Users\\Phili\\Desktop\\Masterarbeit\\Masterarbeit_Code\\src\\..//results//re_cleaned/xsum_gpt-4.1-mini-2025-04-14_batch_processing_re_cleaning_prompt_few_shot_0_rerunning.jsonl_output.jsonl\n",
      "✔️ Downloaded: C:\\Users\\Phili\\Desktop\\Masterarbeit\\Masterarbeit_Code\\src\\..//results//re_cleaned/xsum_gpt-4.1-mini-2025-04-14_batch_processing_re_cleaning_paraphrase_polish_human_4_rerunning.jsonl_output.jsonl\n",
      "✔️ Downloaded: C:\\Users\\Phili\\Desktop\\Masterarbeit\\Masterarbeit_Code\\src\\..//results//re_cleaned/xsum_gpt-4.1-mini-2025-04-14_batch_processing_re_cleaning_paraphrase_polish_human_3_rerunning.jsonl_output.jsonl\n",
      "✔️ Downloaded: C:\\Users\\Phili\\Desktop\\Masterarbeit\\Masterarbeit_Code\\src\\..//results//re_cleaned/xsum_gpt-4.1-mini-2025-04-14_batch_processing_re_cleaning_paraphrase_polish_human_2_rerunning.jsonl_output.jsonl\n",
      "✔️ Downloaded: C:\\Users\\Phili\\Desktop\\Masterarbeit\\Masterarbeit_Code\\src\\..//results//re_cleaned/xsum_gpt-4.1-mini-2025-04-14_batch_processing_re_cleaning_paraphrase_polish_human_1_rerunning.jsonl_output.jsonl\n",
      "✔️ Downloaded: C:\\Users\\Phili\\Desktop\\Masterarbeit\\Masterarbeit_Code\\src\\..//results//re_cleaned/xsum_gpt-4.1-mini-2025-04-14_batch_processing_re_cleaning_paraphrase_polish_human_0_rerunning.jsonl_output.jsonl\n",
      "✔️ Downloaded: C:\\Users\\Phili\\Desktop\\Masterarbeit\\Masterarbeit_Code\\src\\..//results//re_cleaned/arxiv_gpt-4.1-mini-2025-04-14_batch_processing_re_cleaning_paraphrase_polish_llm_6_rerunning.jsonl_output.jsonl\n",
      "✔️ Downloaded: C:\\Users\\Phili\\Desktop\\Masterarbeit\\Masterarbeit_Code\\src\\..//results//re_cleaned/arxiv_gpt-4.1-mini-2025-04-14_batch_processing_re_cleaning_paraphrase_polish_llm_5_rerunning.jsonl_output.jsonl\n",
      "✔️ Downloaded: C:\\Users\\Phili\\Desktop\\Masterarbeit\\Masterarbeit_Code\\src\\..//results//re_cleaned/arxiv_gpt-4.1-mini-2025-04-14_batch_processing_re_cleaning_paraphrase_polish_llm_4_rerunning.jsonl_output.jsonl\n",
      "✔️ Downloaded: C:\\Users\\Phili\\Desktop\\Masterarbeit\\Masterarbeit_Code\\src\\..//results//re_cleaned/arxiv_gpt-4.1-mini-2025-04-14_batch_processing_re_cleaning_paraphrase_polish_llm_3_rerunning.jsonl_output.jsonl\n",
      "✔️ Downloaded: C:\\Users\\Phili\\Desktop\\Masterarbeit\\Masterarbeit_Code\\src\\..//results//re_cleaned/arxiv_gpt-4.1-mini-2025-04-14_batch_processing_re_cleaning_paraphrase_polish_llm_2_rerunning.jsonl_output.jsonl\n",
      "✔️ Downloaded: C:\\Users\\Phili\\Desktop\\Masterarbeit\\Masterarbeit_Code\\src\\..//results//re_cleaned/arxiv_gpt-4.1-mini-2025-04-14_batch_processing_re_cleaning_paraphrase_polish_llm_1_rerunning.jsonl_output.jsonl\n",
      "✔️ Downloaded: C:\\Users\\Phili\\Desktop\\Masterarbeit\\Masterarbeit_Code\\src\\..//results//re_cleaned/arxiv_gpt-4.1-mini-2025-04-14_batch_processing_re_cleaning_paraphrase_polish_llm_0_rerunning.jsonl_output.jsonl\n",
      "✔️ Downloaded: C:\\Users\\Phili\\Desktop\\Masterarbeit\\Masterarbeit_Code\\src\\..//results//re_cleaned/arxiv_gpt-4.1-mini-2025-04-14_batch_processing_re_cleaning_paraphrase_polish_human_4_rerunning.jsonl_output.jsonl\n",
      "✔️ Downloaded: C:\\Users\\Phili\\Desktop\\Masterarbeit\\Masterarbeit_Code\\src\\..//results//re_cleaned/arxiv_gpt-4.1-mini-2025-04-14_batch_processing_re_cleaning_paraphrase_polish_human_3_rerunning.jsonl_output.jsonl\n",
      "✔️ Downloaded: C:\\Users\\Phili\\Desktop\\Masterarbeit\\Masterarbeit_Code\\src\\..//results//re_cleaned/arxiv_gpt-4.1-mini-2025-04-14_batch_processing_re_cleaning_paraphrase_polish_human_2_rerunning.jsonl_output.jsonl\n",
      "✔️ Downloaded: C:\\Users\\Phili\\Desktop\\Masterarbeit\\Masterarbeit_Code\\src\\..//results//re_cleaned/arxiv_gpt-4.1-mini-2025-04-14_batch_processing_re_cleaning_paraphrase_polish_human_1_rerunning.jsonl_output.jsonl\n",
      "✔️ Downloaded: C:\\Users\\Phili\\Desktop\\Masterarbeit\\Masterarbeit_Code\\src\\..//results//re_cleaned/arxiv_gpt-4.1-mini-2025-04-14_batch_processing_re_cleaning_paraphrase_polish_human_0_rerunning.jsonl_output.jsonl\n",
      "✔️ Downloaded: C:\\Users\\Phili\\Desktop\\Masterarbeit\\Masterarbeit_Code\\src\\..//results//re_cleaned/arxiv_gpt-4.1-mini-2025-04-14_batch_processing_re_cleaning_paraphrase_polish_human_0_rerunning.jsonl_output.jsonl\n",
      "✔️ Downloaded: C:\\Users\\Phili\\Desktop\\Masterarbeit\\Masterarbeit_Code\\src\\..//results//re_cleaned/yelp_review_gpt-4.1-mini-2025-04-14_batch_processing_re_cleaning_paraphrase_polish_llm_5_trained_on_paraphrasing.jsonl_output.jsonl\n",
      "✔️ Downloaded: C:\\Users\\Phili\\Desktop\\Masterarbeit\\Masterarbeit_Code\\src\\..//results//re_cleaned/writing_prompt_gpt-4.1-mini-2025-04-14_batch_processing_re_cleaning_paraphrase_polish_llm_6_trained_on_paraphrasing.jsonl_output.jsonl\n",
      "✔️ Downloaded: C:\\Users\\Phili\\Desktop\\Masterarbeit\\Masterarbeit_Code\\src\\..//results//re_cleaned/writing_prompt_gpt-4.1-mini-2025-04-14_batch_processing_re_cleaning_direct_prompt_1_trained_on_paraphrasing.jsonl_output.jsonl\n",
      "✔️ Downloaded: C:\\Users\\Phili\\Desktop\\Masterarbeit\\Masterarbeit_Code\\src\\..//results//re_cleaned/xsum_gpt-4.1-mini-2025-04-14_batch_processing_re_cleaning_prompt_few_shot_2_trained_on_paraphrasing.jsonl_output.jsonl\n",
      "✔️ Downloaded: C:\\Users\\Phili\\Desktop\\Masterarbeit\\Masterarbeit_Code\\src\\..//results//re_cleaned/xsum_gpt-4.1-mini-2025-04-14_batch_processing_re_cleaning_prompt_few_shot_1_trained_on_paraphrasing.jsonl_output.jsonl\n",
      "✔️ Downloaded: C:\\Users\\Phili\\Desktop\\Masterarbeit\\Masterarbeit_Code\\src\\..//results//re_cleaned/xsum_gpt-4.1-mini-2025-04-14_batch_processing_re_cleaning_prompt_few_shot_1_trained_on_paraphrasing.jsonl_output.jsonl\n",
      "✔️ Downloaded: C:\\Users\\Phili\\Desktop\\Masterarbeit\\Masterarbeit_Code\\src\\..//results//re_cleaned/xsum_gpt-4.1-mini-2025-04-14_batch_processing_re_cleaning_direct_prompt_2_trained_on_paraphrasing.jsonl_output.jsonl\n",
      "✔️ Downloaded: C:\\Users\\Phili\\Desktop\\Masterarbeit\\Masterarbeit_Code\\src\\..//results//re_cleaned/xsum_gpt-4.1-mini-2025-04-14_batch_processing_re_cleaning_direct_prompt_1_trained_on_paraphrasing.jsonl_output.jsonl\n",
      "✔️ Downloaded: C:\\Users\\Phili\\Desktop\\Masterarbeit\\Masterarbeit_Code\\src\\..//results//re_cleaned/xsum_gpt-4.1-mini-2025-04-14_batch_processing_re_cleaning_direct_prompt_0_trained_on_paraphrasing.jsonl_output.jsonl\n",
      "✔️ Downloaded: C:\\Users\\Phili\\Desktop\\Masterarbeit\\Masterarbeit_Code\\src\\..//results//re_cleaned/xsum_gpt-4.1-mini-2025-04-14_batch_processing_re_cleaning_prompt_SICO_1_trained_on_paraphrasing.jsonl_output.jsonl\n",
      "✔️ Downloaded: C:\\Users\\Phili\\Desktop\\Masterarbeit\\Masterarbeit_Code\\src\\..//results//re_cleaned/xsum_gpt-4.1-mini-2025-04-14_batch_processing_re_cleaning_prompt_SICO_0_trained_on_paraphrasing.jsonl_output.jsonl\n",
      "✔️ Downloaded: C:\\Users\\Phili\\Desktop\\Masterarbeit\\Masterarbeit_Code\\src\\..//results//re_cleaned/xsum_gpt-4.1-mini-2025-04-14_batch_processing_re_cleaning_paraphrase_polish_llm_7_trained_on_paraphrasing.jsonl_output.jsonl\n",
      "✔️ Downloaded: C:\\Users\\Phili\\Desktop\\Masterarbeit\\Masterarbeit_Code\\src\\..//results//re_cleaned/xsum_gpt-4.1-mini-2025-04-14_batch_processing_re_cleaning_paraphrase_polish_llm_6_trained_on_paraphrasing.jsonl_output.jsonl\n",
      "✔️ Downloaded: C:\\Users\\Phili\\Desktop\\Masterarbeit\\Masterarbeit_Code\\src\\..//results//re_cleaned/xsum_gpt-4.1-mini-2025-04-14_batch_processing_re_cleaning_paraphrase_polish_llm_5_trained_on_paraphrasing.jsonl_output.jsonl\n",
      "✔️ Downloaded: C:\\Users\\Phili\\Desktop\\Masterarbeit\\Masterarbeit_Code\\src\\..//results//re_cleaned/arxiv_gpt-4.1-mini-2025-04-14_batch_processing_re_cleaning_prompt_few_shot_0_trained_on_paraphrasing.jsonl_output.jsonl\n",
      "✔️ Downloaded: C:\\Users\\Phili\\Desktop\\Masterarbeit\\Masterarbeit_Code\\src\\..//results//re_cleaned/arxiv_gpt-4.1-mini-2025-04-14_batch_processing_re_cleaning_direct_prompt_1_trained_on_paraphrasing.jsonl_output.jsonl\n",
      "✔️ Downloaded: C:\\Users\\Phili\\Desktop\\Masterarbeit\\Masterarbeit_Code\\src\\..//results//re_cleaned/arxiv_gpt-4.1-mini-2025-04-14_batch_processing_re_cleaning_direct_prompt_0_trained_on_paraphrasing.jsonl_output.jsonl\n",
      "✔️ Downloaded: C:\\Users\\Phili\\Desktop\\Masterarbeit\\Masterarbeit_Code\\src\\..//results//re_cleaned/arxiv_gpt-4.1-mini-2025-04-14_batch_processing_re_cleaning_prompt_SICO_0_trained_on_paraphrasing.jsonl_output.jsonl\n",
      "✔️ Downloaded: C:\\Users\\Phili\\Desktop\\Masterarbeit\\Masterarbeit_Code\\src\\..//results//re_cleaned/yelp_review_gpt-4.1-mini-2025-04-14_batch_processing_re_cleaning_direct_prompt_0_trained_on_paraphrasing.jsonl_output.jsonl\n",
      "✔️ Downloaded: C:\\Users\\Phili\\Desktop\\Masterarbeit\\Masterarbeit_Code\\src\\..//results//re_cleaned/yelp_review_gpt-4.1-mini-2025-04-14_batch_processing_re_cleaning_paraphrase_polish_human_1_trained_on_paraphrasing.jsonl_output.jsonl\n",
      "✔️ Downloaded: C:\\Users\\Phili\\Desktop\\Masterarbeit\\Masterarbeit_Code\\src\\..//results//re_cleaned/writing_prompt_gpt-4.1-mini-2025-04-14_batch_processing_re_cleaning_paraphrase_polish_human_4_trained_on_paraphrasing.jsonl_output.jsonl\n",
      "✔️ Downloaded: C:\\Users\\Phili\\Desktop\\Masterarbeit\\Masterarbeit_Code\\src\\..//results//re_cleaned/writing_prompt_gpt-4.1-mini-2025-04-14_batch_processing_re_cleaning_paraphrase_polish_human_2_trained_on_paraphrasing.jsonl_output.jsonl\n",
      "✔️ Downloaded: C:\\Users\\Phili\\Desktop\\Masterarbeit\\Masterarbeit_Code\\src\\..//results//re_cleaned/writing_prompt_gpt-4.1-mini-2025-04-14_batch_processing_re_cleaning_prompt_few_shot_0_trained_on_paraphrasing.jsonl_output.jsonl\n",
      "✔️ Downloaded: C:\\Users\\Phili\\Desktop\\Masterarbeit\\Masterarbeit_Code\\src\\..//results//re_cleaned/writing_prompt_gpt-4.1-mini-2025-04-14_batch_processing_re_cleaning_paraphrase_polish_llm_3_trained_on_paraphrasing.jsonl_output.jsonl\n",
      "✔️ Downloaded: C:\\Users\\Phili\\Desktop\\Masterarbeit\\Masterarbeit_Code\\src\\..//results//re_cleaned/yelp_review_gpt-4.1-mini-2025-04-14_batch_processing_re_cleaning_paraphrase_polish_human_2_trained_on_paraphrasing.jsonl_output.jsonl\n",
      "✔️ Downloaded: C:\\Users\\Phili\\Desktop\\Masterarbeit\\Masterarbeit_Code\\src\\..//results//re_cleaned/yelp_review_gpt-4.1-mini-2025-04-14_batch_processing_re_cleaning_paraphrase_polish_human_0_trained_on_paraphrasing.jsonl_output.jsonl\n",
      "✔️ Downloaded: C:\\Users\\Phili\\Desktop\\Masterarbeit\\Masterarbeit_Code\\src\\..//results//re_cleaned/yelp_review_gpt-4.1-mini-2025-04-14_batch_processing_re_cleaning_paraphrase_polish_llm_1_trained_on_paraphrasing.jsonl_output.jsonl\n",
      "✔️ Downloaded: C:\\Users\\Phili\\Desktop\\Masterarbeit\\Masterarbeit_Code\\src\\..//results//re_cleaned/yelp_review_gpt-4.1-mini-2025-04-14_batch_processing_re_cleaning_paraphrase_polish_llm_0_trained_on_paraphrasing.jsonl_output.jsonl\n",
      "✔️ Downloaded: C:\\Users\\Phili\\Desktop\\Masterarbeit\\Masterarbeit_Code\\src\\..//results//re_cleaned/writing_prompt_gpt-4.1-mini-2025-04-14_batch_processing_re_cleaning_direct_prompt_0_trained_on_paraphrasing.jsonl_output.jsonl\n"
     ]
    }
   ],
   "source": [
    "batches = get_batches()\n",
    "for batch in batches:\n",
    "    download_if_recleaning(batch)"
   ],
   "metadata": {
    "collapsed": false,
    "ExecuteTime": {
     "end_time": "2025-07-25T07:54:37.049062100Z",
     "start_time": "2025-07-25T07:53:40.897388400Z"
    }
   },
   "id": "bf9e80306daf5fb4"
  },
  {
   "cell_type": "code",
   "execution_count": 69,
   "outputs": [
    {
     "data": {
      "text/plain": "                                           id  \\\n0  batch_req_686863673d708190b6811798a02a031f   \n1  batch_req_68686367c2288190a02b32854e322f25   \n2  batch_req_6868636852a0819092a3b172c4cafec6   \n3  batch_req_68686368e6688190b5003cf481ec93ef   \n4  batch_req_686863696ed08190a934d114f6d51ab3   \n\n                          custom_id  \\\n0  arxiv_2101_direct_prompt_cleaned   \n1  arxiv_2120_direct_prompt_cleaned   \n2  arxiv_2166_direct_prompt_cleaned   \n3  arxiv_2182_direct_prompt_cleaned   \n4  arxiv_2233_direct_prompt_cleaned   \n\n                                            response error  \n0  We introduce a notion of noncommutative torus ...  None  \n1  The application of the Hartle-Hawking wave fun...  None  \n2  This paper reports the discovery of a new burs...  None  \n3  Mykyta the Fox and networks of language explor...  None  \n4  The self-duality constraint in supergravity ca...  None  ",
      "text/html": "<div>\n<style scoped>\n    .dataframe tbody tr th:only-of-type {\n        vertical-align: middle;\n    }\n\n    .dataframe tbody tr th {\n        vertical-align: top;\n    }\n\n    .dataframe thead th {\n        text-align: right;\n    }\n</style>\n<table border=\"1\" class=\"dataframe\">\n  <thead>\n    <tr style=\"text-align: right;\">\n      <th></th>\n      <th>id</th>\n      <th>custom_id</th>\n      <th>response</th>\n      <th>error</th>\n    </tr>\n  </thead>\n  <tbody>\n    <tr>\n      <th>0</th>\n      <td>batch_req_686863673d708190b6811798a02a031f</td>\n      <td>arxiv_2101_direct_prompt_cleaned</td>\n      <td>We introduce a notion of noncommutative torus ...</td>\n      <td>None</td>\n    </tr>\n    <tr>\n      <th>1</th>\n      <td>batch_req_68686367c2288190a02b32854e322f25</td>\n      <td>arxiv_2120_direct_prompt_cleaned</td>\n      <td>The application of the Hartle-Hawking wave fun...</td>\n      <td>None</td>\n    </tr>\n    <tr>\n      <th>2</th>\n      <td>batch_req_6868636852a0819092a3b172c4cafec6</td>\n      <td>arxiv_2166_direct_prompt_cleaned</td>\n      <td>This paper reports the discovery of a new burs...</td>\n      <td>None</td>\n    </tr>\n    <tr>\n      <th>3</th>\n      <td>batch_req_68686368e6688190b5003cf481ec93ef</td>\n      <td>arxiv_2182_direct_prompt_cleaned</td>\n      <td>Mykyta the Fox and networks of language explor...</td>\n      <td>None</td>\n    </tr>\n    <tr>\n      <th>4</th>\n      <td>batch_req_686863696ed08190a934d114f6d51ab3</td>\n      <td>arxiv_2233_direct_prompt_cleaned</td>\n      <td>The self-duality constraint in supergravity ca...</td>\n      <td>None</td>\n    </tr>\n  </tbody>\n</table>\n</div>"
     },
     "execution_count": 69,
     "metadata": {},
     "output_type": "execute_result"
    }
   ],
   "source": [
    "TARGET_DIR = f\"{RESULT_DIR}/re_cleaned\"\n",
    "\n",
    "# Read all .jsonl files\n",
    "jsonl_files = glob.glob(os.path.join(TARGET_DIR, \"*.jsonl\"))\n",
    "# Combine all into a single DataFrame\n",
    "df_list = [read_files(file) for file in jsonl_files]\n",
    "df_combined = pd.concat(df_list, ignore_index=True)\n",
    "\n",
    "df_combined[\"response\"] = df_combined[\"response\"].apply(lambda x: x[\"body\"][\"output\"][0][\"content\"][0][\"text\"])\n",
    "# df_combined[\"domain\"] = df_combined.custom_id.apply(lambda x: x.split(\"_\")[0])\n",
    "# df_combined[\"id\"] = df_combined.custom_id.apply(lambda x: x.split(\"_\")[1])\n",
    "# df_combined[\"prompting_type\"] = df_combined.custom_id.apply(lambda x: \"_\".join(x.replace(\"_cleaned\", \"\").split(\"_\")[2:]))\n",
    "\n",
    "df_combined.head()"
   ],
   "metadata": {
    "collapsed": false,
    "ExecuteTime": {
     "end_time": "2025-07-25T07:55:17.929626300Z",
     "start_time": "2025-07-25T07:55:17.730666200Z"
    }
   },
   "id": "817031bd742c6680"
  },
  {
   "cell_type": "code",
   "execution_count": 70,
   "outputs": [
    {
     "data": {
      "text/plain": "(2731, 4)"
     },
     "execution_count": 70,
     "metadata": {},
     "output_type": "execute_result"
    }
   ],
   "source": [
    "df_combined.shape"
   ],
   "metadata": {
    "collapsed": false,
    "ExecuteTime": {
     "end_time": "2025-07-25T07:55:20.024228100Z",
     "start_time": "2025-07-25T07:55:19.996774800Z"
    }
   },
   "id": "cea5f7439f7d1db0"
  },
  {
   "cell_type": "code",
   "execution_count": 71,
   "outputs": [
    {
     "data": {
      "text/plain": "                                              id  \\\n0     batch_req_686863673d708190b6811798a02a031f   \n1     batch_req_68686367c2288190a02b32854e322f25   \n2     batch_req_6868636852a0819092a3b172c4cafec6   \n3     batch_req_68686368e6688190b5003cf481ec93ef   \n4     batch_req_686863696ed08190a934d114f6d51ab3   \n...                                          ...   \n2726  batch_req_686a7ca5784481909a8b1edbdb85eab2   \n2727  batch_req_686a7ca592548190b0d0ada52419eb5f   \n2728  batch_req_686a7ca5ac488190977fa94b7a492b90   \n2729  batch_req_686a7ca5c560819084d6ef08d0570cb8   \n2730  batch_req_686a7ca5e1308190a7ba7bc61ad0c021   \n\n                                 custom_id  \\\n0         arxiv_2101_direct_prompt_cleaned   \n1         arxiv_2120_direct_prompt_cleaned   \n2         arxiv_2166_direct_prompt_cleaned   \n3         arxiv_2182_direct_prompt_cleaned   \n4         arxiv_2233_direct_prompt_cleaned   \n...                                    ...   \n2726  yelp_review_2635_prompt_SICO_cleaned   \n2727  yelp_review_2748_prompt_SICO_cleaned   \n2728  yelp_review_2760_prompt_SICO_cleaned   \n2729  yelp_review_2764_prompt_SICO_cleaned   \n2730  yelp_review_2798_prompt_SICO_cleaned   \n\n                                               response error  \n0     We introduce a notion of noncommutative torus ...  None  \n1     The application of the Hartle-Hawking wave fun...  None  \n2     This paper reports the discovery of a new burs...  None  \n3     Mykyta the Fox and networks of language explor...  None  \n4     The self-duality constraint in supergravity ca...  None  \n...                                                 ...   ...  \n2726  The garden here is absolutely stunning, but I ...  None  \n2727  This is part of a set of reviews covering esta...  None  \n2728  Stay away from this worst place. There are so ...  None  \n2729  This movie has an interesting plot. The acting...  None  \n2730  Stopped by Empire yesterday for some quick tak...  None  \n\n[2731 rows x 4 columns]",
      "text/html": "<div>\n<style scoped>\n    .dataframe tbody tr th:only-of-type {\n        vertical-align: middle;\n    }\n\n    .dataframe tbody tr th {\n        vertical-align: top;\n    }\n\n    .dataframe thead th {\n        text-align: right;\n    }\n</style>\n<table border=\"1\" class=\"dataframe\">\n  <thead>\n    <tr style=\"text-align: right;\">\n      <th></th>\n      <th>id</th>\n      <th>custom_id</th>\n      <th>response</th>\n      <th>error</th>\n    </tr>\n  </thead>\n  <tbody>\n    <tr>\n      <th>0</th>\n      <td>batch_req_686863673d708190b6811798a02a031f</td>\n      <td>arxiv_2101_direct_prompt_cleaned</td>\n      <td>We introduce a notion of noncommutative torus ...</td>\n      <td>None</td>\n    </tr>\n    <tr>\n      <th>1</th>\n      <td>batch_req_68686367c2288190a02b32854e322f25</td>\n      <td>arxiv_2120_direct_prompt_cleaned</td>\n      <td>The application of the Hartle-Hawking wave fun...</td>\n      <td>None</td>\n    </tr>\n    <tr>\n      <th>2</th>\n      <td>batch_req_6868636852a0819092a3b172c4cafec6</td>\n      <td>arxiv_2166_direct_prompt_cleaned</td>\n      <td>This paper reports the discovery of a new burs...</td>\n      <td>None</td>\n    </tr>\n    <tr>\n      <th>3</th>\n      <td>batch_req_68686368e6688190b5003cf481ec93ef</td>\n      <td>arxiv_2182_direct_prompt_cleaned</td>\n      <td>Mykyta the Fox and networks of language explor...</td>\n      <td>None</td>\n    </tr>\n    <tr>\n      <th>4</th>\n      <td>batch_req_686863696ed08190a934d114f6d51ab3</td>\n      <td>arxiv_2233_direct_prompt_cleaned</td>\n      <td>The self-duality constraint in supergravity ca...</td>\n      <td>None</td>\n    </tr>\n    <tr>\n      <th>...</th>\n      <td>...</td>\n      <td>...</td>\n      <td>...</td>\n      <td>...</td>\n    </tr>\n    <tr>\n      <th>2726</th>\n      <td>batch_req_686a7ca5784481909a8b1edbdb85eab2</td>\n      <td>yelp_review_2635_prompt_SICO_cleaned</td>\n      <td>The garden here is absolutely stunning, but I ...</td>\n      <td>None</td>\n    </tr>\n    <tr>\n      <th>2727</th>\n      <td>batch_req_686a7ca592548190b0d0ada52419eb5f</td>\n      <td>yelp_review_2748_prompt_SICO_cleaned</td>\n      <td>This is part of a set of reviews covering esta...</td>\n      <td>None</td>\n    </tr>\n    <tr>\n      <th>2728</th>\n      <td>batch_req_686a7ca5ac488190977fa94b7a492b90</td>\n      <td>yelp_review_2760_prompt_SICO_cleaned</td>\n      <td>Stay away from this worst place. There are so ...</td>\n      <td>None</td>\n    </tr>\n    <tr>\n      <th>2729</th>\n      <td>batch_req_686a7ca5c560819084d6ef08d0570cb8</td>\n      <td>yelp_review_2764_prompt_SICO_cleaned</td>\n      <td>This movie has an interesting plot. The acting...</td>\n      <td>None</td>\n    </tr>\n    <tr>\n      <th>2730</th>\n      <td>batch_req_686a7ca5e1308190a7ba7bc61ad0c021</td>\n      <td>yelp_review_2798_prompt_SICO_cleaned</td>\n      <td>Stopped by Empire yesterday for some quick tak...</td>\n      <td>None</td>\n    </tr>\n  </tbody>\n</table>\n<p>2731 rows × 4 columns</p>\n</div>"
     },
     "execution_count": 71,
     "metadata": {},
     "output_type": "execute_result"
    }
   ],
   "source": [
    "df_combined"
   ],
   "metadata": {
    "collapsed": false,
    "ExecuteTime": {
     "end_time": "2025-07-25T07:55:24.676817300Z",
     "start_time": "2025-07-25T07:55:24.650768700Z"
    }
   },
   "id": "38fd6e33b396fa96"
  },
  {
   "cell_type": "code",
   "execution_count": 72,
   "outputs": [],
   "source": [
    "df_combined.drop(columns = \"error\", inplace=True)"
   ],
   "metadata": {
    "collapsed": false,
    "ExecuteTime": {
     "end_time": "2025-07-25T07:55:27.538821300Z",
     "start_time": "2025-07-25T07:55:27.510242200Z"
    }
   },
   "id": "e601260c46869351"
  },
  {
   "cell_type": "code",
   "execution_count": 73,
   "outputs": [
    {
     "data": {
      "text/plain": "        id                             custom_id  \\\n0     2101      arxiv_2101_direct_prompt_cleaned   \n1     2120      arxiv_2120_direct_prompt_cleaned   \n2     2166      arxiv_2166_direct_prompt_cleaned   \n3     2182      arxiv_2182_direct_prompt_cleaned   \n4     2233      arxiv_2233_direct_prompt_cleaned   \n...    ...                                   ...   \n2726  2635  yelp_review_2635_prompt_SICO_cleaned   \n2727  2748  yelp_review_2748_prompt_SICO_cleaned   \n2728  2760  yelp_review_2760_prompt_SICO_cleaned   \n2729  2764  yelp_review_2764_prompt_SICO_cleaned   \n2730  2798  yelp_review_2798_prompt_SICO_cleaned   \n\n                                               response       domain  \\\n0     We introduce a notion of noncommutative torus ...        arxiv   \n1     The application of the Hartle-Hawking wave fun...        arxiv   \n2     This paper reports the discovery of a new burs...        arxiv   \n3     Mykyta the Fox and networks of language explor...        arxiv   \n4     The self-duality constraint in supergravity ca...        arxiv   \n...                                                 ...          ...   \n2726  The garden here is absolutely stunning, but I ...  yelp_review   \n2727  This is part of a set of reviews covering esta...  yelp_review   \n2728  Stay away from this worst place. There are so ...  yelp_review   \n2729  This movie has an interesting plot. The acting...  yelp_review   \n2730  Stopped by Empire yesterday for some quick tak...  yelp_review   \n\n     prompt_strategy  \n0      direct_prompt  \n1      direct_prompt  \n2      direct_prompt  \n3      direct_prompt  \n4      direct_prompt  \n...              ...  \n2726     prompt_SICO  \n2727     prompt_SICO  \n2728     prompt_SICO  \n2729     prompt_SICO  \n2730     prompt_SICO  \n\n[2731 rows x 5 columns]",
      "text/html": "<div>\n<style scoped>\n    .dataframe tbody tr th:only-of-type {\n        vertical-align: middle;\n    }\n\n    .dataframe tbody tr th {\n        vertical-align: top;\n    }\n\n    .dataframe thead th {\n        text-align: right;\n    }\n</style>\n<table border=\"1\" class=\"dataframe\">\n  <thead>\n    <tr style=\"text-align: right;\">\n      <th></th>\n      <th>id</th>\n      <th>custom_id</th>\n      <th>response</th>\n      <th>domain</th>\n      <th>prompt_strategy</th>\n    </tr>\n  </thead>\n  <tbody>\n    <tr>\n      <th>0</th>\n      <td>2101</td>\n      <td>arxiv_2101_direct_prompt_cleaned</td>\n      <td>We introduce a notion of noncommutative torus ...</td>\n      <td>arxiv</td>\n      <td>direct_prompt</td>\n    </tr>\n    <tr>\n      <th>1</th>\n      <td>2120</td>\n      <td>arxiv_2120_direct_prompt_cleaned</td>\n      <td>The application of the Hartle-Hawking wave fun...</td>\n      <td>arxiv</td>\n      <td>direct_prompt</td>\n    </tr>\n    <tr>\n      <th>2</th>\n      <td>2166</td>\n      <td>arxiv_2166_direct_prompt_cleaned</td>\n      <td>This paper reports the discovery of a new burs...</td>\n      <td>arxiv</td>\n      <td>direct_prompt</td>\n    </tr>\n    <tr>\n      <th>3</th>\n      <td>2182</td>\n      <td>arxiv_2182_direct_prompt_cleaned</td>\n      <td>Mykyta the Fox and networks of language explor...</td>\n      <td>arxiv</td>\n      <td>direct_prompt</td>\n    </tr>\n    <tr>\n      <th>4</th>\n      <td>2233</td>\n      <td>arxiv_2233_direct_prompt_cleaned</td>\n      <td>The self-duality constraint in supergravity ca...</td>\n      <td>arxiv</td>\n      <td>direct_prompt</td>\n    </tr>\n    <tr>\n      <th>...</th>\n      <td>...</td>\n      <td>...</td>\n      <td>...</td>\n      <td>...</td>\n      <td>...</td>\n    </tr>\n    <tr>\n      <th>2726</th>\n      <td>2635</td>\n      <td>yelp_review_2635_prompt_SICO_cleaned</td>\n      <td>The garden here is absolutely stunning, but I ...</td>\n      <td>yelp_review</td>\n      <td>prompt_SICO</td>\n    </tr>\n    <tr>\n      <th>2727</th>\n      <td>2748</td>\n      <td>yelp_review_2748_prompt_SICO_cleaned</td>\n      <td>This is part of a set of reviews covering esta...</td>\n      <td>yelp_review</td>\n      <td>prompt_SICO</td>\n    </tr>\n    <tr>\n      <th>2728</th>\n      <td>2760</td>\n      <td>yelp_review_2760_prompt_SICO_cleaned</td>\n      <td>Stay away from this worst place. There are so ...</td>\n      <td>yelp_review</td>\n      <td>prompt_SICO</td>\n    </tr>\n    <tr>\n      <th>2729</th>\n      <td>2764</td>\n      <td>yelp_review_2764_prompt_SICO_cleaned</td>\n      <td>This movie has an interesting plot. The acting...</td>\n      <td>yelp_review</td>\n      <td>prompt_SICO</td>\n    </tr>\n    <tr>\n      <th>2730</th>\n      <td>2798</td>\n      <td>yelp_review_2798_prompt_SICO_cleaned</td>\n      <td>Stopped by Empire yesterday for some quick tak...</td>\n      <td>yelp_review</td>\n      <td>prompt_SICO</td>\n    </tr>\n  </tbody>\n</table>\n<p>2731 rows × 5 columns</p>\n</div>"
     },
     "execution_count": 73,
     "metadata": {},
     "output_type": "execute_result"
    }
   ],
   "source": [
    "def split_custom_id(input_id: str):\n",
    "     # Step 1: Remove '_cleaned' suffix if it exists\n",
    "    if input_id.endswith('_cleaned'):\n",
    "        input_id = input_id[:-8]  # len('_cleaned') == 8\n",
    "\n",
    "    # Step 2: Find the ID (1–4 consecutive digits)\n",
    "    match = re.search(r'_(\\d{1,4})_', input_id)\n",
    "    if not match:\n",
    "        print(input_id)\n",
    "        raise ValueError(\"No valid 1-4 digit ID found in the input string.\")\n",
    "    \n",
    "    id_str = match.group(1)\n",
    "\n",
    "    # Step 3: Domain is everything before the ID\n",
    "    domain = input_id[:match.start()].rstrip('_')\n",
    "\n",
    "    # Step 4: Prompt is everything after the ID\n",
    "    prompt = input_id[match.end():].lstrip('_')\n",
    "\n",
    "    return domain, int(id_str), prompt\n",
    "\n",
    "res = df_combined[\"custom_id\"].apply(split_custom_id)\n",
    "df_combined[[\"domain\", \"id\", \"prompt_strategy\"]] = pd.DataFrame(res.tolist(), index=df_combined.index)\n",
    "df_combined"
   ],
   "metadata": {
    "collapsed": false,
    "ExecuteTime": {
     "end_time": "2025-07-25T07:55:29.216554600Z",
     "start_time": "2025-07-25T07:55:29.186708700Z"
    }
   },
   "id": "8fd31d80063f6b48"
  },
  {
   "cell_type": "code",
   "execution_count": 74,
   "outputs": [],
   "source": [
    "df_all_recleaned = pd.concat([pd.read_parquet(\"../../results/df_to_be_recleaned_all_wo_polishing.parquet\"),\n",
    "                              pd.read_parquet(\"../../results/df_to_be_recleaned_all_with_polishing_unique.parquet\")])"
   ],
   "metadata": {
    "collapsed": false,
    "ExecuteTime": {
     "end_time": "2025-07-25T07:55:31.813643700Z",
     "start_time": "2025-07-25T07:55:31.740787200Z"
    }
   },
   "id": "594b40314da90a69"
  },
  {
   "cell_type": "code",
   "execution_count": 75,
   "outputs": [
    {
     "data": {
      "text/plain": "(2490, 4)"
     },
     "execution_count": 75,
     "metadata": {},
     "output_type": "execute_result"
    }
   ],
   "source": [
    "df_all_recleaned.drop(columns=\"_merge\", inplace=True, errors=\"ignore\")\n",
    "df_all_recleaned.drop_duplicates(inplace=True)\n",
    "df_all_recleaned.shape"
   ],
   "metadata": {
    "collapsed": false,
    "ExecuteTime": {
     "end_time": "2025-07-25T07:55:33.307583700Z",
     "start_time": "2025-07-25T07:55:33.276791400Z"
    }
   },
   "id": "cc4251b2c2e2b590"
  },
  {
   "cell_type": "code",
   "execution_count": 76,
   "outputs": [
    {
     "name": "stdout",
     "output_type": "stream",
     "text": [
      "<class 'pandas.core.frame.DataFrame'>\n",
      "Index: 2490 entries, 0 to 1609\n",
      "Data columns (total 4 columns):\n",
      " #   Column              Non-Null Count  Dtype \n",
      "---  ------              --------------  ----- \n",
      " 0   id                  2490 non-null   int64 \n",
      " 1   domain              2490 non-null   object\n",
      " 2   llm_type            2490 non-null   object\n",
      " 3   prompting_strategy  2490 non-null   object\n",
      "dtypes: int64(1), object(3)\n",
      "memory usage: 97.3+ KB\n"
     ]
    }
   ],
   "source": [
    "df_all_recleaned.info()"
   ],
   "metadata": {
    "collapsed": false,
    "ExecuteTime": {
     "end_time": "2025-07-25T07:55:39.442579300Z",
     "start_time": "2025-07-25T07:55:39.420065500Z"
    }
   },
   "id": "cb48c8435c69874"
  },
  {
   "cell_type": "code",
   "execution_count": 77,
   "outputs": [],
   "source": [
    "df_combined.rename(columns={\"prompt_strategy\": \"prompting_strategy\"}, inplace=True)"
   ],
   "metadata": {
    "collapsed": false,
    "ExecuteTime": {
     "end_time": "2025-07-25T07:55:41.396534400Z",
     "start_time": "2025-07-25T07:55:41.365338Z"
    }
   },
   "id": "15cfe26351a28785"
  },
  {
   "cell_type": "code",
   "execution_count": 79,
   "outputs": [
    {
     "data": {
      "text/plain": "_merge\nboth          2728\nleft_only        3\nright_only       0\nName: count, dtype: int64"
     },
     "execution_count": 79,
     "metadata": {},
     "output_type": "execute_result"
    }
   ],
   "source": [
    "df_not_in_combined = df_combined.loc[:, [\"id\", \"domain\", \"prompting_strategy\"]].merge(df_all_recleaned.loc[:, [\"id\", \"domain\", \"prompting_strategy\", \"llm_type\"]], on=[\"id\", \"domain\", \"prompting_strategy\"], how='outer', suffixes=['', '_'], indicator=True)\n",
    "\n",
    "df_not_in_combined[\"_merge\"].value_counts()\n"
   ],
   "metadata": {
    "collapsed": false,
    "ExecuteTime": {
     "end_time": "2025-07-25T07:55:44.762911700Z",
     "start_time": "2025-07-25T07:55:44.698151600Z"
    }
   },
   "id": "49c6f27b46233ed5"
  },
  {
   "cell_type": "code",
   "execution_count": 80,
   "outputs": [
    {
     "data": {
      "text/plain": "Series([], Name: count, dtype: int64)"
     },
     "execution_count": 80,
     "metadata": {},
     "output_type": "execute_result"
    }
   ],
   "source": [
    "df_remaining = df_not_in_combined[df_not_in_combined[\"_merge\"]==\"right_only\"]\n",
    "df_remaining[\"prompting_strategy\"].value_counts()"
   ],
   "metadata": {
    "collapsed": false,
    "ExecuteTime": {
     "end_time": "2025-07-25T07:55:55.743325500Z",
     "start_time": "2025-07-25T07:55:55.703250Z"
    }
   },
   "id": "de1dccbc0d76aec9"
  },
  {
   "cell_type": "code",
   "execution_count": 65,
   "outputs": [],
   "source": [
    "df_remaining.to_parquet(f\"{RESULT_DIR}/df_remaining.parquet\")"
   ],
   "metadata": {
    "collapsed": false,
    "ExecuteTime": {
     "end_time": "2025-07-25T07:30:00.926637200Z",
     "start_time": "2025-07-25T07:30:00.625784Z"
    }
   },
   "id": "96ac1a7c1d89fd1f"
  },
  {
   "cell_type": "code",
   "execution_count": 87,
   "outputs": [
    {
     "data": {
      "text/plain": "response\nREJECTION                                                                                                                                                                                                                                                                                                                                                                                                                                                                                                                                                                                                                                                                                                                                                                                                                                                                                                                                                                                                                                                                                                                                                                                                                                                                                                                                                                                                                                                                                                                                                                                                                                                                                                                                                                                                                                                                                                                                                                                                                                                             54\nTASK_DESCRIPTION                                                                                                                                                                                                                                                                                                                                                                                                                                                                                                                                                                                                                                                                                                                                                                                                                                                                                                                                                                                                                                                                                                                                                                                                                                                                                                                                                                                                                                                                                                                                                                                                                                                                                                                                                                                                                                                                                                                                                                                                                                                       7\nThe self-duality constraint in supergravity can be rephrased as a set of constraints on a pair of commuting spinors. In this paper we give a detailed account of this twistor formulation of N=2 supergravity in four dimensions. As an application we show how the pure spinor formalism of N=1 supergravity can be used to construct self-dual solutions of N=2 supergravity. The general solution is given in terms of a pair of commuting spinors subject to additional constraints. In the case of N=4 supergravity in four dimensions the self-duality equations imply that the gravitino is pure spinor. This is used to show how the pure spinor formalism of N=1 supergravity can be used to construct self-dual solutions of N=2 supergravity. The general solution is given in terms of a pair of commuting spinors subject to additional constraints. This is the first example of a construction of self-dual solutions to a theory of supergravity in higher dimensions.                                                                                                                                                                                                                                                                                                                                                                                                                                                                                                                                                                                                                                                                                                                                                                                                                                                                                                                                                                                                                                                                                 3\nIn this paper, we introduce a new approach to the study of q-deformed quantum spaces based on spinor calculus.                                                                                                                                                                                                                                                                                                                                                                                                                                                                                                                                                                                                                                                                                                                                                                                                                                                                                                                                                                                                                                                                                                                                                                                                                                                                                                                                                                                                                                                                                                                                                                                                                                                                                                                                                                                                                                                                                                                                                         3\nThe growth of supermassive black holes (SMBHs) in the centres of galaxies is thought to be driven by accretion of matter. SMBHs are often fed by gas that is transported through the galaxy via stochastic processes such as galaxy mergers and interactions. In this paper, we study the effect of stochastic accretion on the growth of SMBHs and the properties of active galactic nuclei (AGN) and quasars. We use a semi-analytical model to simulate the growth of SMBHs and the evolution of their accretion properties. We find that stochastic accretion can lead to significant variations in the growth rate of SMBHs and the properties of AGN and quasars. In particular, we find that SMBHs that are fed by stochastic accretion can experience periods of rapid growth, followed by periods of quiescence. We also find that the properties of AGN and quasars that are fed by stochastic accretion can be significantly different from those that are fed by a steady flow of gas.                                                                                                                                                                                                                                                                                                                                                                                                                                                                                                                                                                                                                                                                                                                                                                                                                                                                                                                                                                                                                                                                     3\n                                                                                                                                                                                                                                                                                                                                                                                                                                                                                                                                                                                                                                                                                                                                                                                                                                                                                                                                                                                                                                                                                                                                                                                                                                                                                                                                                                                                                                                                                                                                                                                                                                                                                                                                                                                                                                                                                                                                                                                                                                                                      ..\nThis article presents a thorough analysis of the position-velocity diagrams obtained from the maser emission originating from a Keplerian ring. Maser emission, characterized by intense and highly collimated radiation, provides valuable insights into the dynamics and kinematics of astrophysical systems. The focus of this study is on a specific source exhibiting maser emission in the form of a Keplerian ring. By employing high-resolution observations and sophisticated data analysis techniques, we construct position-velocity diagrams to investigate the underlying physical properties of this maser system. Notably, the Keplerian nature of the emission allows us to probe the central mass distribution and study the orbital characteristics of the ring. Our findings reveal distinct features in the position-velocity diagrams, enabling us to estimate the central mass and its uncertainties, as well as determine the ring's kinematic properties such as orbital speed and inclination. Overall, this research contributes to our understanding of maser emission phenomena and provides valuable insights into the dynamics of astrophysical systems governed by Keplerian motion.                                                                                                                                                                                                                                                                                                                                                                                                                                                                                                                                                                                                                                                                                                                                                                                                                                                    1\nThis article presents a novel binary model aimed at explaining the puzzling phenomenon known as the UV-upturn observed in elliptical galaxies. The UV-upturn refers to the unexpected increase in the ultraviolet (UV) light emitted by these galaxies at wavelengths shorter than 250 nm. Despite numerous studies, the physical mechanisms driving this phenomenon remain unclear. In this study, we propose a binary star formation model as a potential explanation for the UV-upturn. The model suggests that the UV emission is primarily generated by a population of hot, young stars in binary systems. These binary systems are characterized by mass transfer and mergers, which lead to the formation of short-lived, massive stars that emit large amounts of UV radiation. We validate our model by comparing its predictions with observational data from a sample of elliptical galaxies exhibiting the UV-upturn. Our analysis demonstrates that the binary model successfully reproduces the observed UV-upturn phenomenon, providing a plausible explanation for this enigmatic feature. Moreover, our model offers insights into the underlying physical processes driving the UV-upturn, shedding light on the formation and evolution of elliptical galaxies. Furthermore, we investigate the properties of the binary systems responsible for the UV emission and examine their implications for the overall stellar populations in elliptical galaxies. Our results suggest that the UV-upturn galaxies harbor a significant fraction of binary star systems, potentially influencing the stellar mass distribution and stellar evolution pathways in these galaxies. Overall, this binary model for the UV-upturn represents a significant advancement in our understanding of the peculiar UV properties of elliptical galaxies. It not only provides a viable explanation for the observed phenomenon but also paves the way for future investigations into the intricate interplay between binary star formation and galaxy evolution.     1\nThis article presents a study on the potential new properties of atomic nuclei through the application of nonlinear methods, specifically fractal and recurrence quantification analysis. The investigation aims to explore previously unexplored aspects of atomic nuclei behavior and shed light on their underlying dynamics. The fractal analysis is employed to examine the self-similarity and complexity of the nuclear structure. By quantifying the fractal dimension, insights into the spatial distribution and organization of nucleons within the nucleus can be obtained. Additionally, the recurrence quantification analysis is utilized to investigate the presence of recurrent patterns and dynamics within nuclear processes. This method enables the identification of repeated occurrences of specific events or configurations in the nuclear system. The results of the study reveal intriguing observations. The fractal analysis indicates the presence of multifractal behavior within nuclear structures, suggesting a complex and hierarchical organization of nucleons. This finding challenges the traditional notion of a uniform and homogeneous nuclear structure. The recurrence quantification analysis uncovers the existence of recurrent patterns in nuclear processes, indicative of underlying periodic or oscillatory behavior. These findings have significant implications for our understanding of atomic nuclei and their properties. The discovery of multifractal behavior suggests the presence of hidden degrees of freedom within the nucleus, possibly related to exotic phenomena or complex interactions. The identification of recurrent patterns provides insights into the fundamental dynamics of nucleons, enabling the development of more accurate models and predictions. The non-linear methods used in this study offer a novel and powerful approach to explore the behavior of atomic nuclei beyond the limitations of traditional analysis techniques.                                              1\nThis article presents a comprehensive study on the application of weighting techniques in periodicity searches for the Gamma-ray Large Area Space Telescope (GLAST) All-Sky Monitor (ASM) data. The search for periodic signals in astronomical data plays a crucial role in understanding the underlying physical processes. Using a detailed analysis framework, we investigate the efficacy of various weighting methods in enhancing the detection sensitivity of periodic signals in the GLAST LAT data. Our findings demonstrate that incorporating appropriate weights based on photon statistics and instrumental effects significantly improves the detection efficiency for both bright and faint sources. Moreover, we explore the impact of different weighting strategies on the determination of the period and its uncertainties, highlighting the importance of accurate statistical treatment in optimizing periodicity searches. The results presented in this study provide valuable insights for future analyses of ASM data and pave the way for improved characterization of periodic sources in the gamma-ray sky.                                                                                                                                                                                                                                                                                                                                                                                                                                                                                                                                                                                                                                                                                                                                                                                                                                                                                                                              1\nNever stay here. This was the worst hotel experience of my life. Never stay here. This was the worst hotel experience of my life.                                                                                                                                                                                                                                                                                                                                                                                                                                                                                                                                                                                                                                                                                                                                                                                                                                                                                                                                                                                                                                                                                                                                                                                                                                                                                                                                                                                                                                                                                                                                                                                                                                                                                                                                                                                                                                                                                                                                      1\nName: count, Length: 2452, dtype: int64"
     },
     "execution_count": 87,
     "metadata": {},
     "output_type": "execute_result"
    }
   ],
   "source": [
    "df_combined[\"response\"].value_counts()"
   ],
   "metadata": {
    "collapsed": false,
    "ExecuteTime": {
     "end_time": "2025-07-25T08:00:11.608462300Z",
     "start_time": "2025-07-25T08:00:11.563078700Z"
    }
   },
   "id": "bcf0a90b6c294fd4"
  },
  {
   "cell_type": "code",
   "execution_count": 89,
   "outputs": [
    {
     "data": {
      "text/plain": "response\nNone                                                                                                                                                                                                                                                                                                                                                                                                                                                                                                                                                                                                                                                                                                                                                                                                                                                                                                                                                                                                                                                                                                                                                                                                                                                                                                                                                                                                                                                                                                                                                                                                                                                                                                                                                                                                                                                                                                                                                                                                                                                                  61\nMykyta the Fox and networks of language explores how Mykyta the Fox functions as a literary character and as a node in a network of ideas in Ukrainian literature of the nineteenth century. This article argues that Mykyta the Fox is not only a trickster figure but also a symbol of Ukrainian national identity. The article traces the evolution of Mykyta the Fox from his origins in folklore to his appearances in the works of major Ukrainian writers such as Ivan Kotliarevsky, Taras Shevchenko, and Mykhailo Kotsiubynsky. Mykyta the Fox is a complex and multifaceted character who embodies both the strengths and weaknesses of the Ukrainian national character. His trickster nature allows him to outwit his enemies and survive in a hostile world, but it also leads him to make mistakes and to engage in destructive behavior. As a symbol of Ukrainian national identity, Mykyta the Fox represents the resilience and determination of the Ukrainian people. He is a reminder that even in the darkest of times, Ukrainians have always been able to find ways to laugh and to survive. Mykyta the Fox is a rich and rewarding character who offers insights into Ukrainian history, culture, and national identity. This article provides a comprehensive analysis of Mykyta the Fox and his significance in Ukrainian literature.                                                                                                                                                                                                                                                                                                                                                                                                                                                                                                                                                                                                                                                                                                         3\nThe self-duality constraint in supergravity can be rephrased as a set of constraints on a pair of commuting spinors. In this paper we give a detailed account of this twistor formulation of N=2 supergravity in four dimensions. As an application we show how the pure spinor formalism of N=1 supergravity can be used to construct self-dual solutions of N=2 supergravity. The general solution is given in terms of a pair of commuting spinors subject to additional constraints. In the case of N=4 supergravity in four dimensions the self-duality equations imply that the gravitino is pure spinor. This is used to show how the pure spinor formalism of N=1 supergravity can be used to construct self-dual solutions of N=2 supergravity. The general solution is given in terms of a pair of commuting spinors subject to additional constraints. This is the first example of a construction of self-dual solutions to a theory of supergravity in higher dimensions.                                                                                                                                                                                                                                                                                                                                                                                                                                                                                                                                                                                                                                                                                                                                                                                                                                                                                                                                                                                                                                                                                 3\nIn this paper, we introduce a new approach to the study of q-deformed quantum spaces based on spinor calculus.                                                                                                                                                                                                                                                                                                                                                                                                                                                                                                                                                                                                                                                                                                                                                                                                                                                                                                                                                                                                                                                                                                                                                                                                                                                                                                                                                                                                                                                                                                                                                                                                                                                                                                                                                                                                                                                                                                                                                         3\nThe growth of supermassive black holes (SMBHs) in the centres of galaxies is thought to be driven by accretion of matter. SMBHs are often fed by gas that is transported through the galaxy via stochastic processes such as galaxy mergers and interactions. In this paper, we study the effect of stochastic accretion on the growth of SMBHs and the properties of active galactic nuclei (AGN) and quasars. We use a semi-analytical model to simulate the growth of SMBHs and the evolution of their accretion properties. We find that stochastic accretion can lead to significant variations in the growth rate of SMBHs and the properties of AGN and quasars. In particular, we find that SMBHs that are fed by stochastic accretion can experience periods of rapid growth, followed by periods of quiescence. We also find that the properties of AGN and quasars that are fed by stochastic accretion can be significantly different from those that are fed by a steady flow of gas.                                                                                                                                                                                                                                                                                                                                                                                                                                                                                                                                                                                                                                                                                                                                                                                                                                                                                                                                                                                                                                                                     3\n                                                                                                                                                                                                                                                                                                                                                                                                                                                                                                                                                                                                                                                                                                                                                                                                                                                                                                                                                                                                                                                                                                                                                                                                                                                                                                                                                                                                                                                                                                                                                                                                                                                                                                                                                                                                                                                                                                                                                                                                                                                                      ..\nThis article presents a thorough analysis of the position-velocity diagrams obtained from the maser emission originating from a Keplerian ring. Maser emission, characterized by intense and highly collimated radiation, provides valuable insights into the dynamics and kinematics of astrophysical systems. The focus of this study is on a specific source exhibiting maser emission in the form of a Keplerian ring. By employing high-resolution observations and sophisticated data analysis techniques, we construct position-velocity diagrams to investigate the underlying physical properties of this maser system. Notably, the Keplerian nature of the emission allows us to probe the central mass distribution and study the orbital characteristics of the ring. Our findings reveal distinct features in the position-velocity diagrams, enabling us to estimate the central mass and its uncertainties, as well as determine the ring's kinematic properties such as orbital speed and inclination. Overall, this research contributes to our understanding of maser emission phenomena and provides valuable insights into the dynamics of astrophysical systems governed by Keplerian motion.                                                                                                                                                                                                                                                                                                                                                                                                                                                                                                                                                                                                                                                                                                                                                                                                                                                    1\nThis article presents a novel binary model aimed at explaining the puzzling phenomenon known as the UV-upturn observed in elliptical galaxies. The UV-upturn refers to the unexpected increase in the ultraviolet (UV) light emitted by these galaxies at wavelengths shorter than 250 nm. Despite numerous studies, the physical mechanisms driving this phenomenon remain unclear. In this study, we propose a binary star formation model as a potential explanation for the UV-upturn. The model suggests that the UV emission is primarily generated by a population of hot, young stars in binary systems. These binary systems are characterized by mass transfer and mergers, which lead to the formation of short-lived, massive stars that emit large amounts of UV radiation. We validate our model by comparing its predictions with observational data from a sample of elliptical galaxies exhibiting the UV-upturn. Our analysis demonstrates that the binary model successfully reproduces the observed UV-upturn phenomenon, providing a plausible explanation for this enigmatic feature. Moreover, our model offers insights into the underlying physical processes driving the UV-upturn, shedding light on the formation and evolution of elliptical galaxies. Furthermore, we investigate the properties of the binary systems responsible for the UV emission and examine their implications for the overall stellar populations in elliptical galaxies. Our results suggest that the UV-upturn galaxies harbor a significant fraction of binary star systems, potentially influencing the stellar mass distribution and stellar evolution pathways in these galaxies. Overall, this binary model for the UV-upturn represents a significant advancement in our understanding of the peculiar UV properties of elliptical galaxies. It not only provides a viable explanation for the observed phenomenon but also paves the way for future investigations into the intricate interplay between binary star formation and galaxy evolution.     1\nThis article presents a study on the potential new properties of atomic nuclei through the application of nonlinear methods, specifically fractal and recurrence quantification analysis. The investigation aims to explore previously unexplored aspects of atomic nuclei behavior and shed light on their underlying dynamics. The fractal analysis is employed to examine the self-similarity and complexity of the nuclear structure. By quantifying the fractal dimension, insights into the spatial distribution and organization of nucleons within the nucleus can be obtained. Additionally, the recurrence quantification analysis is utilized to investigate the presence of recurrent patterns and dynamics within nuclear processes. This method enables the identification of repeated occurrences of specific events or configurations in the nuclear system. The results of the study reveal intriguing observations. The fractal analysis indicates the presence of multifractal behavior within nuclear structures, suggesting a complex and hierarchical organization of nucleons. This finding challenges the traditional notion of a uniform and homogeneous nuclear structure. The recurrence quantification analysis uncovers the existence of recurrent patterns in nuclear processes, indicative of underlying periodic or oscillatory behavior. These findings have significant implications for our understanding of atomic nuclei and their properties. The discovery of multifractal behavior suggests the presence of hidden degrees of freedom within the nucleus, possibly related to exotic phenomena or complex interactions. The identification of recurrent patterns provides insights into the fundamental dynamics of nucleons, enabling the development of more accurate models and predictions. The non-linear methods used in this study offer a novel and powerful approach to explore the behavior of atomic nuclei beyond the limitations of traditional analysis techniques.                                              1\nThis article presents a comprehensive study on the application of weighting techniques in periodicity searches for the Gamma-ray Large Area Space Telescope (GLAST) All-Sky Monitor (ASM) data. The search for periodic signals in astronomical data plays a crucial role in understanding the underlying physical processes. Using a detailed analysis framework, we investigate the efficacy of various weighting methods in enhancing the detection sensitivity of periodic signals in the GLAST LAT data. Our findings demonstrate that incorporating appropriate weights based on photon statistics and instrumental effects significantly improves the detection efficiency for both bright and faint sources. Moreover, we explore the impact of different weighting strategies on the determination of the period and its uncertainties, highlighting the importance of accurate statistical treatment in optimizing periodicity searches. The results presented in this study provide valuable insights for future analyses of ASM data and pave the way for improved characterization of periodic sources in the gamma-ray sky.                                                                                                                                                                                                                                                                                                                                                                                                                                                                                                                                                                                                                                                                                                                                                                                                                                                                                                                              1\nNever stay here. This was the worst hotel experience of my life. Never stay here. This was the worst hotel experience of my life.                                                                                                                                                                                                                                                                                                                                                                                                                                                                                                                                                                                                                                                                                                                                                                                                                                                                                                                                                                                                                                                                                                                                                                                                                                                                                                                                                                                                                                                                                                                                                                                                                                                                                                                                                                                                                                                                                                                                      1\nName: count, Length: 2451, dtype: int64"
     },
     "execution_count": 89,
     "metadata": {},
     "output_type": "execute_result"
    }
   ],
   "source": [
    "df_combined[\"response\"] = df_combined[\"response\"].apply(lambda x: None if x in (\"REJECTION\", \"TASK_DESCRIPTION\") else x)"
   ],
   "metadata": {
    "collapsed": false,
    "ExecuteTime": {
     "end_time": "2025-07-25T08:00:43.935625800Z",
     "start_time": "2025-07-25T08:00:43.890850800Z"
    }
   },
   "id": "7dbd9997b9b7bfac"
  },
  {
   "cell_type": "code",
   "execution_count": 94,
   "outputs": [
    {
     "data": {
      "text/plain": "response\nNone                                                                                                                                                                                                                                                                                                                                                                                                                                                                                                                                                                                                                                                                                                                                                                                                                                                                                                                                                                                                                                                                                                                                                                                                                                                                                                                                                                                                                                                                                                                                                                                                                                                                                                                                                                                                                                                                                                                                                                                                                                                                  61\nMykyta the Fox and networks of language explores how Mykyta the Fox functions as a literary character and as a node in a network of ideas in Ukrainian literature of the nineteenth century. This article argues that Mykyta the Fox is not only a trickster figure but also a symbol of Ukrainian national identity. The article traces the evolution of Mykyta the Fox from his origins in folklore to his appearances in the works of major Ukrainian writers such as Ivan Kotliarevsky, Taras Shevchenko, and Mykhailo Kotsiubynsky. Mykyta the Fox is a complex and multifaceted character who embodies both the strengths and weaknesses of the Ukrainian national character. His trickster nature allows him to outwit his enemies and survive in a hostile world, but it also leads him to make mistakes and to engage in destructive behavior. As a symbol of Ukrainian national identity, Mykyta the Fox represents the resilience and determination of the Ukrainian people. He is a reminder that even in the darkest of times, Ukrainians have always been able to find ways to laugh and to survive. Mykyta the Fox is a rich and rewarding character who offers insights into Ukrainian history, culture, and national identity. This article provides a comprehensive analysis of Mykyta the Fox and his significance in Ukrainian literature.                                                                                                                                                                                                                                                                                                                                                                                                                                                                                                                                                                                                                                                                                                         3\nThe self-duality constraint in supergravity can be rephrased as a set of constraints on a pair of commuting spinors. In this paper we give a detailed account of this twistor formulation of N=2 supergravity in four dimensions. As an application we show how the pure spinor formalism of N=1 supergravity can be used to construct self-dual solutions of N=2 supergravity. The general solution is given in terms of a pair of commuting spinors subject to additional constraints. In the case of N=4 supergravity in four dimensions the self-duality equations imply that the gravitino is pure spinor. This is used to show how the pure spinor formalism of N=1 supergravity can be used to construct self-dual solutions of N=2 supergravity. The general solution is given in terms of a pair of commuting spinors subject to additional constraints. This is the first example of a construction of self-dual solutions to a theory of supergravity in higher dimensions.                                                                                                                                                                                                                                                                                                                                                                                                                                                                                                                                                                                                                                                                                                                                                                                                                                                                                                                                                                                                                                                                                 3\nIn this paper, we introduce a new approach to the study of q-deformed quantum spaces based on spinor calculus.                                                                                                                                                                                                                                                                                                                                                                                                                                                                                                                                                                                                                                                                                                                                                                                                                                                                                                                                                                                                                                                                                                                                                                                                                                                                                                                                                                                                                                                                                                                                                                                                                                                                                                                                                                                                                                                                                                                                                         3\nThe growth of supermassive black holes (SMBHs) in the centres of galaxies is thought to be driven by accretion of matter. SMBHs are often fed by gas that is transported through the galaxy via stochastic processes such as galaxy mergers and interactions. In this paper, we study the effect of stochastic accretion on the growth of SMBHs and the properties of active galactic nuclei (AGN) and quasars. We use a semi-analytical model to simulate the growth of SMBHs and the evolution of their accretion properties. We find that stochastic accretion can lead to significant variations in the growth rate of SMBHs and the properties of AGN and quasars. In particular, we find that SMBHs that are fed by stochastic accretion can experience periods of rapid growth, followed by periods of quiescence. We also find that the properties of AGN and quasars that are fed by stochastic accretion can be significantly different from those that are fed by a steady flow of gas.                                                                                                                                                                                                                                                                                                                                                                                                                                                                                                                                                                                                                                                                                                                                                                                                                                                                                                                                                                                                                                                                     3\n                                                                                                                                                                                                                                                                                                                                                                                                                                                                                                                                                                                                                                                                                                                                                                                                                                                                                                                                                                                                                                                                                                                                                                                                                                                                                                                                                                                                                                                                                                                                                                                                                                                                                                                                                                                                                                                                                                                                                                                                                                                                      ..\nThis article presents a thorough analysis of the position-velocity diagrams obtained from the maser emission originating from a Keplerian ring. Maser emission, characterized by intense and highly collimated radiation, provides valuable insights into the dynamics and kinematics of astrophysical systems. The focus of this study is on a specific source exhibiting maser emission in the form of a Keplerian ring. By employing high-resolution observations and sophisticated data analysis techniques, we construct position-velocity diagrams to investigate the underlying physical properties of this maser system. Notably, the Keplerian nature of the emission allows us to probe the central mass distribution and study the orbital characteristics of the ring. Our findings reveal distinct features in the position-velocity diagrams, enabling us to estimate the central mass and its uncertainties, as well as determine the ring's kinematic properties such as orbital speed and inclination. Overall, this research contributes to our understanding of maser emission phenomena and provides valuable insights into the dynamics of astrophysical systems governed by Keplerian motion.                                                                                                                                                                                                                                                                                                                                                                                                                                                                                                                                                                                                                                                                                                                                                                                                                                                    1\nThis article presents a novel binary model aimed at explaining the puzzling phenomenon known as the UV-upturn observed in elliptical galaxies. The UV-upturn refers to the unexpected increase in the ultraviolet (UV) light emitted by these galaxies at wavelengths shorter than 250 nm. Despite numerous studies, the physical mechanisms driving this phenomenon remain unclear. In this study, we propose a binary star formation model as a potential explanation for the UV-upturn. The model suggests that the UV emission is primarily generated by a population of hot, young stars in binary systems. These binary systems are characterized by mass transfer and mergers, which lead to the formation of short-lived, massive stars that emit large amounts of UV radiation. We validate our model by comparing its predictions with observational data from a sample of elliptical galaxies exhibiting the UV-upturn. Our analysis demonstrates that the binary model successfully reproduces the observed UV-upturn phenomenon, providing a plausible explanation for this enigmatic feature. Moreover, our model offers insights into the underlying physical processes driving the UV-upturn, shedding light on the formation and evolution of elliptical galaxies. Furthermore, we investigate the properties of the binary systems responsible for the UV emission and examine their implications for the overall stellar populations in elliptical galaxies. Our results suggest that the UV-upturn galaxies harbor a significant fraction of binary star systems, potentially influencing the stellar mass distribution and stellar evolution pathways in these galaxies. Overall, this binary model for the UV-upturn represents a significant advancement in our understanding of the peculiar UV properties of elliptical galaxies. It not only provides a viable explanation for the observed phenomenon but also paves the way for future investigations into the intricate interplay between binary star formation and galaxy evolution.     1\nThis article presents a study on the potential new properties of atomic nuclei through the application of nonlinear methods, specifically fractal and recurrence quantification analysis. The investigation aims to explore previously unexplored aspects of atomic nuclei behavior and shed light on their underlying dynamics. The fractal analysis is employed to examine the self-similarity and complexity of the nuclear structure. By quantifying the fractal dimension, insights into the spatial distribution and organization of nucleons within the nucleus can be obtained. Additionally, the recurrence quantification analysis is utilized to investigate the presence of recurrent patterns and dynamics within nuclear processes. This method enables the identification of repeated occurrences of specific events or configurations in the nuclear system. The results of the study reveal intriguing observations. The fractal analysis indicates the presence of multifractal behavior within nuclear structures, suggesting a complex and hierarchical organization of nucleons. This finding challenges the traditional notion of a uniform and homogeneous nuclear structure. The recurrence quantification analysis uncovers the existence of recurrent patterns in nuclear processes, indicative of underlying periodic or oscillatory behavior. These findings have significant implications for our understanding of atomic nuclei and their properties. The discovery of multifractal behavior suggests the presence of hidden degrees of freedom within the nucleus, possibly related to exotic phenomena or complex interactions. The identification of recurrent patterns provides insights into the fundamental dynamics of nucleons, enabling the development of more accurate models and predictions. The non-linear methods used in this study offer a novel and powerful approach to explore the behavior of atomic nuclei beyond the limitations of traditional analysis techniques.                                              1\nThis article presents a comprehensive study on the application of weighting techniques in periodicity searches for the Gamma-ray Large Area Space Telescope (GLAST) All-Sky Monitor (ASM) data. The search for periodic signals in astronomical data plays a crucial role in understanding the underlying physical processes. Using a detailed analysis framework, we investigate the efficacy of various weighting methods in enhancing the detection sensitivity of periodic signals in the GLAST LAT data. Our findings demonstrate that incorporating appropriate weights based on photon statistics and instrumental effects significantly improves the detection efficiency for both bright and faint sources. Moreover, we explore the impact of different weighting strategies on the determination of the period and its uncertainties, highlighting the importance of accurate statistical treatment in optimizing periodicity searches. The results presented in this study provide valuable insights for future analyses of ASM data and pave the way for improved characterization of periodic sources in the gamma-ray sky.                                                                                                                                                                                                                                                                                                                                                                                                                                                                                                                                                                                                                                                                                                                                                                                                                                                                                                                              1\nNever stay here. This was the worst hotel experience of my life. Never stay here. This was the worst hotel experience of my life.                                                                                                                                                                                                                                                                                                                                                                                                                                                                                                                                                                                                                                                                                                                                                                                                                                                                                                                                                                                                                                                                                                                                                                                                                                                                                                                                                                                                                                                                                                                                                                                                                                                                                                                                                                                                                                                                                                                                      1\nName: count, Length: 2451, dtype: int64"
     },
     "execution_count": 94,
     "metadata": {},
     "output_type": "execute_result"
    }
   ],
   "source": [
    "df_combined.to_parquet(f\"{RESULT_DIR}/recleaned_data.parquet\", index=False)\n",
    "df_combined[\"response\"].value_counts(dropna=False)\n"
   ],
   "metadata": {
    "collapsed": false,
    "ExecuteTime": {
     "end_time": "2025-07-25T08:14:29.254062Z",
     "start_time": "2025-07-25T08:14:29.147404800Z"
    }
   },
   "id": "f82670c9140c8b41"
  },
  {
   "cell_type": "markdown",
   "source": [
    "# 5. Combine new generated recleaned dataframe with the regex version"
   ],
   "metadata": {
    "collapsed": false
   },
   "id": "95aaecf835536413"
  },
  {
   "cell_type": "code",
   "execution_count": 15,
   "outputs": [],
   "source": [
    "path_writing = f'{REGEX_CLEANED_FILES}/writing_prompt_2800_cleaned_all_v3.parquet'\n",
    "path_abstract = f'{REGEX_CLEANED_FILES}/arxiv_2800_cleaned_all_v3.parquet'\n",
    "path_review = f'{REGEX_CLEANED_FILES}/yelp_review_2800_cleaned_all_v3.parquet'\n",
    "path_xsum = f'{REGEX_CLEANED_FILES}/xsum_2800_cleaned_all_v3.parquet'\n",
    "\n",
    "df_writing_cleaned = pd.read_parquet(path_writing)\n",
    "df_abstract_cleaned = pd.read_parquet(path_abstract)\n",
    "df_review_cleaned = pd.read_parquet(path_review)\n",
    "df_xsum_cleaned = pd.read_parquet(path_xsum)\n",
    "\n",
    "domain_dfs = {\n",
    "    \"arxiv\": df_abstract_cleaned.copy(deep=True),\n",
    "    \"writing_prompt\": df_writing_cleaned.copy(deep=True),\n",
    "    \"yelp_review\": df_review_cleaned.copy(deep=True),\n",
    "    \"xsum\": df_xsum_cleaned.copy(deep=True)\n",
    "}\n",
    "\n",
    "combined_recleaned_df = pd.read_parquet(f\"{RESULT_DIR}/recleaned_data.parquet\")"
   ],
   "metadata": {
    "collapsed": false,
    "ExecuteTime": {
     "end_time": "2025-09-18T11:06:12.207441400Z",
     "start_time": "2025-09-18T11:06:11.001325300Z"
    }
   },
   "id": "773062eaca3ac675"
  },
  {
   "cell_type": "code",
   "execution_count": 16,
   "outputs": [
    {
     "data": {
      "text/plain": "     id                                          custom_id  \\\n0  1455  writing_prompt_1455_paraphrase_polish_llm_cleaned   \n1  1494  writing_prompt_1494_paraphrase_polish_llm_cleaned   \n2  1502  writing_prompt_1502_paraphrase_polish_llm_cleaned   \n3  1542  writing_prompt_1542_paraphrase_polish_llm_cleaned   \n4  1557  writing_prompt_1557_paraphrase_polish_llm_cleaned   \n\n                                            response          domain  \\\n0  The warm sunlight glistened off Thunder's dark...  writing_prompt   \n1  Creating believable characters is the backbone...  writing_prompt   \n2  I dreaded attending the writing workshop, as u...  writing_prompt   \n3  In January 2025, we accomplished our goal of e...  writing_prompt   \n4  Jake had always dreamed of playing professiona...  writing_prompt   \n\n      prompting_strategy  \n0  paraphrase_polish_llm  \n1  paraphrase_polish_llm  \n2  paraphrase_polish_llm  \n3  paraphrase_polish_llm  \n4  paraphrase_polish_llm  ",
      "text/html": "<div>\n<style scoped>\n    .dataframe tbody tr th:only-of-type {\n        vertical-align: middle;\n    }\n\n    .dataframe tbody tr th {\n        vertical-align: top;\n    }\n\n    .dataframe thead th {\n        text-align: right;\n    }\n</style>\n<table border=\"1\" class=\"dataframe\">\n  <thead>\n    <tr style=\"text-align: right;\">\n      <th></th>\n      <th>id</th>\n      <th>custom_id</th>\n      <th>response</th>\n      <th>domain</th>\n      <th>prompting_strategy</th>\n    </tr>\n  </thead>\n  <tbody>\n    <tr>\n      <th>0</th>\n      <td>1455</td>\n      <td>writing_prompt_1455_paraphrase_polish_llm_cleaned</td>\n      <td>The warm sunlight glistened off Thunder's dark...</td>\n      <td>writing_prompt</td>\n      <td>paraphrase_polish_llm</td>\n    </tr>\n    <tr>\n      <th>1</th>\n      <td>1494</td>\n      <td>writing_prompt_1494_paraphrase_polish_llm_cleaned</td>\n      <td>Creating believable characters is the backbone...</td>\n      <td>writing_prompt</td>\n      <td>paraphrase_polish_llm</td>\n    </tr>\n    <tr>\n      <th>2</th>\n      <td>1502</td>\n      <td>writing_prompt_1502_paraphrase_polish_llm_cleaned</td>\n      <td>I dreaded attending the writing workshop, as u...</td>\n      <td>writing_prompt</td>\n      <td>paraphrase_polish_llm</td>\n    </tr>\n    <tr>\n      <th>3</th>\n      <td>1542</td>\n      <td>writing_prompt_1542_paraphrase_polish_llm_cleaned</td>\n      <td>In January 2025, we accomplished our goal of e...</td>\n      <td>writing_prompt</td>\n      <td>paraphrase_polish_llm</td>\n    </tr>\n    <tr>\n      <th>4</th>\n      <td>1557</td>\n      <td>writing_prompt_1557_paraphrase_polish_llm_cleaned</td>\n      <td>Jake had always dreamed of playing professiona...</td>\n      <td>writing_prompt</td>\n      <td>paraphrase_polish_llm</td>\n    </tr>\n  </tbody>\n</table>\n</div>"
     },
     "execution_count": 16,
     "metadata": {},
     "output_type": "execute_result"
    }
   ],
   "source": [
    "combined_recleaned_df.head()"
   ],
   "metadata": {
    "collapsed": false,
    "ExecuteTime": {
     "end_time": "2025-09-18T11:06:17.963973200Z",
     "start_time": "2025-09-18T11:06:17.959974Z"
    }
   },
   "id": "ed22d68224a5a735"
  },
  {
   "cell_type": "code",
   "execution_count": 17,
   "outputs": [
    {
     "data": {
      "text/plain": "(     id                                          custom_id  \\\n 0  1455  writing_prompt_1455_paraphrase_polish_llm_cleaned   \n 1  1494  writing_prompt_1494_paraphrase_polish_llm_cleaned   \n 2  1502  writing_prompt_1502_paraphrase_polish_llm_cleaned   \n 3  1542  writing_prompt_1542_paraphrase_polish_llm_cleaned   \n 4  1557  writing_prompt_1557_paraphrase_polish_llm_cleaned   \n \n                                             response          domain  \\\n 0  The warm sunlight glistened off Thunder's dark...  writing_prompt   \n 1  Creating believable characters is the backbone...  writing_prompt   \n 2  I dreaded attending the writing workshop, as u...  writing_prompt   \n 3  In January 2025, we accomplished our goal of e...  writing_prompt   \n 4  Jake had always dreamed of playing professiona...  writing_prompt   \n \n       prompting_strategy  \n 0  paraphrase_polish_llm  \n 1  paraphrase_polish_llm  \n 2  paraphrase_polish_llm  \n 3  paraphrase_polish_llm  \n 4  paraphrase_polish_llm  ,\n array(['writing_prompt', 'arxiv', 'yelp_review', 'xsum'], dtype=object))"
     },
     "execution_count": 17,
     "metadata": {},
     "output_type": "execute_result"
    }
   ],
   "source": [
    "combined_recleaned_df.head(), combined_recleaned_df.domain.unique()"
   ],
   "metadata": {
    "collapsed": false,
    "ExecuteTime": {
     "end_time": "2025-09-18T11:06:27.897873300Z",
     "start_time": "2025-09-18T11:06:27.896894Z"
    }
   },
   "id": "3ff7065a8502a47a"
  },
  {
   "cell_type": "code",
   "execution_count": 18,
   "outputs": [
    {
     "name": "stdout",
     "output_type": "stream",
     "text": [
      "<class 'pandas.core.frame.DataFrame'>\n",
      "RangeIndex: 2800 entries, 0 to 2799\n",
      "Data columns (total 21 columns):\n",
      " #   Column                             Non-Null Count  Dtype \n",
      "---  ------                             --------------  ----- \n",
      " 0   id                                 2800 non-null   int64 \n",
      " 1   story                              2800 non-null   object\n",
      " 2   story_prompt                       2800 non-null   object\n",
      " 3   direct_prompt                      2751 non-null   object\n",
      " 4   llm_type                           2800 non-null   object\n",
      " 5   domain                             2800 non-null   object\n",
      " 6   paraphrase_polish_human            2539 non-null   object\n",
      " 7   paraphrase_polish_llm              2769 non-null   object\n",
      " 8   prompt_few_shot                    2327 non-null   object\n",
      " 9   prompt_SICO                        2746 non-null   object\n",
      " 10  adversarial_character_human        2800 non-null   object\n",
      " 11  adversarial_character_llm          2800 non-null   object\n",
      " 12  adversarial_word_human             2800 non-null   object\n",
      " 13  adversarial_word_llm               2800 non-null   object\n",
      " 14  adversarial_character_word_human   2800 non-null   object\n",
      " 15  adversarial_character_word_llm     2800 non-null   object\n",
      " 16  paraphrase_back_translation_human  2800 non-null   object\n",
      " 17  paraphrase_back_translation_llm    2800 non-null   object\n",
      " 18  paraphrase_dipper_human            2793 non-null   object\n",
      " 19  paraphrase_dipper_llm              2793 non-null   object\n",
      " 20  icl_prompt                         2 non-null      object\n",
      "dtypes: int64(1), object(20)\n",
      "memory usage: 459.5+ KB\n",
      "<class 'pandas.core.frame.DataFrame'>\n",
      "RangeIndex: 2800 entries, 0 to 2799\n",
      "Data columns (total 20 columns):\n",
      " #   Column                             Non-Null Count  Dtype \n",
      "---  ------                             --------------  ----- \n",
      " 0   id                                 2800 non-null   int64 \n",
      " 1   summary                            2800 non-null   object\n",
      " 2   document                           2800 non-null   object\n",
      " 3   direct_prompt                      2656 non-null   object\n",
      " 4   llm_type                           2800 non-null   object\n",
      " 5   domain                             2800 non-null   object\n",
      " 6   paraphrase_polish_human            2633 non-null   object\n",
      " 7   paraphrase_polish_llm              2729 non-null   object\n",
      " 8   prompt_few_shot                    2620 non-null   object\n",
      " 9   prompt_SICO                        2648 non-null   object\n",
      " 10  adversarial_character_human        2800 non-null   object\n",
      " 11  adversarial_character_llm          2800 non-null   object\n",
      " 12  adversarial_word_human             2800 non-null   object\n",
      " 13  adversarial_word_llm               2800 non-null   object\n",
      " 14  adversarial_character_word_human   2800 non-null   object\n",
      " 15  adversarial_character_word_llm     2800 non-null   object\n",
      " 16  paraphrase_back_translation_human  2800 non-null   object\n",
      " 17  paraphrase_back_translation_llm    2800 non-null   object\n",
      " 18  paraphrase_dipper_human            2800 non-null   object\n",
      " 19  paraphrase_dipper_llm              2800 non-null   object\n",
      "dtypes: int64(1), object(19)\n",
      "memory usage: 437.6+ KB\n",
      "<class 'pandas.core.frame.DataFrame'>\n",
      "RangeIndex: 2800 entries, 0 to 2799\n",
      "Data columns (total 22 columns):\n",
      " #   Column                             Non-Null Count  Dtype \n",
      "---  ------                             --------------  ----- \n",
      " 0   id                                 2800 non-null   int64 \n",
      " 1   title                              2800 non-null   object\n",
      " 2   abstract                           2800 non-null   object\n",
      " 3   direct_prompt                      2796 non-null   object\n",
      " 4   llm_type                           2800 non-null   object\n",
      " 5   domain                             2800 non-null   object\n",
      " 6   prompt_few_shot                    2793 non-null   object\n",
      " 7   prompt_SICO                        2798 non-null   object\n",
      " 8   paraphrase_polish_human            2771 non-null   object\n",
      " 9   paraphrase_polish_llm              2796 non-null   object\n",
      " 10  human_length                       2800 non-null   int64 \n",
      " 11  direct_prompt_length               2800 non-null   int64 \n",
      " 12  adversarial_character_human        2800 non-null   object\n",
      " 13  adversarial_character_llm          2800 non-null   object\n",
      " 14  adversarial_word_human             2800 non-null   object\n",
      " 15  adversarial_word_llm               2800 non-null   object\n",
      " 16  adversarial_character_word_human   2800 non-null   object\n",
      " 17  adversarial_character_word_llm     2800 non-null   object\n",
      " 18  paraphrase_back_translation_human  2800 non-null   object\n",
      " 19  paraphrase_back_translation_llm    2800 non-null   object\n",
      " 20  paraphrase_dipper_human            2800 non-null   object\n",
      " 21  paraphrase_dipper_llm              2798 non-null   object\n",
      "dtypes: int64(3), object(19)\n",
      "memory usage: 481.4+ KB\n",
      "<class 'pandas.core.frame.DataFrame'>\n",
      "RangeIndex: 2800 entries, 0 to 2799\n",
      "Data columns (total 20 columns):\n",
      " #   Column                             Non-Null Count  Dtype \n",
      "---  ------                             --------------  ----- \n",
      " 0   id                                 2800 non-null   int64 \n",
      " 1   start                              2800 non-null   object\n",
      " 2   content                            2800 non-null   object\n",
      " 3   direct_prompt                      2708 non-null   object\n",
      " 4   llm_type                           2800 non-null   object\n",
      " 5   domain                             2800 non-null   object\n",
      " 6   prompt_few_shot                    2546 non-null   object\n",
      " 7   prompt_SICO                        2696 non-null   object\n",
      " 8   paraphrase_polish_human            2735 non-null   object\n",
      " 9   paraphrase_polish_llm              2739 non-null   object\n",
      " 10  adversarial_character_human        2800 non-null   object\n",
      " 11  adversarial_character_llm          2800 non-null   object\n",
      " 12  adversarial_word_human             2800 non-null   object\n",
      " 13  adversarial_word_llm               2800 non-null   object\n",
      " 14  adversarial_character_word_human   2800 non-null   object\n",
      " 15  adversarial_character_word_llm     2800 non-null   object\n",
      " 16  paraphrase_back_translation_human  2800 non-null   object\n",
      " 17  paraphrase_back_translation_llm    2800 non-null   object\n",
      " 18  paraphrase_dipper_human            2793 non-null   object\n",
      " 19  paraphrase_dipper_llm              2792 non-null   object\n",
      "dtypes: int64(1), object(19)\n",
      "memory usage: 437.6+ KB\n",
      "None None None None\n"
     ]
    }
   ],
   "source": [
    "print(df_writing_cleaned.info(), df_xsum_cleaned.info(), df_abstract_cleaned.info(), df_review_cleaned.info())"
   ],
   "metadata": {
    "collapsed": false,
    "ExecuteTime": {
     "end_time": "2025-09-18T11:06:37.116762100Z",
     "start_time": "2025-09-18T11:06:37.099361900Z"
    }
   },
   "id": "fb7d7155fdcba756"
  },
  {
   "cell_type": "code",
   "execution_count": 19,
   "outputs": [
    {
     "data": {
      "text/plain": "    id                                              title  \\\nid                                                          \n1    1  Calculation of prompt diphoton production cros...   \n2    2  The evolution of the Earth-Moon system based o...   \n3    3  Bosonic characters of atomic Cooper pairs acro...   \n4    4  Polymer Quantum Mechanics and its Continuum Limit   \n5    5  Numerical solution of shock and ramp compressi...   \n\n                                             abstract  \\\nid                                                      \n1   A fully differential calculation in perturbati...   \n2   The evolution of Earth-Moon system is describe...   \n3   We study the two-particle wave function of pai...   \n4   A rather non-standard quantum representation o...   \n5   A general formulation was developed to represe...   \n\n                                        direct_prompt llm_type domain  \\\nid                                                                      \n1   This study presents a comprehensive calculatio...  ChatGPT  arxiv   \n2   The understanding of the dynamic evolution of ...  ChatGPT  arxiv   \n3   This article investigates the bosonic characte...  ChatGPT  arxiv   \n4   Polymer quantum mechanics emerges as a fascina...  ChatGPT  arxiv   \n5   This study presents a numerical approach for s...  ChatGPT  arxiv   \n\n                                      prompt_few_shot  \\\nid                                                      \n1   In this study, we present a comprehensive calc...   \n2   In this study, we explore the evolutionary dyn...   \n3   We investigate the bosonic characteristics of ...   \n4   Polymer quantum mechanics is a framework that ...   \n5   This study presents a numerical approach for s...   \n\n                                          prompt_SICO  \\\nid                                                      \n1   In this study, we present a comprehensive calc...   \n2   The evolution of the Earth-Moon system has lon...   \n3   This article investigates the bosonic characte...   \n4   In this article, we explore the fascinating re...   \n5   In this study, we present a numerical approach...   \n\n                              paraphrase_polish_human  \\\nid                                                      \n1   This study presents a comprehensive and fully ...   \n2   The evolution of the Earth-Moon system is addr...   \n3   We investigate the characteristics of the two-...   \n4   The polymer representation, a distinct quantum...   \n5   This study presents a comprehensive formulatio...   \n\n                                paraphrase_polish_llm  ...  \\\nid                                                     ...   \n1   This study presents a comprehensive calculatio...  ...   \n2   The dynamic evolution of the Earth-Moon system...  ...   \n3   This article delves into the examination of th...  ...   \n4   Polymer quantum mechanics presents an intrigui...  ...   \n5   This study presents a numerical approach for s...  ...   \n\n                          adversarial_character_human  \\\nid                                                      \n1   A fully differential calCulation in perturbati...   \n2   The evolution of Earth-Moon system is describe...   \n3   We study the two-particle wave function of pai...   \n4   A rather non-standard quantum representaiton o...   \n5   A general formulation was developed to represe...   \n\n                            adversarial_character_llm  \\\nid                                                      \n1   This study presents a comprehensive calculatio...   \n2   The understanding of the dynamic evolution of ...   \n3   This article investigates the bosonic characte...   \n4   Polymer quantum mechanics emreges as a fascina...   \n5   This study presents a numerical approach for s...   \n\n                               adversarial_word_human  \\\nid                                                      \n1   A fully disparity calculation in perturbative ...   \n2   The evolution of Earth-Moon system is outlines...   \n3   We study the two-particle wave function of pai...   \n4   A rather non-standard quantum representation o...   \n5   A general formulation was developed to represe...   \n\n                                 adversarial_word_llm  \\\nid                                                      \n1   This study presents a full calculation of prom...   \n2   The understanding of the dynamic evolution of ...   \n3   This art investigates the bosonic characterist...   \n4   Polymer quantum mechanics emerges as a fascina...   \n5   This study presents a numerical approach for s...   \n\n                     adversarial_character_word_human  \\\nid                                                      \n1   A fully differential calculation in perturbati...   \n2   The evolution of Earth-Moon system is describe...   \n3   We study the two-particle wave function of pai...   \n4   A rather non-standard quantum representation o...   \n5   A general formulation was developed to represe...   \n\n                       adversarial_character_word_llm  \\\nid                                                      \n1   This study рresents a comprehensive calculatio...   \n2   The understanding of the dynamic changing of t...   \n3   This article investigates the bosonic characte...   \n4   Polymer quantum mechanics e merges as a fascin...   \n5   This study presents a numerical approach for s...   \n\n                    paraphrase_back_translation_human  \\\nid                                                      \n1   The calculation of the complete difference in ...   \n2   The evolution of the global system is describe...   \n3   We have studied two particle wave functions pa...   \n4   The quantum quantum quantum quantum quantum qu...   \n5   The general formula is developed to indicate t...   \n\n                      paraphrase_back_translation_llm  \\\nid                                                      \n1   This study lists the comprehensive calculation...   \n2   The understanding of the dynamic evolution of ...   \n3   This article investigates the bone characteris...   \n4   Polymerization quantum mechanics is a fascinat...   \n5   This study proposes a numerical method that co...   \n\n                              paraphrase_dipper_human  \\\nid                                                      \n1   The calculation includes all next-to-leading-o...   \n2   The closest distance of the Moon to the Earth ...   \n3   The bosoniccharacter of the two-particle wave ...   \n4   Thisapproach has been followed in a symmetric ...   \n5   The numerical methods were found to be flexibl...   \n\n                                paraphrase_dipper_llm  \nid                                                     \n1   To determine the cross sections, we use the mo...  \n2   In this study, we present a new approach to th...  \n3   The authors use a theoretical framework based ...  \n4   This article delves into the study of polymer ...  \n5   The proposed methodology combines a finite ele...  \n\n[5 rows x 22 columns]",
      "text/html": "<div>\n<style scoped>\n    .dataframe tbody tr th:only-of-type {\n        vertical-align: middle;\n    }\n\n    .dataframe tbody tr th {\n        vertical-align: top;\n    }\n\n    .dataframe thead th {\n        text-align: right;\n    }\n</style>\n<table border=\"1\" class=\"dataframe\">\n  <thead>\n    <tr style=\"text-align: right;\">\n      <th></th>\n      <th>id</th>\n      <th>title</th>\n      <th>abstract</th>\n      <th>direct_prompt</th>\n      <th>llm_type</th>\n      <th>domain</th>\n      <th>prompt_few_shot</th>\n      <th>prompt_SICO</th>\n      <th>paraphrase_polish_human</th>\n      <th>paraphrase_polish_llm</th>\n      <th>...</th>\n      <th>adversarial_character_human</th>\n      <th>adversarial_character_llm</th>\n      <th>adversarial_word_human</th>\n      <th>adversarial_word_llm</th>\n      <th>adversarial_character_word_human</th>\n      <th>adversarial_character_word_llm</th>\n      <th>paraphrase_back_translation_human</th>\n      <th>paraphrase_back_translation_llm</th>\n      <th>paraphrase_dipper_human</th>\n      <th>paraphrase_dipper_llm</th>\n    </tr>\n    <tr>\n      <th>id</th>\n      <th></th>\n      <th></th>\n      <th></th>\n      <th></th>\n      <th></th>\n      <th></th>\n      <th></th>\n      <th></th>\n      <th></th>\n      <th></th>\n      <th></th>\n      <th></th>\n      <th></th>\n      <th></th>\n      <th></th>\n      <th></th>\n      <th></th>\n      <th></th>\n      <th></th>\n      <th></th>\n      <th></th>\n    </tr>\n  </thead>\n  <tbody>\n    <tr>\n      <th>1</th>\n      <td>1</td>\n      <td>Calculation of prompt diphoton production cros...</td>\n      <td>A fully differential calculation in perturbati...</td>\n      <td>This study presents a comprehensive calculatio...</td>\n      <td>ChatGPT</td>\n      <td>arxiv</td>\n      <td>In this study, we present a comprehensive calc...</td>\n      <td>In this study, we present a comprehensive calc...</td>\n      <td>This study presents a comprehensive and fully ...</td>\n      <td>This study presents a comprehensive calculatio...</td>\n      <td>...</td>\n      <td>A fully differential calCulation in perturbati...</td>\n      <td>This study presents a comprehensive calculatio...</td>\n      <td>A fully disparity calculation in perturbative ...</td>\n      <td>This study presents a full calculation of prom...</td>\n      <td>A fully differential calculation in perturbati...</td>\n      <td>This study рresents a comprehensive calculatio...</td>\n      <td>The calculation of the complete difference in ...</td>\n      <td>This study lists the comprehensive calculation...</td>\n      <td>The calculation includes all next-to-leading-o...</td>\n      <td>To determine the cross sections, we use the mo...</td>\n    </tr>\n    <tr>\n      <th>2</th>\n      <td>2</td>\n      <td>The evolution of the Earth-Moon system based o...</td>\n      <td>The evolution of Earth-Moon system is describe...</td>\n      <td>The understanding of the dynamic evolution of ...</td>\n      <td>ChatGPT</td>\n      <td>arxiv</td>\n      <td>In this study, we explore the evolutionary dyn...</td>\n      <td>The evolution of the Earth-Moon system has lon...</td>\n      <td>The evolution of the Earth-Moon system is addr...</td>\n      <td>The dynamic evolution of the Earth-Moon system...</td>\n      <td>...</td>\n      <td>The evolution of Earth-Moon system is describe...</td>\n      <td>The understanding of the dynamic evolution of ...</td>\n      <td>The evolution of Earth-Moon system is outlines...</td>\n      <td>The understanding of the dynamic evolution of ...</td>\n      <td>The evolution of Earth-Moon system is describe...</td>\n      <td>The understanding of the dynamic changing of t...</td>\n      <td>The evolution of the global system is describe...</td>\n      <td>The understanding of the dynamic evolution of ...</td>\n      <td>The closest distance of the Moon to the Earth ...</td>\n      <td>In this study, we present a new approach to th...</td>\n    </tr>\n    <tr>\n      <th>3</th>\n      <td>3</td>\n      <td>Bosonic characters of atomic Cooper pairs acro...</td>\n      <td>We study the two-particle wave function of pai...</td>\n      <td>This article investigates the bosonic characte...</td>\n      <td>ChatGPT</td>\n      <td>arxiv</td>\n      <td>We investigate the bosonic characteristics of ...</td>\n      <td>This article investigates the bosonic characte...</td>\n      <td>We investigate the characteristics of the two-...</td>\n      <td>This article delves into the examination of th...</td>\n      <td>...</td>\n      <td>We study the two-particle wave function of pai...</td>\n      <td>This article investigates the bosonic characte...</td>\n      <td>We study the two-particle wave function of pai...</td>\n      <td>This art investigates the bosonic characterist...</td>\n      <td>We study the two-particle wave function of pai...</td>\n      <td>This article investigates the bosonic characte...</td>\n      <td>We have studied two particle wave functions pa...</td>\n      <td>This article investigates the bone characteris...</td>\n      <td>The bosoniccharacter of the two-particle wave ...</td>\n      <td>The authors use a theoretical framework based ...</td>\n    </tr>\n    <tr>\n      <th>4</th>\n      <td>4</td>\n      <td>Polymer Quantum Mechanics and its Continuum Limit</td>\n      <td>A rather non-standard quantum representation o...</td>\n      <td>Polymer quantum mechanics emerges as a fascina...</td>\n      <td>ChatGPT</td>\n      <td>arxiv</td>\n      <td>Polymer quantum mechanics is a framework that ...</td>\n      <td>In this article, we explore the fascinating re...</td>\n      <td>The polymer representation, a distinct quantum...</td>\n      <td>Polymer quantum mechanics presents an intrigui...</td>\n      <td>...</td>\n      <td>A rather non-standard quantum representaiton o...</td>\n      <td>Polymer quantum mechanics emreges as a fascina...</td>\n      <td>A rather non-standard quantum representation o...</td>\n      <td>Polymer quantum mechanics emerges as a fascina...</td>\n      <td>A rather non-standard quantum representation o...</td>\n      <td>Polymer quantum mechanics e merges as a fascin...</td>\n      <td>The quantum quantum quantum quantum quantum qu...</td>\n      <td>Polymerization quantum mechanics is a fascinat...</td>\n      <td>Thisapproach has been followed in a symmetric ...</td>\n      <td>This article delves into the study of polymer ...</td>\n    </tr>\n    <tr>\n      <th>5</th>\n      <td>5</td>\n      <td>Numerical solution of shock and ramp compressi...</td>\n      <td>A general formulation was developed to represe...</td>\n      <td>This study presents a numerical approach for s...</td>\n      <td>ChatGPT</td>\n      <td>arxiv</td>\n      <td>This study presents a numerical approach for s...</td>\n      <td>In this study, we present a numerical approach...</td>\n      <td>This study presents a comprehensive formulatio...</td>\n      <td>This study presents a numerical approach for s...</td>\n      <td>...</td>\n      <td>A general formulation was developed to represe...</td>\n      <td>This study presents a numerical approach for s...</td>\n      <td>A general formulation was developed to represe...</td>\n      <td>This study presents a numerical approach for s...</td>\n      <td>A general formulation was developed to represe...</td>\n      <td>This study presents a numerical approach for s...</td>\n      <td>The general formula is developed to indicate t...</td>\n      <td>This study proposes a numerical method that co...</td>\n      <td>The numerical methods were found to be flexibl...</td>\n      <td>The proposed methodology combines a finite ele...</td>\n    </tr>\n  </tbody>\n</table>\n<p>5 rows × 22 columns</p>\n</div>"
     },
     "execution_count": 19,
     "metadata": {},
     "output_type": "execute_result"
    }
   ],
   "source": [
    "for _domain, _df in domain_dfs.items():\n",
    "    _df.index = _df.id\n",
    "    \n",
    "domain_dfs[\"arxiv\"].head()"
   ],
   "metadata": {
    "collapsed": false,
    "ExecuteTime": {
     "end_time": "2025-09-18T11:06:55.275598700Z",
     "start_time": "2025-09-18T11:06:55.244566900Z"
    }
   },
   "id": "bca38d3460956810"
  },
  {
   "cell_type": "code",
   "execution_count": 20,
   "outputs": [],
   "source": [
    "for _domain, _df in domain_dfs.items():\n",
    "    combined_recleaned_df_temp = combined_recleaned_df[combined_recleaned_df[\"domain\"]==_domain]\n",
    "    for _, row in combined_recleaned_df_temp.iterrows():\n",
    "        _df.loc[row[\"id\"], row[\"prompting_strategy\"]] = row[\"response\"]\n",
    "        "
   ],
   "metadata": {
    "collapsed": false,
    "ExecuteTime": {
     "end_time": "2025-09-18T11:07:28.337287600Z",
     "start_time": "2025-09-18T11:07:27.871331Z"
    }
   },
   "id": "1766fd9d7550e03d"
  },
  {
   "cell_type": "code",
   "execution_count": 21,
   "outputs": [
    {
     "data": {
      "text/plain": "\": Sure, here's a news article based on the summary:**Title: North Korea Launches Ballistic Missile into the Sea****SEO Description: North Korea fired a ballistic missile into the sea on Wednesday, South Korean and US officials reported. The projectile was launched from the country's east coast, raising concerns about regional security.****SEO Keywords**: North Korea, South Korea, United States, missile launch, regional security.**Body**:**In a show of force, North Korea launched a ballistic missile into the sea on Wednesday, prompting swift responses from South Korea and the United States.**South Korean and US officials confirmed the launch, with reports indicating that the missile was fired from the country's east coast.**The missile launch marks the latest in a series of escalating tensions in the region, following previous missile tests by North Korea and joint military exercises by South Korea and the United States.**The international community is closely monitoring the situation, urging North Korea to refrain from further actions that could destabilize regional peace and security.\""
     },
     "execution_count": 21,
     "metadata": {},
     "output_type": "execute_result"
    }
   ],
   "source": [
    "df_xsum_cleaned.index = df_xsum_cleaned.id\n",
    "df_xsum_cleaned.loc[2768, \"prompt_SICO\"]"
   ],
   "metadata": {
    "collapsed": false,
    "ExecuteTime": {
     "end_time": "2025-09-18T11:07:32.113826700Z",
     "start_time": "2025-09-18T11:07:32.096185600Z"
    }
   },
   "id": "95bf31ec9b737e93"
  },
  {
   "cell_type": "code",
   "execution_count": 22,
   "outputs": [
    {
     "data": {
      "text/plain": "\"Title: North Korea Launches Ballistic Missile into the Sea\\n\\nSEO Description: North Korea fired a ballistic missile into the sea on Wednesday, South Korean and US officials reported. The projectile was launched from the country's east coast, raising concerns about regional security.\\n\\nSEO Keywords: North Korea, South Korea, United States, missile launch, regional security.\\n\\nBody:\\n\\nIn a show of force, North Korea launched a ballistic missile into the sea on Wednesday, prompting swift responses from South Korea and the United States.\\n\\nSouth Korean and US officials confirmed the launch, with reports indicating that the missile was fired from the country's east coast.\\n\\nThe missile launch marks the latest in a series of escalating tensions in the region, following previous missile tests by North Korea and joint military exercises by South Korea and the United States.\\n\\nThe international community is closely monitoring the situation, urging North Korea to refrain from further actions that could destabilize regional peace and security.\""
     },
     "execution_count": 22,
     "metadata": {},
     "output_type": "execute_result"
    }
   ],
   "source": [
    "domain_dfs[\"xsum\"].loc[2768, \"prompt_SICO\"]"
   ],
   "metadata": {
    "collapsed": false,
    "ExecuteTime": {
     "end_time": "2025-09-18T11:07:44.852611300Z",
     "start_time": "2025-09-18T11:07:44.812732700Z"
    }
   },
   "id": "f084c063e10e52ad"
  },
  {
   "cell_type": "code",
   "execution_count": 23,
   "outputs": [
    {
     "name": "stdout",
     "output_type": "stream",
     "text": [
      "\n",
      "\n",
      "CLEANED We conclude by outlining some possible directions for future research.\n",
      "\n",
      "RECLEANED We introduce a notion of noncommutative torus and establish a Riemann-Hilbert correspondence for these spaces. This correspondence allows us to study the representation theory of the corresponding noncommutative torus. We show that the category of representations of the noncommutative torus is equivalent to the category of perverse sheaves on the classical torus. We also construct a noncommutative analogue of the Riemann-Hilbert transform and use it to study the asymptotics of the characters of the representations of the noncommutative torus. Finally, we discuss the relationship between our work and the theory of noncommutative geometry. We explain how our results can be used to study the geometry of noncommutative spaces. We conclude by outlining some possible directions for future research.\n",
      "\n",
      "\n",
      "CLEANED Are there any specific instructions or revisions you would like me to make to this draft?\n",
      "\n",
      "RECLEANED The application of the Hartle-Hawking wave function to quantum cosmology and to the problem of the fine-tuning of the cosmological constant requires a sum over histories. In a previous paper the authors have considered the case where the path integral is over classical histories. In this paper we generalize the previous work by including non-perturbative contributions to the sum over histories. This involves introducing an entropy weight, which results in a sum over a space of solutions of the Wheeler-DeWitt equation with appropriate boundary conditions. We discuss the relationship between our results and the work of Vilenkin and Linde, and we consider some implications of our results for the measure problem in quantum cosmology.\n",
      "\n",
      "\n",
      "CLEANED The luminosity is estimated to be about 1035 erg s-1 assuming a distance of 7 kpc.\n",
      "\n",
      "RECLEANED This paper reports the discovery of a new bursting neutron star IGR J17254-3257. The source was discovered during the INTEGRAL observation of the highly obscured high-mass X-ray binary IGR J17254-3256. The X-ray pulsations with a period of 11.37 s were detected with the X-ray telescope on board INTEGRAL and confirmed by the Rossi X-ray Timing Explorer. The source is located in the Scutum arm of the Milky Way, at a distance of about 7 kpc. The long-term INTEGRAL monitoring shows that IGR J17254-3257 is a bursting source with a recurrence time of about 10 days. The spectral analysis in the energy range of 3–100 keV suggests that the emission is dominated by the thermal emission from the neutron star surface with a temperature of about 1.2 keV and a radius of about 12 km. The luminosity is estimated to be about 10^35 erg s^-1 assuming a distance of 7 kpc.\n",
      "\n",
      "\n",
      "CLEANED This article provides a comprehensive analysis of Mykyta the Fox and his significance in Ukrainian literature.\n",
      "\n",
      "RECLEANED Mykyta the Fox and networks of language explores how Mykyta the Fox functions as a literary character and as a node in a network of ideas in Ukrainian literature of the nineteenth century. This article argues that Mykyta the Fox is not only a trickster figure but also a symbol of Ukrainian national identity. The article traces the evolution of Mykyta the Fox from his origins in folklore to his appearances in the works of major Ukrainian writers such as Ivan Kotliarevsky, Taras Shevchenko, and Mykhailo Kotsiubynsky. Mykyta the Fox is a complex and multifaceted character who embodies both the strengths and weaknesses of the Ukrainian national character. His trickster nature allows him to outwit his enemies and survive in a hostile world, but it also leads him to make mistakes and to engage in destructive behavior. As a symbol of Ukrainian national identity, Mykyta the Fox represents the resilience and determination of the Ukrainian people. He is a reminder that even in the darkest of times, Ukrainians have always been able to find ways to laugh and to survive. Mykyta the Fox is a rich and rewarding character who offers insights into Ukrainian history, culture, and national identity. This article provides a comprehensive analysis of Mykyta the Fox and his significance in Ukrainian literature.\n"
     ]
    }
   ],
   "source": [
    "df_abstract_cleaned.index = df_abstract_cleaned.id\n",
    "for i in [2101, 2120, 2166, 2182]:\n",
    "    print(\"\\n\\nCLEANED\", df_abstract_cleaned.loc[i, \"direct_prompt\"])\n",
    "    print(\"\\nRECLEANED\", domain_dfs[\"arxiv\"].loc[i, \"direct_prompt\"])"
   ],
   "metadata": {
    "collapsed": false,
    "ExecuteTime": {
     "end_time": "2025-09-18T11:08:05.788130700Z",
     "start_time": "2025-09-18T11:08:05.386728300Z"
    }
   },
   "id": "1048c90d3dbcc8b0"
  },
  {
   "cell_type": "code",
   "execution_count": 24,
   "outputs": [],
   "source": [
    "path_writing = f'{RECLEANED_FILES_DIR}/writing_prompt_2800_recleaned.parquet'\n",
    "path_abstract = f'{RECLEANED_FILES_DIR}/arxiv_2800_recleaned.parquet'\n",
    "path_review = f'{RECLEANED_FILES_DIR}/yelp_review_2800_recleaned.parquet'\n",
    "path_xsum = f'{RECLEANED_FILES_DIR}/xsum_2800_recleaned.parquet'\n",
    "\n",
    "domain_dfs[\"writing_prompt\"].to_parquet(path_writing)\n",
    "domain_dfs[\"arxiv\"].to_parquet(path_abstract)\n",
    "domain_dfs[\"yelp_review\"].to_parquet(path_review)\n",
    "domain_dfs[\"xsum\"].to_parquet(path_xsum)"
   ],
   "metadata": {
    "collapsed": false,
    "ExecuteTime": {
     "end_time": "2025-09-18T11:09:03.690587800Z",
     "start_time": "2025-09-18T11:09:00.921416500Z"
    }
   },
   "id": "5ed2d2cefe578229"
  }
 ],
 "metadata": {
  "kernelspec": {
   "display_name": "Python 3",
   "language": "python",
   "name": "python3"
  },
  "language_info": {
   "codemirror_mode": {
    "name": "ipython",
    "version": 2
   },
   "file_extension": ".py",
   "mimetype": "text/x-python",
   "name": "python",
   "nbconvert_exporter": "python",
   "pygments_lexer": "ipython2",
   "version": "2.7.6"
  }
 },
 "nbformat": 4,
 "nbformat_minor": 5
}
