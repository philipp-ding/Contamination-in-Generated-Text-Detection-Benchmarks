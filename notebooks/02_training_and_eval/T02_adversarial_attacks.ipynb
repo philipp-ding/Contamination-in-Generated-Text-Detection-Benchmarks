{
 "cells": [
  {
   "cell_type": "markdown",
   "source": [
    "# 0. Setup"
   ],
   "metadata": {
    "collapsed": false
   },
   "id": "319f65fe11f6c526"
  },
  {
   "cell_type": "markdown",
   "source": [
    "## 0.0 imports"
   ],
   "metadata": {
    "collapsed": false
   },
   "id": "e68036cf48b465df"
  },
  {
   "cell_type": "code",
   "execution_count": 1,
   "id": "initial_id",
   "metadata": {
    "collapsed": true,
    "ExecuteTime": {
     "end_time": "2025-09-09T13:10:51.454084200Z",
     "start_time": "2025-09-09T13:10:43.577033400Z"
    }
   },
   "outputs": [
    {
     "name": "stderr",
     "output_type": "stream",
     "text": [
      "2025-09-09 13:10:49.323934: I tensorflow/core/util/port.cc:153] oneDNN custom operations are on. You may see slightly different numerical results due to floating-point round-off errors from different computation orders. To turn them off, set the environment variable `TF_ENABLE_ONEDNN_OPTS=0`.\n",
      "2025-09-09 13:10:49.342479: E external/local_xla/xla/stream_executor/cuda/cuda_fft.cc:467] Unable to register cuFFT factory: Attempting to register factory for plugin cuFFT when one has already been registered\n",
      "WARNING: All log messages before absl::InitializeLog() is called are written to STDERR\n",
      "E0000 00:00:1757423449.362017 2076975 cuda_dnn.cc:8579] Unable to register cuDNN factory: Attempting to register factory for plugin cuDNN when one has already been registered\n",
      "E0000 00:00:1757423449.368076 2076975 cuda_blas.cc:1407] Unable to register cuBLAS factory: Attempting to register factory for plugin cuBLAS when one has already been registered\n",
      "W0000 00:00:1757423449.382654 2076975 computation_placer.cc:177] computation placer already registered. Please check linkage and avoid linking the same target more than once.\n",
      "W0000 00:00:1757423449.382673 2076975 computation_placer.cc:177] computation placer already registered. Please check linkage and avoid linking the same target more than once.\n",
      "W0000 00:00:1757423449.382675 2076975 computation_placer.cc:177] computation placer already registered. Please check linkage and avoid linking the same target more than once.\n",
      "W0000 00:00:1757423449.382676 2076975 computation_placer.cc:177] computation placer already registered. Please check linkage and avoid linking the same target more than once.\n",
      "2025-09-09 13:10:49.390657: I tensorflow/core/platform/cpu_feature_guard.cc:210] This TensorFlow binary is optimized to use available CPU instructions in performance-critical operations.\n",
      "To enable the following instructions: AVX2 AVX512F AVX512_VNNI FMA, in other operations, rebuild TensorFlow with the appropriate compiler flags.\n"
     ]
    }
   ],
   "source": [
    "import os\n",
    "import pandas as pd\n",
    "import sys\n",
    "import transformers\n",
    "\n",
    "BASE_DIR = \"../../\"\n",
    "sys.path.append(BASE_DIR)\n",
    "\n",
    "from src.general_functions_and_patterns_for_detection import (\n",
    "    TrainRobertaHelper, TrainingDataHandler,\n",
    "    RESULT_DIR, REGEX_CLEANED_FILES, ORIGINAL_DATA_DIR,\n",
    "    seed_everything\n",
    ")\n",
    "\n",
    "SEED = 2023\n",
    "seed_everything(SEED)\n",
    "\n",
    "prepare_df_for_roberta_training = TrainRobertaHelper.prepare_df_for_roberta_training\n",
    "import DetectRL.Detectors.train_roberta as train_roberta"
   ]
  },
  {
   "cell_type": "code",
   "execution_count": 2,
   "outputs": [],
   "source": [
    "# TODO: adjust CUDA setup depending on your setup\n",
    "# Disable NCCL features incompatible with RTX 40xx\n",
    "os.environ[\"NCCL_P2P_DISABLE\"] = \"1\"\n",
    "os.environ[\"NCCL_IB_DISABLE\"] = \"1\"\n",
    "\n",
    "# Restrict to only GPU 0 (CUDA:0)\n",
    "os.environ[\"CUDA_VISIBLE_DEVICES\"] = \"0\""
   ],
   "metadata": {
    "collapsed": false,
    "ExecuteTime": {
     "end_time": "2025-09-09T13:10:51.455766200Z",
     "start_time": "2025-09-09T13:10:51.454084200Z"
    }
   },
   "id": "a6956259b0419b39"
  },
  {
   "cell_type": "code",
   "execution_count": 3,
   "outputs": [],
   "source": [
    "RESULT_DIR = os.path.join(RESULT_DIR, \"T02\")\n",
    "model_cleaned_dataset = f\"{RESULT_DIR}claude_direct_prompt_all_domains_multi_llm_cleaned\"\n",
    "model_uncleaned_dataset = f\"{RESULT_DIR}claude_direct_prompt_all_domains_multi_llm_not_cleaned\"\n",
    "os.makedirs(RESULT_DIR, exist_ok=True)"
   ],
   "metadata": {
    "collapsed": false,
    "ExecuteTime": {
     "end_time": "2025-09-09T13:10:51.455766200Z",
     "start_time": "2025-09-09T13:10:51.455766200Z"
    }
   },
   "id": "da649b282589c537"
  },
  {
   "cell_type": "markdown",
   "source": [
    "# 1. Train for Claude direct prompts"
   ],
   "metadata": {
    "collapsed": false
   },
   "id": "d4725b407b734745"
  },
  {
   "cell_type": "markdown",
   "source": [
    "## 1.0 Get data files"
   ],
   "metadata": {
    "collapsed": false
   },
   "id": "b9339ca6e31a3722"
  },
  {
   "cell_type": "code",
   "execution_count": 4,
   "outputs": [],
   "source": [
    "PROMPTS = [\"direct_prompt\"]\n",
    "_prompt_str = \"_\" + \"-\".join(PROMPTS)\n",
    "\n",
    "df_claude_cleaned, df_llama_cleaned, df_palm_cleaned, df_chatgpt_cleaned = \\\n",
    "    TrainingDataHandler.load_dataframes_all_llms_all_domains(REGEX_CLEANED_FILES,\n",
    "                                                             _suffix_path=\"_cleaned_all_v3.parquet\", prompts=PROMPTS,\n",
    "                                                             paraphrase_polish_human_as_ai=False)\n",
    "\n",
    "df_claude_nc, df_llama_nc, df_palm_nc, df_chatgpt_nc = \\\n",
    "    TrainingDataHandler.load_dataframes_all_llms_all_domains(ORIGINAL_DATA_DIR, _suffix_path=\".json\", prompts=PROMPTS,\n",
    "                                                             paraphrase_polish_human_as_ai=False)\n",
    "\n",
    "# evaluate\n",
    "# train using the cleaned domains and training structures\n",
    "train_df_claude, test_df_claude, adjusted_df_claude, sample_ids_claude = \\\n",
    "    TrainingDataHandler.split_training_data_frame_and_adjust_transfer_test_df(df_claude_cleaned, df_claude_nc, _seed=SEED)"
   ],
   "metadata": {
    "collapsed": false,
    "ExecuteTime": {
     "end_time": "2025-09-09T13:10:55.230972800Z",
     "start_time": "2025-09-09T13:10:51.455766200Z"
    }
   },
   "id": "524311468a6a9ddf"
  },
  {
   "cell_type": "markdown",
   "source": [
    "## 1.1 Using cleaned data"
   ],
   "metadata": {
    "collapsed": false
   },
   "id": "a55e2ba269305f8b"
  },
  {
   "cell_type": "code",
   "execution_count": 5,
   "outputs": [
    {
     "name": "stdout",
     "output_type": "stream",
     "text": [
      "(4448, 7) (1111, 7) (1120, 7)\n"
     ]
    },
    {
     "data": {
      "text/plain": "        id                                            context        llm_type  \\\n5577  2078  Barnes & Noble in Southpark is a great place t...  Claude-instant   \n5583  2084  So help me God, if I ever get married or have ...  Claude-instant   \n5584  2085  I drive out here for these reasons: nnI like m...  Claude-instant   \n5586  2087  While in Charlotte for business we ventured to...  Claude-instant   \n5593  2094                       Oh upstream how I love thee.  Claude-instant   \n\n                                                   text       domain label  \\\n5577  Here is a 17 sentence continuation of the revi...  yelp_review   llm   \n5583  Here are 23 additional sentences continuing th...  yelp_review   llm   \n5584  Here is a continued 13 sentence review based o...  yelp_review   llm   \n5586  Here is a continued 14 sentence review based o...  yelp_review   llm   \n5593  Here is a continued 20 sentence review based o...  yelp_review   llm   \n\n     llm_prompting_strategy  \n5577          direct_prompt  \n5583          direct_prompt  \n5584          direct_prompt  \n5586          direct_prompt  \n5593          direct_prompt  ",
      "text/html": "<div>\n<style scoped>\n    .dataframe tbody tr th:only-of-type {\n        vertical-align: middle;\n    }\n\n    .dataframe tbody tr th {\n        vertical-align: top;\n    }\n\n    .dataframe thead th {\n        text-align: right;\n    }\n</style>\n<table border=\"1\" class=\"dataframe\">\n  <thead>\n    <tr style=\"text-align: right;\">\n      <th></th>\n      <th>id</th>\n      <th>context</th>\n      <th>llm_type</th>\n      <th>text</th>\n      <th>domain</th>\n      <th>label</th>\n      <th>llm_prompting_strategy</th>\n    </tr>\n  </thead>\n  <tbody>\n    <tr>\n      <th>5577</th>\n      <td>2078</td>\n      <td>Barnes &amp; Noble in Southpark is a great place t...</td>\n      <td>Claude-instant</td>\n      <td>Here is a 17 sentence continuation of the revi...</td>\n      <td>yelp_review</td>\n      <td>llm</td>\n      <td>direct_prompt</td>\n    </tr>\n    <tr>\n      <th>5583</th>\n      <td>2084</td>\n      <td>So help me God, if I ever get married or have ...</td>\n      <td>Claude-instant</td>\n      <td>Here are 23 additional sentences continuing th...</td>\n      <td>yelp_review</td>\n      <td>llm</td>\n      <td>direct_prompt</td>\n    </tr>\n    <tr>\n      <th>5584</th>\n      <td>2085</td>\n      <td>I drive out here for these reasons: nnI like m...</td>\n      <td>Claude-instant</td>\n      <td>Here is a continued 13 sentence review based o...</td>\n      <td>yelp_review</td>\n      <td>llm</td>\n      <td>direct_prompt</td>\n    </tr>\n    <tr>\n      <th>5586</th>\n      <td>2087</td>\n      <td>While in Charlotte for business we ventured to...</td>\n      <td>Claude-instant</td>\n      <td>Here is a continued 14 sentence review based o...</td>\n      <td>yelp_review</td>\n      <td>llm</td>\n      <td>direct_prompt</td>\n    </tr>\n    <tr>\n      <th>5593</th>\n      <td>2094</td>\n      <td>Oh upstream how I love thee.</td>\n      <td>Claude-instant</td>\n      <td>Here is a continued 20 sentence review based o...</td>\n      <td>yelp_review</td>\n      <td>llm</td>\n      <td>direct_prompt</td>\n    </tr>\n  </tbody>\n</table>\n</div>"
     },
     "execution_count": 5,
     "metadata": {},
     "output_type": "execute_result"
    }
   ],
   "source": [
    "print(train_df_claude.shape, test_df_claude.shape, adjusted_df_claude.shape)\n",
    "adjusted_df_claude.tail()"
   ],
   "metadata": {
    "collapsed": false,
    "ExecuteTime": {
     "end_time": "2025-09-09T13:10:55.244720200Z",
     "start_time": "2025-09-09T13:10:55.230972800Z"
    }
   },
   "id": "5c17feba70601ac2"
  },
  {
   "cell_type": "code",
   "execution_count": 6,
   "outputs": [
    {
     "data": {
      "text/plain": "text\nOh upstream how I love thee. Your bright colors and flowing waters fill me with such joy. Every morning I awake eager to see what beauty you will bring. You never cease to amaze with your restless motion, now rushing quickly, now slowly winding your way. There is such peace to be found in your calming sound and flow.  All who live nearby are lucky indeed to have your catchy melodies as part of their everyday lives. Your banks are decorated with lovely wildflowers that wave happily in the breeze. Small creatures live along your edges, knowing you will provide for their needs. The trees that line you are always shady and refreshing. Birds sing joyously as they bathe in your refreshing waters. Their songs are like music to my ears each day. How magical it is to see the sunrise and sunset painted across your reflective surface. I never grow tired of watching you throughout the changing seasons. When summer is hot, your cool depths are so welcoming. In winter, you are transformed with beauty by ice that clings to your edges. Spring brings new life as your waters nourish the emerging plants and animals. Autumn colors are mirrored rippling on your face.  You give so much to all who live around you. We are grateful for your steady flow and the beauty, shelter and sustenance you provide. You are truly a gift that should never be taken for granted. I hope that for many years to come I will be able to enjoy your lovely visage and sounds. Thank you for the joy and peace you bring.                                                                                                                                                                                                                              1\nWe present a study of the distribution of AGN in clusters of galaxies with auniformly selected, spectroscopically complete sample of 35 AGN in eightclusters at z = 0.06 to 0.31. We find that the 12 AGN with L_X > 10^42 erg/s ingalaxies more luminous than a rest-frame M_R < -20 mag are more centrallyconcentrated than typical cluster galaxies of this luminosity, although theseAGN have comparable velocity and substructure distributions to other clustermembers. In contrast, a larger sample of 30 cluster AGN with L_X > 10^41 erg/sdo not show evidence for greater concentration than inactive members, norevidence for a different kinematic or substructure distribution. As we do seeclear differences in the spatial and kinematic distributions of the blueButcher-Oemler and red galaxy populations, any difference in the AGN andinactive galaxy population must be less distinct than that between these twopairs of populations. Comparison of the AGN fraction selected via X-rayemission in this study to similarly-selected AGN in the field indicates thatthe AGN fraction is not significantly lower in clusters, contrary to AGNidentified via visible-wavelength emission lines, but similar to theapproximately constant radio-selected AGN fraction in clusters and the field.We also find significant evidence for variation between clusters and explorethe dependence of cluster AGN fraction on redshift, velocity dispersion,cluster substructure, and Butcher-Oemler fraction. While we see weak evidencefor several trends, correlations between these four parameters in our smallsample precludes identification of which one(s) most strongly influence thecluster AGN fraction.                                                      1\nWe report the discovery of one of the most powerful sunquakes detected todate, produced by an X1.2-class solar flare in active region 10720 on 2005January 15. We used helioseismic holography to image the source of seismicwaves emitted into the solar interior from the site of the flare. Acousticegression power maps at 3 and 6 mHz with a 2 mHz bandpass reveal a compactacoustic source strongly correlated with impulsive hard X-ray andvisible-continuum emission along the penumbral neutral line separating the twomajor opposing umbrae in the $\\delta$-configuration sunspot that predominatesAR10720. The acoustic emission signatures were directly aligned with both hardX-ray and visible continuum emission that emanated during the flare. Thevisible continuum emission is estimated at $2.0 \\times 10^{23}$ J,approximately 500 times the seismic emission of $\\sim 4 \\times 10^{20}$ J. Theflare of 2005 January 15 exhibits the same close spatial alignment between thesources of the seismic emission and impulsive visible continuum emission asprevious flares, reinforcing the hypothesis that the acoustic emission may bedriven by heating of the low photosphere. However, it is a major exception inthat there was no signature to indicate the inclusion of protons in theparticle beams thought to supply the energy radiated by the flare. Thecontinued strong coincidence between the sources of seismic emission andimpulsive visible continuum emission in the case of a proton-deficientwhite-light flare lends substantial support to the ``back -- warming''hypothesis, that the low photosphere is significantly heated by intense Balmerand Paschen continuum-edge radiation from the overlying chromosphere inwhite-light flares.    1\nThe estimation of missing input vector elements in real time processingapplications requires a system that possesses the knowledge of certaincharacteristics such as correlations between variables, which are inherent inthe input space. Computational intelligence techniques and maximum likelihoodtechniques do possess such characteristics and as a result are important forimputation of missing data. This paper compares two approaches to the problemof missing data estimation. The first technique is based on the current stateof the art approach to this problem, that being the use of Maximum Likelihood(ML) and Expectation Maximisation (EM. The second approach is the use of asystem based on auto-associative neural networks and the Genetic Algorithm asdiscussed by Adbella and Marwala3. The estimation ability of both of thesetechniques is compared, based on three datasets and conclusions are made.                                                                                                                                                                                                                                                                                                                                                                                                                                                                                                                                                                                                                                                                                                                                                                                                                                               1\nWe present metallicities and their variations with different parameters for36 high-latitude fields covering Galactic longitudes 0<l<360. The metallicitiesfor relatively short vertical distances (z<2.5 kpc) show systematicfluctuations with Galactic longitude, similar to those of the thick-discscaleheight, which may be interpreted as indicating a common origin, viz., theflare effect of the disc. This suggestion is supported by the metallicityvariations which we find as functions of radial distance. The metallicityvariation at larger vertical distances (6.5<z<9.5 kpc) is small but monotonic.Three different vertical metallicity gradients could be detected:d[M/H]/dz=-0.22(+/-0.03), d[M/H]/dz=-0.38 (+/-0.06), and d[M/H]/dz=-0.08(+/-0.07) dex/kpc for the intervals z<3, 3<z<5, and 5<z<10 kpc, respectively.Since our data cover the whole Galactic longitude interval, the resultingmetallicity gradients can be interpreted as properties of the larger-scaleGalaxy. The first gradient confirms the dissipational formation of the disc atshort z-distances. The steeper gradient corresponds to the transition regionbetween different population components of the Galaxy, and finally, the lowestvalue provides an adequate description of the inner-halo metallicity gradient.                                                                                                                                                                                                                                                                                                                                                                                                                                                                 1\n                                                                                                                                                                                                                                                                                                                                                                                                                                                                                                                                                                                                                                                                                                                                                                                                                                                                                                                                                                                                                                                                                                                                                                                                                                                                                                                                                                                                                                                                                                                                                                                                                                                                                                                                                                                  ..\nA Suzaku observation of the nucleus of the radio-loud AGN Centaurus A in 2005has yielded a broadband spectrum spanning 0.3 to 250 keV. The net exposuretimes after screening were: 70 ks per X-ray Imaging Spectrometer (XIS) camera,60.8 ks for the Hard X-ray Detector (HXD) PIN, and 17.1 ks for the HXD-GSO. Thehard X-rays are fit by two power-laws of the same slope, absorbed by columns of1.5 and 7 * 10^{23} cm^{-2} respectively. The spectrum is consistent withprevious suggestions that the power-law components are X-ray emission from thesub-pc VLBI jet and from Bondi accretion at the core, but it is also consistentwith a partial covering interpretation. The soft band is dominated by thermalemission from the diffuse plasma and is fit well by a two-temperature VAPECmodel, plus a third power-law component to account for scattered nuclearemission, jet emission, and emission from X-ray Binaries and other pointsources. Narrow fluorescent emission lines from Fe, Si, S, Ar, Ca and Ni aredetected. The Fe K alpha line width yields a 200 light-day lower limit on thedistance from the black hole to the line-emitting gas. Fe, Ca, and S K-shellabsorption edges are detected. Elemental abundances are constrained viaabsorption edge depths and strengths of the fluorescent and diffuse plasmaemission lines. The high metallicity ([Fe/H]=+0.1) of the circumnuclearmaterial suggests that it could not have originated in the relativelymetal-poor outer halo unless enrichment by local star formation has occurred.Relative abundances are consistent with enrichment from Type II and Iasupernovae.                                                                                                                                  1\nTo enlighten the nature of the order-disorder and order-order transitions inblock copolymer melts confined in narrow capillaries we analyze peculiaritiesof the conventional Landau weak crystallization theory of systems confined tocylindrical geometry. This phenomenological approach provides a quantitativeclassification of the cylindrical ordered morphologies by expansion of theorder parameter spatial distribution into the eigenfunctions of the Laplaceoperator. The symmetry of the resulting ordered morphologies is shown tostrongly depend both on the boundary conditions (wall preference) and the ratioof the cylinder radius and the wave length of the critical order parameterfluctuations, which determine the bulk ordering of the system underconsideration. In particular, occurrence of the helical morphologies is arather general consequence of the imposed cylindrical symmetry for narrowenough capillaries. We discuss also the ODT and OOT involving some othersimplest morphologies. The presented results are relevant also to otherordering systems as charge-density waves appearing under addition of an ionicsolute to a solvent in its critical region, weakly charged polyelectrolytesolutions in poor solvent, microemulsions etc.                                                                                                                                                                                                                                                                                                                                                                                                                                                                                                  1\nPast work has shown that ions can pass through a membrane more readily in onedirection than the other. We demonstrate here in a model and an experiment thatfor a mixture of small and large particles such asymmetric diffusion can arisesolely from an asymmetry in the geometry of the pores of the membrane. Ourdeterministic simulation considers a two-dimensional gas of elastic disks oftwo sizes diffusing through a membrane, and our laboratory experiment examinesthe diffusion of glass beads of two sizes through a metal membrane. In bothexperiment and simulation, the membrane is permeable only to the smallerparticles, and the asymmetric pores lead to an asymmetry in the diffusion ratesof these particles. The presence of even a small percentage of large particlescan clog a membrane, preventing passage of the small particles in one directionwhile permitting free flow of the small particles in the other direction. Thepurely geometric kinetic constraints may play a role in common biologicalcontexts such as membrane ion channels.                                                                                                                                                                                                                                                                                                                                                                                                                                                                                                                                                                                                                                                                                                         1\nIn the collinear factorization of the form factor for the transition$\\gamma^* \\pi^0 \\to \\gamma$ the hard part contains double log terms as $\\ln^2x$ with $x$ as the momentum fraction of partons from 0 to 1. A simpleexponentiation for resummation leads to divergent results. We study theresummation of these $\\ln^2 x$ terms. We show that the $\\ln^2 x$ terms comepartly from the light-cone wave function(LCWF) and partly from the form factor.We introduce a jet factor to factorize the $\\ln^2 x$ term in the form factor.To handel the $\\ln^2 x$ terms from the LCWF we introduce a nonstandardlight-cone wave function(NLCWF) with the gauge links off the light-conedirection. An interesting relation between two wave function is found. With theintroduced NLCWF and the jet factor we can re-factorize the form factor andobtain a new hard part which does not contain terms with $\\ln^2 x$. Beside therenormalization scale $\\mu$ the introduce NLCWF and jet factor have extrascales to characterize their $x$-behaviors. Using the evolutions of the extrascales and the relation we can do the resummation perturbatively in sense thatthe LCWF is the only nonpertubative object in the resumed formula. Our resultswith some models of LCWF show that there is a significant difference betweennumerical predictions with the resummation and that without the resummation,and the resummed predictions can describe the experimental data.                                                                                                                                                                                                                                                                                                                1\nWe calculate next-to-leading-order (NLO) corrections to exclusive processesin $k_T$ factorization theorem, taking $\\pi\\gamma^*\\to\\gamma$ as an example.Partons off-shell by $k_T^2$ are considered in both the quark diagrams fromfull QCD and the effective diagrams for the pion wave function. The gaugedependences in the above two sets of diagrams cancel, when deriving the$k_T$-dependent hard kernel as their difference. The gauge invariance of thehard kernel is then proven to all orders by induction. The light-conesingularities in the $k_T$-dependent pion wave function are regularized byrotating the Wilson lines away from the light cone. This regularizationintroduces a factorization-scheme dependence into the hard kernel, which can beminimized in the standard way. Both the large double logarithms $\\ln^2k_T$ and$\\ln^2 x$, $x$ being a parton momentum fraction, arise from the loop correctionto the virtual photon vertex, the former being absorbed into the pion wavefunction and organized by the $k_T$ resummation, and the latter absorbed into ajet function and organized by the threshold resummation. The NLO correctionsare found to be only few-percent for $\\pi\\gamma^*\\to\\gamma$, if setting thefactorization scale to the momentum transfer from the virtual photon.                                                                                                                                                                                                                                                                                                                                                                                                                                                              1\nName: count, Length: 1111, dtype: int64"
     },
     "execution_count": 6,
     "metadata": {},
     "output_type": "execute_result"
    }
   ],
   "source": [
    "test_df_claude[\"text\"].value_counts(dropna=False)"
   ],
   "metadata": {
    "collapsed": false,
    "ExecuteTime": {
     "end_time": "2025-09-09T13:10:55.244720200Z",
     "start_time": "2025-09-09T13:10:55.244720200Z"
    }
   },
   "id": "726118e172c49415"
  },
  {
   "cell_type": "code",
   "execution_count": 7,
   "outputs": [
    {
     "data": {
      "text/plain": "text\nAs an AI language model, I am unable to engage with content that may violate my usage guidelines. To learn more, visit https://poe.com/usage_guidelines. As an AI language model, I am unable to engage with content that may violate my usage guidelines. To learn more, visit https://poe.com/usage_guidelines.                                                                                                                                                                                                                                                                                                                                                                                                                                                                                                                                                                                                                                                                                                                                                                                                                                                                                                                                                                                                                                                                                                                                                                                                                                                                                                                                                                                                                                                                                                                                                                                                                                                                                                                                                 8\nHere is a 34 sentence story based on the prompt:Bobby always kept a water bottle, knife, and a bit of whiskey in her bag. She never went anywhere without them. It started years ago, when Bobby was just a teenager. She had her first taste of freedom, exploring the nearby forest trails after school. One day, Bobby wandered farther than she ever had before. As the sun went down, she realized she was lost. With no water and night falling, panic started to set in. That's when she found an old hunting cabin. Bobby pounded on the door for help with no answer. Inside, she found a dusty bottle of water left behind. Bobby drank greedily, reviving herself. In a drawer, her hands closed around a serrated knife. Clutching her newfound supplies, Bobby searched outside for any clue to point her way home. The moon had risen by the time she spotted a broken tree branch she recognized. The next day, shaken but safe, Bobby restocked. She began carrying a water bottle, knife, and a small flask of whiskey \"just in case.\" Years passed, but the supplies stayed. In college, they comforted Bobby through late nights studying. After graduating, her city life left no time for nature. But the items were never far.One Saturday, Bobby felt the pull to explore again. Deep in an urban park, her foot twisted on an unseen root. As rain started to fall, her supplies were at hand. Back home by nightfall, Bobby's childhood fears surfaced anew. Carrying her trio wasn't about luck - it was about preparation. No matter how life changed, these simple items gave Bobby the freedom to wander and the confidence to survive whatever came her way. To this day, their familiar weight in her bag reminds Bobby of her independence and strength.                                                                                                                                                                                                                                                                          1\nHere is a 9 sentence story based on the prompt:For centuries, dwarves hid underground to escape the poisonous air above. Slowly, humanity's factories began trapping heat from the sun, sending temperatures rising all over the world. The warming kicked off reactions that dwarves' scientists could barely understand. Gases thickened in the air, and humanity fled on boats and rockets to escape an unliveable world. For the first time in a hundred years, a dwarf scout muscled open a hatch to the blasted surface. Where barren rock and fiery sun had been, now tall grasses swayed in a mild breeze under a blue sky. Trees dotted the landscape, their canopies waving in a cool wind. Flowers of every color spotting sprawling fields as far as the scout could see. \"The world is ours,\" she said in awe, breathing deeply of the fresh new air.                                                                                                                                                                                                                                                                                                                                                                                                                                                                                                                                                                                                                                                                                                                                                                                                                                                                                                                                                                                                                                                                                                                                                                                                1\nHere is a 23 sentence story based on the prompt:I had been feeling lonely for so long that when the mystical merchant appeared and offered me two wishes, I leapt at the chance. \"I wish to live forever, to never age or fall ill,\" I stated for my first wish. The merchant nodded, and with a wave of his hand, I felt a strange energy surge through my body. I would never know death. For my second wish, I hesitated...what if I couldn't find my soul mate in time? But I had all of eternity now, so I steeled my nerves and said \"I wish for my soul mate to also be granted immortality, so that we may have forever together.\" The merchant smiled knowingly and vanished. Now the search began. Decades passed as I explored the world, meeting countless people but feeling no spark of true connection. Centuries went by and I began to lose hope. But I had promised myself eternity, so I continued looking. And just as I was about to give up, in a small town in 21st century Ireland, our eyes met across a crowded bar. In that moment I knew - I had finally found them, my immortal partner for life. We had found each other, and now our forever could truly begin.                                                                                                                                                                                                                                                                                                                                                                                                                                                                                                                                                                                                                                                                                                                                                                                                                                                                    1\nHere is a 25 sentence story based on the prompt:It started like any other mundane Saturday morning at the grocery store. As I glanced at items lining the shelves, I saw their typical $0 resale values - who would want to resell a can of beans or packaged bread? But as I turned down the cereal aisle, I did a double take. The resale value of a box of corn flakes was $5! I rubbed my eyes and looked again - sure enough, it was still $5. Intrigued, I began examining more products. Peanut butter, canned soup, pasta - everything I saw had a resale value far more than usual. It was as if others suddenly saw value in these everyday groceries. I rushed through the rest of my shopping, curious to see if this was just a fluke of this particular store. But the trend continued at the next shop - even produce had inflated values.  By the afternoon, resale prices had only continued climbing. It was hard to find any item under $10. Panic started to set in as shoppers emptied shelves. I turned on the news hoping for an explanation but reports were as baffled as everyone else. The next day, resale values reached unprecedented highs. A loaf of bread was worth $50! By this point, resources were scarce as products disappeared off shelves.A week went by with no answers. Bartering replaced traditional shopping as people traded goods worth fortunes. The inflated resale values showed no sign of slowing. Generators and non-perishable food became the new currency. I began to worry how much longer society could last like this. Then, just as suddenly as it started, the resale prices began falling again. Within a couple days, values returned to normal levels. The crisis was over but no one knew what had caused the strange phenomenon. My power had provided a window into the chaos, though the reason remained a mystery.                                                                                                                                                                          1\n                                                                                                                                                                                                                                                                                                                                                                                                                                                                                                                                                                                                                                                                                                                                                                                                                                                                                                                                                                                                                                                                                                                                                                                                                                                                                                                                                                                                                                                                                                                                                                                                                                                                                                                                                                                                                                                                                                                                                                                                                                                                 ..\nShe has replaced Gruffalo author Julia Donaldson and was presented with a medal at a ceremony at King's Place in central London.Malorie has made it clear that she wants to get \"more children reading more\", calling on teachers and parents to spend at least ten minutes a day reading with kids.The author said: \"I am honoured to have been chosen as the eighth Children's Laureate.\"A love of books has opened so many doors for me.\"I hope to instil in every child I meet my love and enthusiasm for reading and stories.\"As I would never have become an author if it hadn't been for my local library as a child, I intend to continue Julia Donaldson's amazing work advocating for our nation's public library service.\"Malorie says she wants to \"make reading irresistible\" for children, by encouraging kids to explore a range of literature, from short stories to graphic novels.She will also be encouraging kids to make their own creative responses to books, including with music.                                                                                                                                                                                                                                                                                                                                                                                                                                                                                                                                                                                                                                                                                                                                                                                                                                                                                                                                                                                                                                                        1\nGM is investing $500m (Â£340m) in Lyft as part of a $1bn fund raising initiative and will take a seat on the San Francisco-based company's board.\"We see the future of personal mobility as connected, seamless and autonomous,\" said GM president Dan Ammann.Lyft president John Zimmer said his company shared the same vision.A number of technology companies, most prominently Google, are looking at developing driverless cars. Reports suggest Apple is also building prototypes of what are called autonomous cars in the US.But established carmakers are also in the race, with Daimler, Tesla and others investing in the concept.The tie-up will focus on two main areas. The first is the \"joint development of a network of on-demand autonomous vehicles\".Mr Ammann said that \"with GM and Lyft working together, we believe we can successfully implement this vision more rapidly\".\"We see the world of mobility changing more in the next five years than it has in the last 50.\"The second is giving Lyft drivers easy access to renting GM cars.Despite various companies' best efforts to develop driverless cars, there remain many barriers to widespread adoption, critics argue.Quite apart from the technology challenges, which may in time be overcome, there are regulatory issues based on ethical arguments and insurance considerations based on questions of responsibility.                                                                                                                                                                                                                                                                                                                                                                                                                                                                                                                                                                                                                                                    1\nThe Stuttgart event starts two days before the Russian's 15-month doping ban ends and she will not be allowed to attend until the day of her match.\"Obviously rules are twisted and turned in favour of who wants to do what,\" Dane Wozniacki, 26, said.Sharapova, whose main sponsor is Porsche, has won the event three times.\"I think everyone deserves a second chance... but at the same time, I feel like when a player is banned for drugs, I think that someone should start from the bottom and fight their way back,\" world number 14 Wozniacki said.Five-times Grand Slam winner Sharapova will return to tennis on 26 April without a ranking after serving her suspension for testing positive for meldonium.The 29-year-old was given a two-year ban in March 2016 but her suspension was then reduced in October following an appeal.She has also been given wildcards for May's tournaments in Madrid and Rome.Wozniacki said Sharapova should not be allowed to compete at Stuttgart because she is still banned when it begins on 24 April.\"I think it's very questionable allowing - no matter who it is - a player that is still banned to play a tournament that week,\" she said.\"From the tournament side, it's disrespectful to the other players and the WTA.\"Wozniaki was speaking after a 6-3 6-0 win over Polish qualifier Magda Linette in the second round of the BNP Paribas Open at Indian Wells.The Dane's comments echo those of men's world number one Andy Murray who said wildcards should not be given to players returning from doping bans.Earlier this week, US Open champion Angelique Kerber said it was \"a little bit strange for the other players that somebody can just walk on site Wednesday and play Wednesday\".However, Romanian world number four Simona Halep thinks Sharapova's past achievements justify the wildcards.\"She was number one in the world and won Grand Slam titles,\" Halep, 25, said on Thursday. \"But even without wildcards she could come back easily. Her return is good for tennis.\"    1\nThe 33-year-old was not in Chris Coleman's squad for the opening World Cup qualifier against Moldova in September.The Nottingham Forest midfielder won 42 caps after making his Wales debut against the United States in 2003, scoring once.\"Vaughny sat down with me when he got back from France and explained he was going to retire,\" Coleman said,\"I tried to talk him out of because he's been with us for so long and he's got good quality.\"But he wants to spend more time with his family and concentrate on his club career, and we've got to respect that. He's been a great servant for Wales.\"Vaughan was the longest-serving Wales player in their squad that reached the Euro 2016 semi-final although Vaughan remained an unused substitute throughout the campaign.The Abergele-born player started his career at Crewe Alexandra and has also played for Real Sociedad, Blackpool and Sunderland.                                                                                                                                                                                                                                                                                                                                                                                                                                                                                                                                                                                                                                                                                                                                                                                                                                                                                                                                                                                                                                                                                                                                              1\nMedia playback is not supported on this deviceThis weekend Wales play in the second round of the World League tournament for the first time.A top-two finish in the eight-team tournament would lift them up the rankings and give them a chance of a first World Cup appearance.\"We've had sides in the past who've been top five or six in Europe,\" Jones told BBC Wales Sport.He continued: \"This group has the potential to be that too.\"A lot of them have played in the top division at under-21 level, against the likes of Holland and Germany. That's where we aspire to be.\"If we can get there, this group would be up there with the best sides Wales have ever produced.\"The World League is a series of tournaments held over a two-year period with the latest edition running from Saturday 11 to Sunday 19 March in Belfast.Wales - currently ranked 16th in Europe - are in the same group as France, Poland and Scotland.The final group standings decide the knockout fixtures and the two teams who reach the final will go through to the next round of the World League in London in June.\"Most of the teams [who will be in Belfast] we've played in the past year and beaten,\" said defender Dan Kyriakides.The Cardiff & Met player was recently called up to the GB setup and is aiming to become the first Welsh male hockey player to go to an Olympics since 2000.\"We're much fitter now, much stronger, and we're aiming high,\" he continued.\"We've got an exciting period coming up with the World League, European Championships and hopefully Commonwealth Games.\"So we're getting much better.\"Wales's first match is against Poland on Saturday at 12:45 GMT.                                                                                                                                                                                                                                                                                                                                                                 1\nName: count, Length: 1113, dtype: int64"
     },
     "execution_count": 7,
     "metadata": {},
     "output_type": "execute_result"
    }
   ],
   "source": [
    "adjusted_df_claude[\"text\"].value_counts(dropna=False)"
   ],
   "metadata": {
    "collapsed": false,
    "ExecuteTime": {
     "end_time": "2025-09-09T13:10:55.244720200Z",
     "start_time": "2025-09-09T13:10:55.244720200Z"
    }
   },
   "id": "f84dc4f1afb7f197"
  },
  {
   "cell_type": "code",
   "execution_count": 8,
   "outputs": [
    {
     "data": {
      "text/plain": "label\nhuman    560\nllm      560\nName: count, dtype: int64"
     },
     "execution_count": 8,
     "metadata": {},
     "output_type": "execute_result"
    }
   ],
   "source": [
    "adjusted_df_claude[adjusted_df_claude[\"llm_prompting_strategy\"] == \"direct_prompt\"].label.value_counts()"
   ],
   "metadata": {
    "collapsed": false,
    "ExecuteTime": {
     "end_time": "2025-09-09T13:10:55.244720200Z",
     "start_time": "2025-09-09T13:10:55.244720200Z"
    }
   },
   "id": "2e13ef7e1ff9a0e4"
  },
  {
   "cell_type": "code",
   "execution_count": 9,
   "outputs": [
    {
     "name": "stderr",
     "output_type": "stream",
     "text": [
      "/mnt/hdd-baracuda/pdingfelder/mt_philipp_dingfelder_generated_text_detection/.venv/lib/python3.12/site-packages/torch/nn/modules/module.py:1762: FutureWarning: `encoder_attention_mask` is deprecated and will be removed in version 4.55.0 for `RobertaSdpaSelfAttention.forward`.\n",
      "  return forward_call(*args, **kwargs)\n"
     ]
    },
    {
     "name": "stdout",
     "output_type": "stream",
     "text": [
      "{'eval_loss': 0.2446754425764084, 'eval_accuracy': 0.9399092970521542, 'eval_f1': 0.9399092970521542, 'eval_precision': 0.9399092970521542, 'eval_recall': 0.9399092970521542, 'eval_runtime': 8.2968, 'eval_samples_per_second': 106.306, 'eval_steps_per_second': 13.379, 'epoch': 1.0}\n"
     ]
    },
    {
     "name": "stderr",
     "output_type": "stream",
     "text": [
      "/mnt/hdd-baracuda/pdingfelder/mt_philipp_dingfelder_generated_text_detection/.venv/lib/python3.12/site-packages/torch/nn/modules/module.py:1762: FutureWarning: `encoder_attention_mask` is deprecated and will be removed in version 4.55.0 for `RobertaSdpaSelfAttention.forward`.\n",
      "  return forward_call(*args, **kwargs)\n"
     ]
    },
    {
     "name": "stdout",
     "output_type": "stream",
     "text": [
      "{'loss': 0.527, 'grad_norm': 27.198169708251953, 'learning_rate': 6.270553064275037e-07, 'epoch': 1.1210762331838564}\n",
      "{'eval_loss': 0.15168491005897522, 'eval_accuracy': 0.9569160997732427, 'eval_f1': 0.9569160997732427, 'eval_precision': 0.9569160997732427, 'eval_recall': 0.9569160997732427, 'eval_runtime': 8.2902, 'eval_samples_per_second': 106.391, 'eval_steps_per_second': 13.389, 'epoch': 2.0}\n"
     ]
    },
    {
     "name": "stderr",
     "output_type": "stream",
     "text": [
      "/mnt/hdd-baracuda/pdingfelder/mt_philipp_dingfelder_generated_text_detection/.venv/lib/python3.12/site-packages/torch/nn/modules/module.py:1762: FutureWarning: `encoder_attention_mask` is deprecated and will be removed in version 4.55.0 for `RobertaSdpaSelfAttention.forward`.\n",
      "  return forward_call(*args, **kwargs)\n"
     ]
    },
    {
     "name": "stdout",
     "output_type": "stream",
     "text": [
      "{'loss': 0.0796, 'grad_norm': 1.5711628198623657, 'learning_rate': 2.533632286995516e-07, 'epoch': 2.242152466367713}\n",
      "{'eval_loss': 0.15191736817359924, 'eval_accuracy': 0.9591836734693877, 'eval_f1': 0.9591836734693877, 'eval_precision': 0.9591836734693877, 'eval_recall': 0.9591836734693877, 'eval_runtime': 8.284, 'eval_samples_per_second': 106.47, 'eval_steps_per_second': 13.399, 'epoch': 3.0}\n",
      "{'train_runtime': 385.0437, 'train_samples_per_second': 27.784, 'train_steps_per_second': 3.475, 'train_loss': 0.24019161218663146, 'epoch': 3.0}\n"
     ]
    },
    {
     "name": "stderr",
     "output_type": "stream",
     "text": [
      "/mnt/hdd-baracuda/pdingfelder/mt_philipp_dingfelder_generated_text_detection/.venv/lib/python3.12/site-packages/torch/nn/modules/module.py:1762: FutureWarning: `encoder_attention_mask` is deprecated and will be removed in version 4.55.0 for `RobertaSdpaSelfAttention.forward`.\n",
      "  return forward_call(*args, **kwargs)\n"
     ]
    },
    {
     "name": "stdout",
     "output_type": "stream",
     "text": [
      "{'eval_loss': 0.15191736817359924, 'eval_accuracy': 0.9591836734693877, 'eval_f1': 0.9591836734693877, 'eval_precision': 0.9591836734693877, 'eval_recall': 0.9591836734693877, 'eval_runtime': 8.2863, 'eval_samples_per_second': 106.441, 'eval_steps_per_second': 13.396, 'epoch': 3.0}\n"
     ]
    },
    {
     "name": "stderr",
     "output_type": "stream",
     "text": [
      "/mnt/hdd-baracuda/pdingfelder/mt_philipp_dingfelder_generated_text_detection/.venv/lib/python3.12/site-packages/torch/nn/modules/module.py:1762: FutureWarning: `encoder_attention_mask` is deprecated and will be removed in version 4.55.0 for `RobertaSdpaSelfAttention.forward`.\n",
      "  return forward_call(*args, **kwargs)\n",
      "/mnt/hdd-baracuda/pdingfelder/mt_philipp_dingfelder_generated_text_detection/.venv/lib/python3.12/site-packages/torch/nn/modules/module.py:1762: FutureWarning: `encoder_attention_mask` is deprecated and will be removed in version 4.55.0 for `RobertaSdpaSelfAttention.forward`.\n",
      "  return forward_call(*args, **kwargs)\n"
     ]
    },
    {
     "data": {
      "text/plain": "                                                     roc_auc  \\\n2be8f87f817457a355cb9f0daccd9c9429c1a8e21304fea...  0.996429   \n\n                                                   optimal_threshold  \\\n2be8f87f817457a355cb9f0daccd9c9429c1a8e21304fea...          -0.06589   \n\n                                                              conf_matrix  \\\n2be8f87f817457a355cb9f0daccd9c9429c1a8e21304fea...  [[547, 13], [4, 547]]   \n\n                                                   precision   recall  \\\n2be8f87f817457a355cb9f0daccd9c9429c1a8e21304fea...  0.976786  0.99274   \n\n                                                          f1  accuracy  \\\n2be8f87f817457a355cb9f0daccd9c9429c1a8e21304fea...  0.984698  0.984698   \n\n                                                   tpr_at_fpr_0_01  \n2be8f87f817457a355cb9f0daccd9c9429c1a8e21304fea...        0.009074  ",
      "text/html": "<div>\n<style scoped>\n    .dataframe tbody tr th:only-of-type {\n        vertical-align: middle;\n    }\n\n    .dataframe tbody tr th {\n        vertical-align: top;\n    }\n\n    .dataframe thead th {\n        text-align: right;\n    }\n</style>\n<table border=\"1\" class=\"dataframe\">\n  <thead>\n    <tr style=\"text-align: right;\">\n      <th></th>\n      <th>roc_auc</th>\n      <th>optimal_threshold</th>\n      <th>conf_matrix</th>\n      <th>precision</th>\n      <th>recall</th>\n      <th>f1</th>\n      <th>accuracy</th>\n      <th>tpr_at_fpr_0_01</th>\n    </tr>\n  </thead>\n  <tbody>\n    <tr>\n      <th>2be8f87f817457a355cb9f0daccd9c9429c1a8e21304fea208bdf18da1187297_train</th>\n      <td>0.996429</td>\n      <td>-0.06589</td>\n      <td>[[547, 13], [4, 547]]</td>\n      <td>0.976786</td>\n      <td>0.99274</td>\n      <td>0.984698</td>\n      <td>0.984698</td>\n      <td>0.009074</td>\n    </tr>\n  </tbody>\n</table>\n</div>"
     },
     "execution_count": 9,
     "metadata": {},
     "output_type": "execute_result"
    }
   ],
   "source": [
    "args = train_roberta.generate_args_for_training_roberta(\n",
    "    train_df=train_df_claude, test_df=test_df_claude, transfer_df=[test_df_claude],\n",
    "    save_model_path=model_cleaned_dataset, seed=SEED\n",
    ")\n",
    "results_cleaned_train = train_roberta.run(args)\n",
    "df_cleaned_train = pd.DataFrame(results_cleaned_train).T\n",
    "df_cleaned_train.to_csv(f\"{RESULT_DIR}/claude_trained_cleaned_samples_results{_prompt_str}.csv\")\n",
    "df_cleaned_train"
   ],
   "metadata": {
    "collapsed": false,
    "ExecuteTime": {
     "end_time": "2025-09-09T13:18:27.159531800Z",
     "start_time": "2025-09-09T13:10:55.244720200Z"
    }
   },
   "id": "27100dba08bf175c"
  },
  {
   "cell_type": "markdown",
   "source": [
    "## 1.2 Using original data"
   ],
   "metadata": {
    "collapsed": false
   },
   "id": "fa5b86d788074040"
  },
  {
   "cell_type": "code",
   "execution_count": 10,
   "outputs": [],
   "source": [
    "# train using the uncleaned domains and training structures\n",
    "# evaluate\n",
    "train_df_claude_nc, test_df_claude_nc, adjusted_df_claude_cleaned, sample_ids_claude_nc = \\\n",
    "    TrainingDataHandler.split_training_data_frame_and_adjust_transfer_test_df(df_claude_nc, df_claude_cleaned, _seed=SEED)\n",
    "\n",
    "args = train_roberta.generate_args_for_training_roberta(\n",
    "    train_df=train_df_claude_nc, test_df=test_df_claude_nc, transfer_df=[adjusted_df_claude_cleaned],\n",
    "    save_model_path=model_uncleaned_dataset, seed=SEED\n",
    ")"
   ],
   "metadata": {
    "collapsed": false,
    "ExecuteTime": {
     "end_time": "2025-09-09T13:18:27.159531800Z",
     "start_time": "2025-09-09T13:18:27.143823200Z"
    }
   },
   "id": "e0b3719d9eea152d"
  },
  {
   "cell_type": "code",
   "execution_count": 11,
   "outputs": [
    {
     "name": "stderr",
     "output_type": "stream",
     "text": [
      "/mnt/hdd-baracuda/pdingfelder/mt_philipp_dingfelder_generated_text_detection/.venv/lib/python3.12/site-packages/torch/nn/modules/module.py:1762: FutureWarning: `encoder_attention_mask` is deprecated and will be removed in version 4.55.0 for `RobertaSdpaSelfAttention.forward`.\n",
      "  return forward_call(*args, **kwargs)\n"
     ]
    },
    {
     "name": "stdout",
     "output_type": "stream",
     "text": [
      "{'eval_loss': 0.1766575127840042, 'eval_accuracy': 0.9866071428571429, 'eval_f1': 0.9866071428571429, 'eval_precision': 0.9866071428571429, 'eval_recall': 0.9866071428571429, 'eval_runtime': 8.5029, 'eval_samples_per_second': 105.376, 'eval_steps_per_second': 13.172, 'epoch': 1.0}\n"
     ]
    },
    {
     "name": "stderr",
     "output_type": "stream",
     "text": [
      "/mnt/hdd-baracuda/pdingfelder/mt_philipp_dingfelder_generated_text_detection/.venv/lib/python3.12/site-packages/torch/nn/modules/module.py:1762: FutureWarning: `encoder_attention_mask` is deprecated and will be removed in version 4.55.0 for `RobertaSdpaSelfAttention.forward`.\n",
      "  return forward_call(*args, **kwargs)\n"
     ]
    },
    {
     "name": "stdout",
     "output_type": "stream",
     "text": [
      "{'loss': 0.5312, 'grad_norm': 4.64056396484375, 'learning_rate': 6.287202380952381e-07, 'epoch': 1.1160714285714286}\n",
      "{'eval_loss': 0.008780060335993767, 'eval_accuracy': 0.9988839285714286, 'eval_f1': 0.9988839285714286, 'eval_precision': 0.9988839285714286, 'eval_recall': 0.9988839285714286, 'eval_runtime': 8.4868, 'eval_samples_per_second': 105.575, 'eval_steps_per_second': 13.197, 'epoch': 2.0}\n"
     ]
    },
    {
     "name": "stderr",
     "output_type": "stream",
     "text": [
      "/mnt/hdd-baracuda/pdingfelder/mt_philipp_dingfelder_generated_text_detection/.venv/lib/python3.12/site-packages/torch/nn/modules/module.py:1762: FutureWarning: `encoder_attention_mask` is deprecated and will be removed in version 4.55.0 for `RobertaSdpaSelfAttention.forward`.\n",
      "  return forward_call(*args, **kwargs)\n"
     ]
    },
    {
     "name": "stdout",
     "output_type": "stream",
     "text": [
      "{'loss': 0.0302, 'grad_norm': 0.6168240904808044, 'learning_rate': 2.566964285714285e-07, 'epoch': 2.232142857142857}\n",
      "{'eval_loss': 0.007081814110279083, 'eval_accuracy': 0.9988839285714286, 'eval_f1': 0.9988839285714286, 'eval_precision': 0.9988839285714286, 'eval_recall': 0.9988839285714286, 'eval_runtime': 8.4895, 'eval_samples_per_second': 105.542, 'eval_steps_per_second': 13.193, 'epoch': 3.0}\n",
      "{'train_runtime': 389.4598, 'train_samples_per_second': 27.607, 'train_steps_per_second': 3.451, 'train_loss': 0.21249082258769444, 'epoch': 3.0}\n"
     ]
    },
    {
     "name": "stderr",
     "output_type": "stream",
     "text": [
      "/mnt/hdd-baracuda/pdingfelder/mt_philipp_dingfelder_generated_text_detection/.venv/lib/python3.12/site-packages/torch/nn/modules/module.py:1762: FutureWarning: `encoder_attention_mask` is deprecated and will be removed in version 4.55.0 for `RobertaSdpaSelfAttention.forward`.\n",
      "  return forward_call(*args, **kwargs)\n"
     ]
    },
    {
     "name": "stdout",
     "output_type": "stream",
     "text": [
      "{'eval_loss': 0.007081814110279083, 'eval_accuracy': 0.9988839285714286, 'eval_f1': 0.9988839285714286, 'eval_precision': 0.9988839285714286, 'eval_recall': 0.9988839285714286, 'eval_runtime': 8.4804, 'eval_samples_per_second': 105.656, 'eval_steps_per_second': 13.207, 'epoch': 3.0}\n"
     ]
    },
    {
     "name": "stderr",
     "output_type": "stream",
     "text": [
      "/mnt/hdd-baracuda/pdingfelder/mt_philipp_dingfelder_generated_text_detection/.venv/lib/python3.12/site-packages/torch/nn/modules/module.py:1762: FutureWarning: `encoder_attention_mask` is deprecated and will be removed in version 4.55.0 for `RobertaSdpaSelfAttention.forward`.\n",
      "  return forward_call(*args, **kwargs)\n",
      "/mnt/hdd-baracuda/pdingfelder/mt_philipp_dingfelder_generated_text_detection/.venv/lib/python3.12/site-packages/torch/nn/modules/module.py:1762: FutureWarning: `encoder_attention_mask` is deprecated and will be removed in version 4.55.0 for `RobertaSdpaSelfAttention.forward`.\n",
      "  return forward_call(*args, **kwargs)\n"
     ]
    },
    {
     "data": {
      "text/plain": "                                                     roc_auc  \\\n2be8f87f817457a355cb9f0daccd9c9429c1a8e21304fea...  0.996429   \n\n                                                   optimal_threshold  \\\n2be8f87f817457a355cb9f0daccd9c9429c1a8e21304fea...         -0.993189   \n\n                                                              conf_matrix  \\\n2be8f87f817457a355cb9f0daccd9c9429c1a8e21304fea...  [[539, 21], [4, 547]]   \n\n                                                   precision   recall  \\\n2be8f87f817457a355cb9f0daccd9c9429c1a8e21304fea...  0.963028  0.99274   \n\n                                                          f1  accuracy  \\\n2be8f87f817457a355cb9f0daccd9c9429c1a8e21304fea...  0.977659  0.977498   \n\n                                                   tpr_at_fpr_0_01  \n2be8f87f817457a355cb9f0daccd9c9429c1a8e21304fea...        0.551724  ",
      "text/html": "<div>\n<style scoped>\n    .dataframe tbody tr th:only-of-type {\n        vertical-align: middle;\n    }\n\n    .dataframe tbody tr th {\n        vertical-align: top;\n    }\n\n    .dataframe thead th {\n        text-align: right;\n    }\n</style>\n<table border=\"1\" class=\"dataframe\">\n  <thead>\n    <tr style=\"text-align: right;\">\n      <th></th>\n      <th>roc_auc</th>\n      <th>optimal_threshold</th>\n      <th>conf_matrix</th>\n      <th>precision</th>\n      <th>recall</th>\n      <th>f1</th>\n      <th>accuracy</th>\n      <th>tpr_at_fpr_0_01</th>\n    </tr>\n  </thead>\n  <tbody>\n    <tr>\n      <th>2be8f87f817457a355cb9f0daccd9c9429c1a8e21304fea208bdf18da1187297_train</th>\n      <td>0.996429</td>\n      <td>-0.993189</td>\n      <td>[[539, 21], [4, 547]]</td>\n      <td>0.963028</td>\n      <td>0.99274</td>\n      <td>0.977659</td>\n      <td>0.977498</td>\n      <td>0.551724</td>\n    </tr>\n  </tbody>\n</table>\n</div>"
     },
     "execution_count": 11,
     "metadata": {},
     "output_type": "execute_result"
    }
   ],
   "source": [
    "results_cleaned_train = train_roberta.run(args)\n",
    "df_not_cleaned_train = pd.DataFrame(results_cleaned_train).T\n",
    "df_not_cleaned_train.to_csv(f\"{RESULT_DIR}/claude_trained_original_samples_results{_prompt_str}.csv\")\n",
    "df_not_cleaned_train"
   ],
   "metadata": {
    "collapsed": false,
    "ExecuteTime": {
     "end_time": "2025-09-09T13:26:06.285434800Z",
     "start_time": "2025-09-09T13:18:27.143823200Z"
    }
   },
   "id": "847634152b864dee"
  },
  {
   "cell_type": "markdown",
   "source": [
    "# 2. \"Attack\" the models (adversarial attacks)"
   ],
   "metadata": {
    "collapsed": false
   },
   "id": "41679d719edb95e3"
  },
  {
   "cell_type": "code",
   "execution_count": 12,
   "outputs": [
    {
     "data": {
      "text/plain": "'We present a study of the distribution of AGN in clusters of galaxies with auniformly selected, spectroscopically complete sample of 35 AGN in eightclusters at z = 0.06 to 0.31. We find that the 12 AGN with L_X > 10^42 erg/s ingalaxies more luminous than a rest-frame M_R < -20 mag are more centrallyconcentrated than typical cluster galaxies of this luminosity, although theseAGN have comparable velocity and substructure distributions to other clustermembers. In contrast, a larger sample of 30 cluster AGN with L_X > 10^41 erg/sdo not show evidence for greater concentration than inactive members, norevidence for a different kinematic or substructure distribution. As we do seeclear differences in the spatial and kinematic distributions of the blueButcher-Oemler and red galaxy populations, any difference in the AGN andinactive galaxy population must be less distinct than that between these twopairs of populations. Comparison of the AGN fraction selected via X-rayemission in this study to similarly-selected AGN in the field indicates thatthe AGN fraction is not significantly lower in clusters, contrary to AGNidentified via visible-wavelength emission lines, but similar to theapproximately constant radio-selected AGN fraction in clusters and the field.We also find significant evidence for variation between clusters and explorethe dependence of cluster AGN fraction on redshift, velocity dispersion,cluster substructure, and Butcher-Oemler fraction. While we see weak evidencefor several trends, correlations between these four parameters in our smallsample precludes identification of which one(s) most strongly influence thecluster AGN fraction.'"
     },
     "execution_count": 12,
     "metadata": {},
     "output_type": "execute_result"
    }
   ],
   "source": [
    "test_df_human = test_df_claude[test_df_claude[\"label\"] == \"human\"]\n",
    "example_human_cleaned = test_df_human.iloc[0].text\n",
    "example_human_cleaned"
   ],
   "metadata": {
    "collapsed": false,
    "ExecuteTime": {
     "end_time": "2025-09-09T13:26:06.302297100Z",
     "start_time": "2025-09-09T13:26:06.285434800Z"
    }
   },
   "id": "6a0cb6bda975a000"
  },
  {
   "cell_type": "code",
   "execution_count": 13,
   "outputs": [
    {
     "data": {
      "text/plain": "('Here is a 6 sentence abstract for the article title \"The Distribution of AGN in Clusters of Galaxies\":Active galactic nuclei (AGN) are found throughout the universe, however their distribution within galaxy clusters is not well understood. This study analyzes observational data from X-ray and radio surveys to identify AGN located within hundreds of galaxy clusters. The positions and luminosities of detected AGN are compared to properties of their host clusters such as galaxy number, mass, and spatial distribution. Preliminary results suggest that brighter AGN prefer clusters with fewer member galaxies and lower masses. Further analysis is needed to better understand whether cluster environment plays a role in triggering or suppressing AGN activity. This work aims to provide new insights into the connection between galaxy cluster evolution and growth of supermassive black holes.',\n 'Active galactic nuclei (AGN) are found throughout the universe, however their distribution within galaxy clusters is not well understood. This study analyzes observational data from X-ray and radio surveys to identify AGN located within hundreds of galaxy clusters. The positions and luminosities of detected AGN are compared to properties of their host clusters such as galaxy number, mass, and spatial distribution. Preliminary results suggest that brighter AGN prefer clusters with fewer member galaxies and lower masses. Further analysis is needed to better understand whether cluster environment plays a role in triggering or suppressing AGN activity. This work aims to provide new insights into the connection between galaxy cluster evolution and growth of supermassive black holes.')"
     },
     "execution_count": 13,
     "metadata": {},
     "output_type": "execute_result"
    }
   ],
   "source": [
    "# direct prompt, claude contaminated, id 1401\n",
    "test_df_llm = test_df_claude[test_df_claude[\"label\"] == \"llm\"]\n",
    "example_llm_cleaned = test_df_llm.iloc[0].text\n",
    "\n",
    "test_df_llm_nc = test_df_claude_nc[test_df_claude_nc[\"label\"] == \"llm\"]\n",
    "example_llm_not_cleaned = test_df_llm_nc.iloc[0].text\n",
    "\n",
    "example_llm_not_cleaned, example_llm_cleaned"
   ],
   "metadata": {
    "collapsed": false,
    "ExecuteTime": {
     "end_time": "2025-09-09T13:26:06.316991900Z",
     "start_time": "2025-09-09T13:26:06.285434800Z"
    }
   },
   "id": "5be260d052436e59"
  },
  {
   "cell_type": "code",
   "execution_count": 14,
   "outputs": [
    {
     "name": "stderr",
     "output_type": "stream",
     "text": [
      "/mnt/hdd-baracuda/pdingfelder/mt_philipp_dingfelder_generated_text_detection/.venv/lib/python3.12/site-packages/torch/nn/modules/module.py:1762: FutureWarning: `encoder_attention_mask` is deprecated and will be removed in version 4.55.0 for `RobertaSdpaSelfAttention.forward`.\n",
      "  return forward_call(*args, **kwargs)\n"
     ]
    },
    {
     "data": {
      "text/plain": "[[0.0019935283344238997, 0.9980065226554871]]"
     },
     "execution_count": 14,
     "metadata": {},
     "output_type": "execute_result"
    }
   ],
   "source": [
    "detector = transformers.AutoModelForSequenceClassification.from_pretrained(model_uncleaned_dataset).to(\"cuda\")\n",
    "tokenizer = transformers.AutoTokenizer.from_pretrained(model_uncleaned_dataset)\n",
    "tokenized = tokenizer(example_llm_not_cleaned, padding=True, truncation=True, max_length=512,\n",
    "                      return_tensors=\"pt\").to(\"cuda\")\n",
    "_prediction = detector(**tokenized).logits.softmax(-1).tolist()\n",
    "_prediction"
   ],
   "metadata": {
    "collapsed": false,
    "ExecuteTime": {
     "end_time": "2025-09-09T13:26:06.792590300Z",
     "start_time": "2025-09-09T13:26:06.302297100Z"
    }
   },
   "id": "3aca9f18fef5488a"
  },
  {
   "cell_type": "code",
   "execution_count": 15,
   "outputs": [
    {
     "data": {
      "text/plain": "[0.08858197927474976, 0.911418080329895]"
     },
     "execution_count": 15,
     "metadata": {},
     "output_type": "execute_result"
    }
   ],
   "source": [
    "tokenized = tokenizer(example_llm_cleaned, padding=True, truncation=True, max_length=512,\n",
    "                      return_tensors=\"pt\").to(\"cuda\")\n",
    "_prediction = detector(**tokenized).logits.softmax(-1).tolist()[0]\n",
    "_prediction"
   ],
   "metadata": {
    "collapsed": false,
    "ExecuteTime": {
     "end_time": "2025-09-09T13:26:06.808415500Z",
     "start_time": "2025-09-09T13:26:06.792590300Z"
    }
   },
   "id": "3439e3cba055e0d1"
  },
  {
   "cell_type": "code",
   "execution_count": 16,
   "outputs": [
    {
     "data": {
      "text/plain": "0.0037773523945361376"
     },
     "execution_count": 16,
     "metadata": {},
     "output_type": "execute_result"
    }
   ],
   "source": [
    "detector_cleaned = transformers.AutoModelForSequenceClassification.from_pretrained(model_cleaned_dataset).to(\"cuda\")\n",
    "tokenizer_cleaned = transformers.AutoTokenizer.from_pretrained(model_cleaned_dataset)\n",
    "tokenized = tokenizer_cleaned(example_llm_not_cleaned, padding=True, truncation=True, max_length=512,\n",
    "                              return_tensors=\"pt\").to(\"cuda\")\n",
    "_prediction = detector_cleaned(**tokenized).logits.softmax(-1)[:, 0].tolist()[0]\n",
    "_prediction"
   ],
   "metadata": {
    "collapsed": false,
    "ExecuteTime": {
     "end_time": "2025-09-09T13:26:07.181793800Z",
     "start_time": "2025-09-09T13:26:06.792590300Z"
    }
   },
   "id": "a75d5377975691ee"
  },
  {
   "cell_type": "code",
   "execution_count": 17,
   "outputs": [
    {
     "name": "stdout",
     "output_type": "stream",
     "text": [
      "[[0.9976292252540588, 0.0023708133958280087]] [[0.9971010088920593, 0.0028989289421588182]]\n"
     ]
    }
   ],
   "source": [
    "print(TrainRobertaHelper.predict_example(_example=example_human_cleaned, _detector=detector, _tokenizer=tokenizer),\n",
    "      TrainRobertaHelper.predict_example(_example=example_human_cleaned, _detector=detector_cleaned, _tokenizer=tokenizer_cleaned))"
   ],
   "metadata": {
    "collapsed": false,
    "ExecuteTime": {
     "end_time": "2025-09-09T13:26:07.253801300Z",
     "start_time": "2025-09-09T13:26:07.181793800Z"
    }
   },
   "id": "6cd48d03fedad4d"
  },
  {
   "cell_type": "code",
   "execution_count": 18,
   "outputs": [
    {
     "name": "stdout",
     "output_type": "stream",
     "text": [
      "[[0.5029028654098511, 0.4970971643924713]] [[0.9970930814743042, 0.0029069383163005114]]\n"
     ]
    }
   ],
   "source": [
    "print(TrainRobertaHelper.predict_example(tokenizer, detector,\n",
    "                                         \"Here is a 6 sentence abstract for the provided article title: \" + example_human_cleaned),\n",
    "      TrainRobertaHelper.predict_example(tokenizer_cleaned, detector_cleaned,\n",
    "                                         \"Here is a 6 sentence abstract for the provided article title:\" + example_human_cleaned))"
   ],
   "metadata": {
    "collapsed": false,
    "ExecuteTime": {
     "end_time": "2025-09-09T13:26:07.288105700Z",
     "start_time": "2025-09-09T13:26:07.221596600Z"
    }
   },
   "id": "314af6b1432bf96e"
  },
  {
   "cell_type": "code",
   "execution_count": 19,
   "outputs": [
    {
     "name": "stdout",
     "output_type": "stream",
     "text": [
      "[[0.4383700489997864, 0.5616299510002136]] [[0.9970946311950684, 0.002905398840084672]]\n"
     ]
    }
   ],
   "source": [
    "print(TrainRobertaHelper.predict_example(tokenizer, detector,\n",
    "                                         \"Here is a 7 sentence abstract for the provided article title: \" + example_human_cleaned),\n",
    "      TrainRobertaHelper.predict_example(tokenizer_cleaned, detector_cleaned,\n",
    "                                         \"Here is a 7 sentence abstract for the provided article title:\" + example_human_cleaned))"
   ],
   "metadata": {
    "collapsed": false,
    "ExecuteTime": {
     "end_time": "2025-09-09T13:26:07.317198500Z",
     "start_time": "2025-09-09T13:26:07.284075500Z"
    }
   },
   "id": "6590976b0dbdd2f9"
  },
  {
   "cell_type": "code",
   "execution_count": 20,
   "outputs": [],
   "source": [
    "averages: list = []\n",
    "test_df_human = test_df_claude[test_df_claude[\"label\"] == \"human\"]\n",
    "for i in range(len(test_df_human)):\n",
    "    example_human_cleaned = test_df_human.iloc[i].text\n",
    "    attack_cleaned = \"Here is a 7 sentence abstract for the provided article title: \" + example_human_cleaned\n",
    "    averages.append({\"original\": TrainRobertaHelper.predict_example(tokenizer, detector, attack_cleaned)[0],\n",
    "                     \"cleaned\": TrainRobertaHelper.predict_example(tokenizer_cleaned, detector_cleaned, attack_cleaned)[\n",
    "                         0], \"text\": attack_cleaned})\n",
    "\n",
    "result = pd.DataFrame(averages)"
   ],
   "metadata": {
    "collapsed": false,
    "ExecuteTime": {
     "end_time": "2025-09-09T13:26:29.501554800Z",
     "start_time": "2025-09-09T13:26:07.317198500Z"
    }
   },
   "id": "d794644554c8f6ed"
  },
  {
   "cell_type": "code",
   "execution_count": 21,
   "outputs": [
    {
     "data": {
      "text/plain": "       pred_human_cleaned_attacked  pred_human_orginal_attacked\ncount                   560.000000                   560.000000\nmean                      0.965904                     0.056307\nstd                       0.160239                     0.120665\nmin                       0.003415                     0.002094\n25%                       0.996223                     0.004993\n50%                       0.996675                     0.009762\n75%                       0.997002                     0.045985\nmax                       0.997491                     0.850058",
      "text/html": "<div>\n<style scoped>\n    .dataframe tbody tr th:only-of-type {\n        vertical-align: middle;\n    }\n\n    .dataframe tbody tr th {\n        vertical-align: top;\n    }\n\n    .dataframe thead th {\n        text-align: right;\n    }\n</style>\n<table border=\"1\" class=\"dataframe\">\n  <thead>\n    <tr style=\"text-align: right;\">\n      <th></th>\n      <th>pred_human_cleaned_attacked</th>\n      <th>pred_human_orginal_attacked</th>\n    </tr>\n  </thead>\n  <tbody>\n    <tr>\n      <th>count</th>\n      <td>560.000000</td>\n      <td>560.000000</td>\n    </tr>\n    <tr>\n      <th>mean</th>\n      <td>0.965904</td>\n      <td>0.056307</td>\n    </tr>\n    <tr>\n      <th>std</th>\n      <td>0.160239</td>\n      <td>0.120665</td>\n    </tr>\n    <tr>\n      <th>min</th>\n      <td>0.003415</td>\n      <td>0.002094</td>\n    </tr>\n    <tr>\n      <th>25%</th>\n      <td>0.996223</td>\n      <td>0.004993</td>\n    </tr>\n    <tr>\n      <th>50%</th>\n      <td>0.996675</td>\n      <td>0.009762</td>\n    </tr>\n    <tr>\n      <th>75%</th>\n      <td>0.997002</td>\n      <td>0.045985</td>\n    </tr>\n    <tr>\n      <th>max</th>\n      <td>0.997491</td>\n      <td>0.850058</td>\n    </tr>\n  </tbody>\n</table>\n</div>"
     },
     "execution_count": 21,
     "metadata": {},
     "output_type": "execute_result"
    }
   ],
   "source": [
    "result[\"pred_human_orginal_attacked\"] = result.original.apply(lambda x: x[0])\n",
    "result[\"pred_human_cleaned_attacked\"] = result.cleaned.apply(lambda x: x[0])\n",
    "\n",
    "result[[\"pred_human_cleaned_attacked\", \"pred_human_orginal_attacked\"]].describe()"
   ],
   "metadata": {
    "collapsed": false,
    "ExecuteTime": {
     "end_time": "2025-09-09T13:26:29.522927800Z",
     "start_time": "2025-09-09T13:26:29.501554800Z"
    }
   },
   "id": "7ed542b9d4c7e33e"
  },
  {
   "cell_type": "code",
   "execution_count": 22,
   "outputs": [
    {
     "data": {
      "text/plain": "pred_human_cleaned_attacked\nTrue     544\nFalse     16\nName: count, dtype: int64"
     },
     "execution_count": 22,
     "metadata": {},
     "output_type": "execute_result"
    }
   ],
   "source": [
    "(result[\"pred_human_cleaned_attacked\"] > 0.5).value_counts()"
   ],
   "metadata": {
    "collapsed": false,
    "ExecuteTime": {
     "end_time": "2025-09-09T13:26:29.529965100Z",
     "start_time": "2025-09-09T13:26:29.517611800Z"
    }
   },
   "id": "e1c66a5acfb430ac"
  },
  {
   "cell_type": "code",
   "execution_count": 23,
   "outputs": [
    {
     "data": {
      "text/plain": "pred_human_orginal_attacked\nFalse    547\nTrue      13\nName: count, dtype: int64"
     },
     "execution_count": 23,
     "metadata": {},
     "output_type": "execute_result"
    }
   ],
   "source": [
    "(result[\"pred_human_orginal_attacked\"] > 0.5).value_counts()"
   ],
   "metadata": {
    "collapsed": false,
    "ExecuteTime": {
     "end_time": "2025-09-09T13:26:29.557973200Z",
     "start_time": "2025-09-09T13:26:29.526954800Z"
    }
   },
   "id": "48ab1a44595c01d0"
  },
  {
   "cell_type": "code",
   "execution_count": 24,
   "outputs": [
    {
     "name": "stdout",
     "output_type": "stream",
     "text": [
      "0.003414899343624711 \n",
      " Here is a 7 sentence abstract for the provided article title: As children we watched them. Lying on our backs in the grass we watched the stars, letting them dazzle and illuminate our minds. The peepers sang the song of spring and the sweet, crisp air told us that spring had finally come to us. But that was gone now. The pounding of our own hearts in our ears tore away any magic that could have been felt that night. We ran through the darkness like animals, our eyes straining to see what was before us. Shouts in the distance made us run faster as I clutched the bundle to my chest. Somewhere beside me he told me to run faster and when I tried to look at him I fell. Crumbling to the forest floor with my arms still wrapped tightly around my precious gift I felt the blood start to escape from my body. In the darkness my eyes strained to see him. He paused momentarily to look down on us before continuing to run. I knew it would come to that. I knew he would leave us. I was weak and useless now. \n",
      "\n",
      "\n",
      "0.004030299372971058 \n",
      " Here is a 7 sentence abstract for the provided article title: The Solani war vessel was helplessly lost when it crash landed on Earth with no survivors. It took us years to decipher their language and access their intact database. We learned that Earth was located in a DO NOT CONTACT zone. We feared they would return for their ship but for whatever reason they did not. The scientific knowledge in their computer was staggering. The entire world came together as we built the first ships and colonized the moon. The asteroid belt was mined clean and in the following decade the planets of our system were mined for resources as our first FTL ships scouted the nearby star systems, ever careful of giving ourselves away to those who might be watching. Building on their technology we became masters of stealth, perfecting ships that their most advanced sensor technology could not detect. Our first forays out of the buffer zone was in sending our stealthiest craft to capture nearby vessels, pulling them into the buffer zones like high tech trapdoor spiders. These pirated vessels were stripped and studied, their stunned crews interrogated. We learned their latest tech while we colonized every star system we could within the buffer. We used the resources to build an armada and spent the next decade training the best navy the galaxy had ever seen. Today, I stand on the bridge of the lead ship as admiral of the Terran Fleet. With nearly a million warships under my command I know they will not have seen us coming and they will learn a hard lesson about humans: we do not like to be ignored. \n",
      "\n",
      "\n",
      "0.004171567503362894 \n",
      " Here is a 7 sentence abstract for the provided article title: Not cold, as advertised, but an otherworldly touch. Starting in his toes and the very tips of his fingers there was the distinct feeling of nothing. Wholly unlike numbness, it was an acute sensation. He could actively feel the void that was occupying the fringes of his body. It crept inward. Like the heat of the day erasing a morning snow, the void melted the living tissue into a trickle of nothingness adding to the vacuum. The feeling had consumed most of his arms and legs and had begun to encompass his head. As it delved deeper, he got progressively duller. This new sensation, much like being sleepy, caused his thoughts to come much slower than normal and made him less attuned to his situation. At this point, much of his torso had been swallowed up. The void was encircling his heart. He no longer had any knowledge of his environment; he was just a body floating in blackness. He could feel his heart beating hard like a hammer in his chest as if trying to push back. The beating started to slow rapidly and then stop. As if this was its cue, a wave of darkness washed over his entire body, and he was no more. \n",
      "\n",
      "\n",
      "0.0066751595586538315 \n",
      " Here is a 7 sentence abstract for the provided article title: Day 1: Both Control and Variable groups were placed in similar arenas, filled with supplies and weapons designed to last a week. Both teams were given an hour to prepare shelter. Control group, now designated Group 1, constructed a simple wooden structure from the supplies given. Variable group, designated group 2, spent 48 minutes arguing amongst themselves. They placed a wooden plank against the Arena wall. Once the zombies were released, both groups utilized their weapons to exterminate the threat. Group 1 had quickly bonded with each other, and used communication to survive the day. Group 2 bickered endlessly amongst themselves, choosing rather to split up. In the first 2 hours, 3 of the 8 subjects were killed. *The record skips* Day 6: Group 1 has constructed an intricate system of underground tunnels and rooms. The group has taken up shelter underground, effectively surviving the entire week without a single death. Group 2 has lost 7 subjects, the lone survivor curretly hiding in a bush, armed with only a plastic sword. \n",
      "\n",
      "\n",
      "0.007008744403719902 \n",
      " Here is a 7 sentence abstract for the provided article title: I've looked up other hotels in the area and have decided upon the Omni. The Omni is very overrated. When we checked-in, they had a five day wedding celebration in progress. No bell captains available upon check-in. When we got up to the room, I was very surprised to see how outdated it was for the money. Ripped curtains, blown out light bulbs in bathroom. And most of the extra electrical outlets did not work. I had my cell phone charging, come to find out the outlet never worked. I switched it to another outlet, and, again, no charge. Upon my morning cup of coffee in the room, the mini creamers were sour. I called room service, and they never brought them up. Nor did they refresh the coffee station when they cleaned the room. No fresh creamers and two sugars for two days! I take my coffee serious. Lol. The second day in the morning starting at 7: 00 AM, I was woken by a pounding sound of music coming from the courtyard. This was the ritual going on for the wedding. It continued for two hours. If the wedding was going to be honored on the lower floors, they should have put the other guests on the upper floor to avoid all the commotion. The garbage cans on site were overflowing with garbage for two days. No one took the responsibility of emptying them. We paid good money for a nice, clean, quite break. Only to have nothing but a out of date room, tons of noise, and a unclean looking surrounding. Guests should have been forewarned of the wedding festivities when booking. Although, the staff was very accommodating, they weren't on a mini vacation, we were. The only thing we were offered was free coffee or a breakfast beverage in the morning! Also, be aware, if you don't join their rewards club, check your bill for a $9. 95 a day charge for Internet. We were really disappointed in this hotel and will not be returning at all. See attached pictures. \n",
      "\n",
      "\n",
      "0.0072817010805010796 \n",
      " Here is a 7 sentence abstract for the provided article title: A cold breeze passed over a crowd shouting slurs, touting terror, and pushing picket lines further toward those walking along the quiet grass of a graveyard. A few countries over, a man wholeheartedly invested in his convictions pulled a heavy coat over his body despite the heat, and clenched his hand around a metal trigger as he walked into an open marketplace. Somewhere else, skyscrapers illuminated the pavement with their endless lights, as a van squealed along a corner, tossing water along the edges of sidewalks as it barreled towards the life of downtown. For a long while now, He had contemplated the true state of the world, and what must be done; each of these were on the brink of happening, and yet they were among His faithful? Time was at a stand-still before Him, all realities coming to a halt as He pondered what may be done. Lifting a mighty hand, He parted the cloudy skies over a world entrenched in sorrow, and for a moment hesitated, but knew all would be understood. This was never a part of His plan, but neither was seeing His sole divine creation turn to a wasteland riddled with contempt and dread. The world would most definitely be better off, able to live in what He believed would be Earthly Paradise before those true to His lessons would be ushered to the Pearly Gates. In just a mere moment, the breeze carried away the shouts of the picket line, leaving only trampled grass; the heat was relieved by a sudden rain, droplets falling through a coat now vanished; a van rode onward into a quiet street, but never met with the pavement beyond it. \n",
      "\n",
      "\n",
      "0.008554233238101006 \n",
      " Here is a 7 sentence abstract for the provided article title: \" Here we go again, \" I sigh, seeing the white-night-orb raise from the edge-of-the-world. It had been strange, the first time, when he was with his first pack. Waking up in the cold-white with no coverings and the others looking at his not-right body. Since then, in the innumerable warmth to cold changes, it had become much more common. My legs twist first, their natural angle bent backwards, hair receding as the change progressed up my body, until I was bare on the forest floor again. My mind, as the humans called it, had retained most of the information I had gathered since my first night, and I had plenty of time to add to it. Granted the markings had changed from letters to their own unique system, and the pillars were replaced with grey and clear. I had the foresight to leave myself a pack for this, and hurriedly changed. While the nip in the air would not kill me, another seeing me with no coverings in winter would bring out... unwelcome attention. My plan was the same as every full moon, walk around the city that was beginning to encroach my forest, and I jinxed myself by believing the night would be mishap free. As it were and often is, there was another plan in place. The smell came first. While dulled, it was still sharper than most of my current-kin. Fear, especially, was potent enough to smell even among the cold smell of forest. Instinct kicked in, as I recognized it as the fear of something young. Something that, no matter what I looked like, was encoded in me to protect. I was already running toward the source when the scream made it easier to pinpoint. \n",
      "\n",
      "\n",
      "0.010010535828769207 \n",
      " Here is a 7 sentence abstract for the provided article title: When I made the appointment I told the person booking the appointment that it was related to my ankle (so they would hopefully assign me to a physician that was versed in that area). When I went for my appointment, however, I was told by the doctor who saw me that she was not an ankle specialist, and could I come back later that same day to see someone who was. As inconvenient as it was to do that (having to take time off work, twice in the same day), I went back. This new doctor, the \"ankle specialist\" examined me and basically said he wasn't  \"exactly sure\" what was wrong, could be one of any number of things, but he shot my ankle with cortisone in an effort to alleviate the pain. That relief lasted for two days, at which time I went to another practice (recommended by a co-worker) and took my x-rays from Carmel Foot Specialists. The new doctor told me that the x-rays were of \"such poor quality\" that there was no way anyone could make a diagnosis from them, adding \"it's typical for podiatrists to utilize poor imaging equipment\". The new doctor scheduled an MRI based on his exam and my symptoms, and I now have a diagnosis and a treatment plan--something that Carmel Foot Specialists was not able to provide, even after two separate visits, yet billed me over $500. What a waste of time. \n",
      "\n",
      "\n",
      "0.01049149688333273 \n",
      " Here is a 7 sentence abstract for the provided article title: It is a rather small museum consisting of a variety of Military and Commercial Aircraft's housed in a single hanger. The centerpiece of the Museum is the US Airway Airbus A320 which was force to crash land in the Hudson River after striking a flock of birds which disabled both engines. Everyone on-board US Airways Flight 1549 survived what has been described as \"The Miracle on the Hudson. \" While at the \"Flight 1549\" display be sure to watch the documentary presentation, which details the events of Flight 1549 from departure, the landing in the Hudson and the rescue. Also on display is a Douglas DC-3 that was flown by Piedmont Airlines and a DC-7, flown by Eastern Airlines. There are several Military Aircraft's also on Display including a Harrier Jump Jet and an F-14. The museum has a small gift shop with a number of Flight 1549 related items. I enjoy my visit to the  museum and would encourage anyone who has a long layover in Charlotte to visit the Carolinas Aviation Museum. \n",
      "\n",
      "\n",
      "0.013133724220097065 \n",
      " Here is a 7 sentence abstract for the provided article title: It started small. I posted an outlandish prediction on the Germany/US soccer game on reddit. It came true a few days later. The post got voted to the front page. Then I made a few joking comments on the forum about how the Iraqi conflict will end. It ended that way a week later. It was voted up again by the crowd. Some people connected the two posts and searched my posting history. It turns out ALL of my past prediction had came true. I am as surprised as anyone. From minor things like the price fluctuation of a 7/11 beef jerky, to major things like national elections and global conflicts. There was an internet manhunt to find out who I am, even TV news reported on it as a human interest story. There are a few nut jobs who seem unhealthily obsessed with me. To make the interest die down, I posted a few things that I knew would never happen. Peace in the middle east, democracy in China, purple rain over Washington. Now as I am writing this, all fighting have stopped in the middle east, Chinese people are heading to the polls, and an unusual weather pattern is causing rain over Washington to be tainted with purple algae. The world have found me. The CIA showed up first, followed by the believers who are chanting my username. \n"
     ]
    }
   ],
   "source": [
    "result.sort_values(by=[\"pred_human_cleaned_attacked\"], inplace=True)\n",
    "for _, item in result.iloc[:10].iterrows():\n",
    "    print(item[\"pred_human_cleaned_attacked\"], \"\\n\", item[\"text\"], \"\\n\\n\")"
   ],
   "metadata": {
    "collapsed": false,
    "ExecuteTime": {
     "end_time": "2025-09-09T13:26:29.690075400Z",
     "start_time": "2025-09-09T13:26:29.537147800Z"
    }
   },
   "id": "242984a2eb159ece"
  },
  {
   "cell_type": "code",
   "execution_count": 25,
   "outputs": [
    {
     "name": "stderr",
     "output_type": "stream",
     "text": [
      "/mnt/hdd-baracuda/pdingfelder/mt_philipp_dingfelder_generated_text_detection/.venv/lib/python3.12/site-packages/torch/nn/modules/module.py:1762: FutureWarning: `encoder_attention_mask` is deprecated and will be removed in version 4.55.0 for `RobertaSdpaSelfAttention.forward`.\n",
      "  return forward_call(*args, **kwargs)\n"
     ]
    },
    {
     "data": {
      "text/plain": "[0.002206467790529132, 0.9977935552597046]"
     },
     "execution_count": 25,
     "metadata": {},
     "output_type": "execute_result"
    }
   ],
   "source": [
    "TrainRobertaHelper.predict_example(tokenizer, detector, result.text.iloc[2])[0]"
   ],
   "metadata": {
    "collapsed": false,
    "ExecuteTime": {
     "end_time": "2025-09-09T13:26:29.690075400Z",
     "start_time": "2025-09-09T13:26:29.580514200Z"
    }
   },
   "id": "e31b266575220818"
  }
 ],
 "metadata": {
  "kernelspec": {
   "display_name": "Python 3",
   "language": "python",
   "name": "python3"
  },
  "language_info": {
   "codemirror_mode": {
    "name": "ipython",
    "version": 2
   },
   "file_extension": ".py",
   "mimetype": "text/x-python",
   "name": "python",
   "nbconvert_exporter": "python",
   "pygments_lexer": "ipython2",
   "version": "2.7.6"
  }
 },
 "nbformat": 4,
 "nbformat_minor": 5
}
